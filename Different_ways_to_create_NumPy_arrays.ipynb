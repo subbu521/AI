{
  "nbformat": 4,
  "nbformat_minor": 0,
  "metadata": {
    "colab": {
      "name": "Different ways to create NumPy arrays.ipynb",
      "provenance": [],
      "collapsed_sections": [],
      "authorship_tag": "ABX9TyN7lOq9zt3O8+kljxtOkdrR",
      "include_colab_link": true
    },
    "kernelspec": {
      "name": "python3",
      "display_name": "Python 3"
    }
  },
  "cells": [
    {
      "cell_type": "markdown",
      "metadata": {
        "id": "view-in-github",
        "colab_type": "text"
      },
      "source": [
        "<a href=\"https://colab.research.google.com/github/bhargav23/AI/blob/master/Lab/Different_ways_to_create_NumPy_arrays.ipynb\" target=\"_parent\"><img src=\"https://colab.research.google.com/assets/colab-badge.svg\" alt=\"Open In Colab\"/></a>"
      ]
    },
    {
      "cell_type": "markdown",
      "metadata": {
        "id": "rbh61WBvx8CN",
        "colab_type": "text"
      },
      "source": [
        "#In this lecture\n",
        "* Numpy\n",
        "* Creating an array\n",
        "* Generating arrays using built in functions\n",
        "* Advantages of Numpy"
      ]
    },
    {
      "cell_type": "markdown",
      "metadata": {
        "id": "iKiAD9Ohd_-X",
        "colab_type": "text"
      },
      "source": [
        "# Numpy\n",
        "* Numpy stands for numerical python\n",
        "* Fundamental package for numerical\n",
        "computations in Python\n",
        "* Supports N dimensional array objects\n",
        "that can be used for processing multi\n",
        "dimensional data\n",
        "* Supports different data types\n",
        "\n"
      ]
    },
    {
      "cell_type": "markdown",
      "metadata": {
        "id": "6GgdZx1EeQST",
        "colab_type": "text"
      },
      "source": [
        "# Using Numpy we can perform\n",
        "* Mathematical and logical operations on arrays\n",
        "* Fourier transforms\n",
        "* Linear algebra operations\n",
        "* Random number generation"
      ]
    },
    {
      "cell_type": "markdown",
      "metadata": {
        "id": "k3tN39IQehY3",
        "colab_type": "text"
      },
      "source": [
        "# Arrays\n",
        "## Create an array\n",
        "* Ordered collection of elements of basic data types of given\n",
        "length\n",
        "* Syntax: numpy.array(object)"
      ]
    },
    {
      "cell_type": "code",
      "metadata": {
        "id": "mf6bOPrqexpP",
        "colab_type": "code",
        "colab": {}
      },
      "source": [
        "import numpy as np"
      ],
      "execution_count": 0,
      "outputs": []
    },
    {
      "cell_type": "code",
      "metadata": {
        "id": "j5TMQxrrdkjt",
        "colab_type": "code",
        "colab": {}
      },
      "source": [
        "x = np.array([2,3,4,5])"
      ],
      "execution_count": 0,
      "outputs": []
    },
    {
      "cell_type": "code",
      "metadata": {
        "id": "UnyHF-aXfEoK",
        "colab_type": "code",
        "colab": {
          "base_uri": "https://localhost:8080/",
          "height": 34
        },
        "outputId": "016b5973-5a4a-4632-a429-c73e31afbdfd"
      },
      "source": [
        "type(x)"
      ],
      "execution_count": 3,
      "outputs": [
        {
          "output_type": "execute_result",
          "data": {
            "text/plain": [
              "numpy.ndarray"
            ]
          },
          "metadata": {
            "tags": []
          },
          "execution_count": 3
        }
      ]
    },
    {
      "cell_type": "code",
      "metadata": {
        "id": "62TIcWe0fKXu",
        "colab_type": "code",
        "colab": {
          "base_uri": "https://localhost:8080/",
          "height": 34
        },
        "outputId": "b692ec42-43ef-421c-922e-6613d555ce80"
      },
      "source": [
        "print(x)"
      ],
      "execution_count": 4,
      "outputs": [
        {
          "output_type": "stream",
          "text": [
            "[2 3 4 5]\n"
          ],
          "name": "stdout"
        }
      ]
    },
    {
      "cell_type": "markdown",
      "metadata": {
        "id": "x58sMgdnfbd5",
        "colab_type": "text"
      },
      "source": [
        "### Numpy can handle different categorical entities"
      ]
    },
    {
      "cell_type": "code",
      "metadata": {
        "id": "9IyEvTEzfMrZ",
        "colab_type": "code",
        "colab": {}
      },
      "source": [
        "x = np.array([2,3,'n',5])"
      ],
      "execution_count": 0,
      "outputs": []
    },
    {
      "cell_type": "code",
      "metadata": {
        "id": "4y4MKvQHfnjU",
        "colab_type": "code",
        "colab": {
          "base_uri": "https://localhost:8080/",
          "height": 34
        },
        "outputId": "8cc36d95-d0ae-4fc5-c038-868b0c1bf8dd"
      },
      "source": [
        "print(x) #All elements are coerced to same data type"
      ],
      "execution_count": 7,
      "outputs": [
        {
          "output_type": "stream",
          "text": [
            "['2' '3' 'n' '5']\n"
          ],
          "name": "stdout"
        }
      ]
    },
    {
      "cell_type": "markdown",
      "metadata": {
        "id": "QK3shTzMf9uL",
        "colab_type": "text"
      },
      "source": [
        "# Generate arrays\n",
        "* **numpy.linspace()** - numpy.linspace returns equally spaced numbers within the\n",
        "given range based on the sample number\n",
        "* **Syntax:** numpy.linspace(start,stop,num,dtype,retstep)\n",
        "* **start** start of interval range\n",
        "* **stop** end of interval range\n",
        "* **num** number of samples to be generated\n",
        "* **dtype** type of output array\n",
        "* **retstep** return the samples, step value"
      ]
    },
    {
      "cell_type": "markdown",
      "metadata": {
        "id": "4ugVc3UQnAah",
        "colab_type": "text"
      },
      "source": [
        "**Generate an array b with start=1 and stop=5**\n"
      ]
    },
    {
      "cell_type": "code",
      "metadata": {
        "id": "HMXKKYPPf2MQ",
        "colab_type": "code",
        "colab": {
          "base_uri": "https://localhost:8080/",
          "height": 51
        },
        "outputId": "68315b42-1af6-41ff-a762-4f592dbd3346"
      },
      "source": [
        "b=np.linspace(start=1, stop=5, num=10, endpoint=True, retstep =False) \n",
        "b"
      ],
      "execution_count": 8,
      "outputs": [
        {
          "output_type": "execute_result",
          "data": {
            "text/plain": [
              "array([1.        , 1.44444444, 1.88888889, 2.33333333, 2.77777778,\n",
              "       3.22222222, 3.66666667, 4.11111111, 4.55555556, 5.        ])"
            ]
          },
          "metadata": {
            "tags": []
          },
          "execution_count": 8
        }
      ]
    },
    {
      "cell_type": "markdown",
      "metadata": {
        "id": "vstoEbftncuD",
        "colab_type": "text"
      },
      "source": [
        "**Specifying retstep=True returns samples as well the step value** "
      ]
    },
    {
      "cell_type": "code",
      "metadata": {
        "id": "gphCPK5PnKHr",
        "colab_type": "code",
        "colab": {
          "base_uri": "https://localhost:8080/",
          "height": 68
        },
        "outputId": "6349a2cb-34bf-48e7-90d3-00bc943cb772"
      },
      "source": [
        "c=np.linspace(start=1, stop=5, num=10, endpoint=True,retstep =True)\n",
        "c"
      ],
      "execution_count": 9,
      "outputs": [
        {
          "output_type": "execute_result",
          "data": {
            "text/plain": [
              "(array([1.        , 1.44444444, 1.88888889, 2.33333333, 2.77777778,\n",
              "        3.22222222, 3.66666667, 4.11111111, 4.55555556, 5.        ]),\n",
              " 0.4444444444444444)"
            ]
          },
          "metadata": {
            "tags": []
          },
          "execution_count": 9
        }
      ]
    },
    {
      "cell_type": "markdown",
      "metadata": {
        "id": "g4HTbIXwn9Px",
        "colab_type": "text"
      },
      "source": [
        "* **numpy.arange( )**- returns equally spaced numbers with in the given range based on step size \n",
        "* **Syntax:** numpy.arange(start, stop, step) \n",
        "* **start** - start of interval range \n",
        "* **stop** - end of interval range \n",
        "* **step** - step size of interval "
      ]
    },
    {
      "cell_type": "markdown",
      "metadata": {
        "id": "uYq9mPeBo5l_",
        "colab_type": "text"
      },
      "source": [
        "**Generate an array with start=1 and stop=10 by specifying\n",
        "step=2**"
      ]
    },
    {
      "cell_type": "code",
      "metadata": {
        "id": "lU5RC2hWo5FJ",
        "colab_type": "code",
        "colab": {
          "base_uri": "https://localhost:8080/",
          "height": 34
        },
        "outputId": "bbabcb9b-d165-473e-fc31-a520ea70f0a1"
      },
      "source": [
        "d = np.arange(start = 1, stop = 10, step = 2)\n",
        "d"
      ],
      "execution_count": 10,
      "outputs": [
        {
          "output_type": "execute_result",
          "data": {
            "text/plain": [
              "array([1, 3, 5, 7, 9])"
            ]
          },
          "metadata": {
            "tags": []
          },
          "execution_count": 10
        }
      ]
    },
    {
      "cell_type": "markdown",
      "metadata": {
        "id": "V692sPRbpVDV",
        "colab_type": "text"
      },
      "source": [
        "#Generate arrays using ones( )\n",
        "* numpy.ones ( )- returns an array of given shape and type filled with ones \n",
        "* Syntax: numpy . ones ( shape, dtype) \n",
        "* shape - integer or sequence of integers \n",
        "* dtype - data type (default float) "
      ]
    },
    {
      "cell_type": "code",
      "metadata": {
        "id": "Cvzp07tapR-2",
        "colab_type": "code",
        "colab": {
          "base_uri": "https://localhost:8080/",
          "height": 68
        },
        "outputId": "ad67f9ea-3aab-41c0-ab8b-d5c1551988a8"
      },
      "source": [
        "np.ones([3,4])"
      ],
      "execution_count": 11,
      "outputs": [
        {
          "output_type": "execute_result",
          "data": {
            "text/plain": [
              "array([[1., 1., 1., 1.],\n",
              "       [1., 1., 1., 1.],\n",
              "       [1., 1., 1., 1.]])"
            ]
          },
          "metadata": {
            "tags": []
          },
          "execution_count": 11
        }
      ]
    },
    {
      "cell_type": "markdown",
      "metadata": {
        "id": "-_SIny6VqD6O",
        "colab_type": "text"
      },
      "source": [
        "#Generate arrays using zeros( )\n",
        "* nuripy.zeros ( )- returns an array of given shape and type filled with zeros \n",
        "* Syntax: numpy . zeros ( shapL, dtype) \n",
        "* shape - integer or sequence of integers \n",
        "* dtype - data type (default float) "
      ]
    },
    {
      "cell_type": "code",
      "metadata": {
        "id": "33j4xyrdnD7e",
        "colab_type": "code",
        "colab": {
          "base_uri": "https://localhost:8080/",
          "height": 68
        },
        "outputId": "958ea9b2-f0e6-48f3-ef30-0eda3f290b58"
      },
      "source": [
        "np.zeros([3,4])"
      ],
      "execution_count": 11,
      "outputs": [
        {
          "output_type": "execute_result",
          "data": {
            "text/plain": [
              "array([[0., 0., 0., 0.],\n",
              "       [0., 0., 0., 0.],\n",
              "       [0., 0., 0., 0.]])"
            ]
          },
          "metadata": {
            "tags": []
          },
          "execution_count": 11
        }
      ]
    },
    {
      "cell_type": "markdown",
      "metadata": {
        "id": "VHWq-IR2qOWR",
        "colab_type": "text"
      },
      "source": [
        "#Generate arrays using random.rand ()\n",
        "* numpy. random. rand( )- returns an array of given shape filled with random values \n",
        "* Syntax: numpy. random. rand ( shape) \n",
        "* shape - integer or sequence of integers \n"
      ]
    },
    {
      "cell_type": "code",
      "metadata": {
        "id": "OtsLfEpaqN2i",
        "colab_type": "code",
        "colab": {}
      },
      "source": [
        "x = np.random.rand(5)*1000"
      ],
      "execution_count": 0,
      "outputs": []
    },
    {
      "cell_type": "code",
      "metadata": {
        "id": "ONugn80u5eu_",
        "colab_type": "code",
        "colab": {
          "base_uri": "https://localhost:8080/",
          "height": 34
        },
        "outputId": "dd47deee-ecbe-49f0-b3ac-1585f11f75db"
      },
      "source": [
        "x.astype(int)"
      ],
      "execution_count": 19,
      "outputs": [
        {
          "output_type": "execute_result",
          "data": {
            "text/plain": [
              "array([185, 771, 768, 387, 381])"
            ]
          },
          "metadata": {
            "tags": []
          },
          "execution_count": 19
        }
      ]
    },
    {
      "cell_type": "markdown",
      "metadata": {
        "id": "-zvLTpluqrLT",
        "colab_type": "text"
      },
      "source": [
        "**Generate an array of random values with 5 rows and 2 columns**"
      ]
    },
    {
      "cell_type": "code",
      "metadata": {
        "id": "yA7OGH11qIjH",
        "colab_type": "code",
        "colab": {
          "base_uri": "https://localhost:8080/",
          "height": 102
        },
        "outputId": "0df8eab8-81fb-4c92-b427-809f07c62fd7"
      },
      "source": [
        "np.random.rand(5,2)"
      ],
      "execution_count": 13,
      "outputs": [
        {
          "output_type": "execute_result",
          "data": {
            "text/plain": [
              "array([[0.59690496, 0.33619784],\n",
              "       [0.09873968, 0.65557995],\n",
              "       [0.69291961, 0.17374889],\n",
              "       [0.60152477, 0.56589472],\n",
              "       [0.84255231, 0.21039797]])"
            ]
          },
          "metadata": {
            "tags": []
          },
          "execution_count": 13
        }
      ]
    },
    {
      "cell_type": "code",
      "metadata": {
        "id": "BbQ-3FsT5vSC",
        "colab_type": "code",
        "colab": {}
      },
      "source": [
        "y = np.random.rand(5,2)\n",
        "y = y*100"
      ],
      "execution_count": 0,
      "outputs": []
    },
    {
      "cell_type": "code",
      "metadata": {
        "id": "XOz6wWON5xj6",
        "colab_type": "code",
        "colab": {
          "base_uri": "https://localhost:8080/",
          "height": 102
        },
        "outputId": "f97ff73b-9e65-47bc-a9d9-439c2e8902e8"
      },
      "source": [
        "y.astype(int)"
      ],
      "execution_count": 23,
      "outputs": [
        {
          "output_type": "execute_result",
          "data": {
            "text/plain": [
              "array([[96, 82],\n",
              "       [12, 11],\n",
              "       [30, 74],\n",
              "       [99, 51],\n",
              "       [76, 74]])"
            ]
          },
          "metadata": {
            "tags": []
          },
          "execution_count": 23
        }
      ]
    },
    {
      "cell_type": "markdown",
      "metadata": {
        "id": "TIj3faAgq30o",
        "colab_type": "text"
      },
      "source": [
        "# Generate arrays using logspace()\n",
        "* numpy. logspace( )- returns equally spaced numbers based on log scale \n",
        "* Syntax: numpy. logspace( start, stop, num, endpoint, base, dtype) \n",
        "* start - start value of the sequence \n",
        "* stop - end value of the sequence \n",
        "* num - number of samples to generate (default : 50) \n",
        "* endpoint- if true, stop is the last sample \n",
        "* base - base of the log space (default : 10.0) \n",
        "* dtype- type of output array \n",
        "\n",
        "**Generate an array with 5 samples with base 10.0**\n"
      ]
    },
    {
      "cell_type": "code",
      "metadata": {
        "id": "Pid98VJkqx1F",
        "colab_type": "code",
        "colab": {
          "base_uri": "https://localhost:8080/",
          "height": 51
        },
        "outputId": "db959abf-1281-49d9-a5e7-967e52f87e45"
      },
      "source": [
        "np.logspace(1,10,num =5, endpoint=True,base=10.0)"
      ],
      "execution_count": 24,
      "outputs": [
        {
          "output_type": "execute_result",
          "data": {
            "text/plain": [
              "array([1.00000000e+01, 1.77827941e+03, 3.16227766e+05, 5.62341325e+07,\n",
              "       1.00000000e+10])"
            ]
          },
          "metadata": {
            "tags": []
          },
          "execution_count": 24
        }
      ]
    },
    {
      "cell_type": "markdown",
      "metadata": {
        "id": "KnO2Ve_PtHI6",
        "colab_type": "text"
      },
      "source": [
        "# Advantages of numpy\n",
        "* Numpy supports vectorized operations\n",
        "* Array operations are carried out in\n",
        "C and hence the universal functions\n",
        "in numpy are faster than operations\n",
        "carried out on python lists\n",
        "\n",
        "## Advantages of numpy - speed\n",
        "* **timeit** module can be used to measure the execution time for snippets of code\n",
        "* Comparing the processing speed of a list and an array using an addition operation\n",
        "\n",
        "**Creating a list**"
      ]
    },
    {
      "cell_type": "code",
      "metadata": {
        "id": "ctneukUetjMO",
        "colab_type": "code",
        "colab": {}
      },
      "source": [
        "x = range(1000)"
      ],
      "execution_count": 0,
      "outputs": []
    },
    {
      "cell_type": "code",
      "metadata": {
        "id": "vwq2zNFTtDBI",
        "colab_type": "code",
        "colab": {
          "base_uri": "https://localhost:8080/",
          "height": 34
        },
        "outputId": "e826c671-c159-450f-c06c-ba4920fee3b2"
      },
      "source": [
        "timeit sum(x)"
      ],
      "execution_count": 26,
      "outputs": [
        {
          "output_type": "stream",
          "text": [
            "100000 loops, best of 3: 14.2 µs per loop\n"
          ],
          "name": "stdout"
        }
      ]
    },
    {
      "cell_type": "markdown",
      "metadata": {
        "id": "D3mjAOLGuNoC",
        "colab_type": "text"
      },
      "source": [
        "**Creating a numpy array**"
      ]
    },
    {
      "cell_type": "code",
      "metadata": {
        "id": "CyZRqhVMuD7H",
        "colab_type": "code",
        "colab": {}
      },
      "source": [
        "y = np.arange(1000)"
      ],
      "execution_count": 0,
      "outputs": []
    },
    {
      "cell_type": "code",
      "metadata": {
        "id": "TXK0lhY7uVuD",
        "colab_type": "code",
        "colab": {
          "base_uri": "https://localhost:8080/",
          "height": 51
        },
        "outputId": "09fa436f-12b6-4580-edb5-bb306d1c3468"
      },
      "source": [
        "timeit np.sum(y)"
      ],
      "execution_count": 28,
      "outputs": [
        {
          "output_type": "stream",
          "text": [
            "The slowest run took 149.80 times longer than the fastest. This could mean that an intermediate result is being cached.\n",
            "100000 loops, best of 3: 5.11 µs per loop\n"
          ],
          "name": "stdout"
        }
      ]
    },
    {
      "cell_type": "markdown",
      "metadata": {
        "id": "697tBg7QusO2",
        "colab_type": "text"
      },
      "source": [
        "## Advantages of numpy - storage space\n",
        "* Comparing the list x and array y from the previous example to find the memory used at the run time \n",
        "* getsizeof()- returns the size of the object in bytes \n",
        "* Syntax: sys.getsizeof(object) \n",
        "* itemsize- returns the size if one element of a numpy array \n",
        "* Syntax: numpy.ndarray.itemsize \n",
        "\n",
        "**Size of the list can be found by multiplying the size of an individual element with the number of elements in the list**"
      ]
    },
    {
      "cell_type": "code",
      "metadata": {
        "id": "125LTPv1uZKJ",
        "colab_type": "code",
        "colab": {}
      },
      "source": [
        "import sys"
      ],
      "execution_count": 0,
      "outputs": []
    },
    {
      "cell_type": "code",
      "metadata": {
        "id": "6Ti2C6t87hgd",
        "colab_type": "code",
        "colab": {
          "base_uri": "https://localhost:8080/",
          "height": 34
        },
        "outputId": "516b0e01-0bb1-4a4e-9356-27daa533318e"
      },
      "source": [
        "len(x)"
      ],
      "execution_count": 30,
      "outputs": [
        {
          "output_type": "execute_result",
          "data": {
            "text/plain": [
              "1000"
            ]
          },
          "metadata": {
            "tags": []
          },
          "execution_count": 30
        }
      ]
    },
    {
      "cell_type": "code",
      "metadata": {
        "id": "bMbAnGeT7j5c",
        "colab_type": "code",
        "colab": {
          "base_uri": "https://localhost:8080/",
          "height": 34
        },
        "outputId": "d1c1ae35-cc0c-42c0-dccb-2869fd4993c2"
      },
      "source": [
        "sys.getsizeof(1)"
      ],
      "execution_count": 31,
      "outputs": [
        {
          "output_type": "execute_result",
          "data": {
            "text/plain": [
              "28"
            ]
          },
          "metadata": {
            "tags": []
          },
          "execution_count": 31
        }
      ]
    },
    {
      "cell_type": "code",
      "metadata": {
        "id": "VwruDaz9wpPk",
        "colab_type": "code",
        "colab": {
          "base_uri": "https://localhost:8080/",
          "height": 34
        },
        "outputId": "a7395857-fe65-4e35-b722-bc73fb52f107"
      },
      "source": [
        "sys.getsizeof(1)*len(x)"
      ],
      "execution_count": 32,
      "outputs": [
        {
          "output_type": "execute_result",
          "data": {
            "text/plain": [
              "28000"
            ]
          },
          "metadata": {
            "tags": []
          },
          "execution_count": 32
        }
      ]
    },
    {
      "cell_type": "markdown",
      "metadata": {
        "id": "sP9psWjpw5he",
        "colab_type": "text"
      },
      "source": [
        "**Size of an array can be found by multiplying the size of an individual element with number of elements in the array**"
      ]
    },
    {
      "cell_type": "code",
      "metadata": {
        "id": "ZLvUmWhP7tfU",
        "colab_type": "code",
        "colab": {
          "base_uri": "https://localhost:8080/",
          "height": 34
        },
        "outputId": "31a9ac4f-f3b3-43c4-d568-d904e3d1f3e7"
      },
      "source": [
        "y.itemsize"
      ],
      "execution_count": 33,
      "outputs": [
        {
          "output_type": "execute_result",
          "data": {
            "text/plain": [
              "8"
            ]
          },
          "metadata": {
            "tags": []
          },
          "execution_count": 33
        }
      ]
    },
    {
      "cell_type": "code",
      "metadata": {
        "id": "rowcXHVS7xas",
        "colab_type": "code",
        "colab": {
          "base_uri": "https://localhost:8080/",
          "height": 34
        },
        "outputId": "65eb1c86-3cff-48be-c437-278afe037eb3"
      },
      "source": [
        "y.size"
      ],
      "execution_count": 34,
      "outputs": [
        {
          "output_type": "execute_result",
          "data": {
            "text/plain": [
              "1000"
            ]
          },
          "metadata": {
            "tags": []
          },
          "execution_count": 34
        }
      ]
    },
    {
      "cell_type": "code",
      "metadata": {
        "id": "Hw5kjMD1wsM-",
        "colab_type": "code",
        "colab": {
          "base_uri": "https://localhost:8080/",
          "height": 34
        },
        "outputId": "3515ecaa-09e4-41d5-8cf4-0c245ad1d3e9"
      },
      "source": [
        "y.itemsize * y.size"
      ],
      "execution_count": 35,
      "outputs": [
        {
          "output_type": "execute_result",
          "data": {
            "text/plain": [
              "8000"
            ]
          },
          "metadata": {
            "tags": []
          },
          "execution_count": 35
        }
      ]
    },
    {
      "cell_type": "markdown",
      "metadata": {
        "id": "LdJQdmurxNts",
        "colab_type": "text"
      },
      "source": [
        "**Note that numpy array uses less bytes for storage than the\n",
        "python list.**"
      ]
    },
    {
      "cell_type": "markdown",
      "metadata": {
        "id": "JbQEqS_WxZPV",
        "colab_type": "text"
      },
      "source": [
        "#Summary\n",
        "* Create array\n",
        "* Generate arrays using functions\n",
        "  * linspace\n",
        "  * arange\n",
        "  * ones\n",
        "  * zeros\n",
        "  * random rand\n",
        "  * logspace\n",
        "* Advantages of numpy"
      ]
    }
  ]
}
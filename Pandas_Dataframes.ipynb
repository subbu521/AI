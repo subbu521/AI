{
  "nbformat": 4,
  "nbformat_minor": 0,
  "metadata": {
    "colab": {
      "name": "Pandas Dataframes.ipynb",
      "provenance": [],
      "authorship_tag": "ABX9TyPbT3CVd3Y5xt2RM8i5SopC",
      "include_colab_link": true
    },
    "kernelspec": {
      "name": "python3",
      "display_name": "Python 3"
    }
  },
  "cells": [
    {
      "cell_type": "markdown",
      "metadata": {
        "id": "view-in-github",
        "colab_type": "text"
      },
      "source": [
        "<a href=\"https://colab.research.google.com/github/bhargav23/AI/blob/master/Lab/Pandas_Dataframes.ipynb\" target=\"_parent\"><img src=\"https://colab.research.google.com/assets/colab-badge.svg\" alt=\"Open In Colab\"/></a>"
      ]
    },
    {
      "cell_type": "markdown",
      "metadata": {
        "id": "dgpP55nR0L6U",
        "colab_type": "text"
      },
      "source": [
        "# Pandas Dataframes\n",
        "## In this lecture\n",
        "* Introduction to pandas\n",
        "* Importing data\n",
        "* Creating copy of original data\n",
        "* Attributes of data\n",
        "* Indexing and selecting data\n",
        "\n",
        "\n"
      ]
    },
    {
      "cell_type": "code",
      "metadata": {
        "id": "2Vc6gYNg0hQk",
        "colab_type": "code",
        "colab": {}
      },
      "source": [
        "import pandas as pd\n",
        "import numpy as np"
      ],
      "execution_count": 0,
      "outputs": []
    },
    {
      "cell_type": "code",
      "metadata": {
        "id": "PQtDCvJd0LTV",
        "colab_type": "code",
        "colab": {}
      },
      "source": [
        "cars_data = pd.read_csv('https://raw.githubusercontent.com/bhargav23/Dataset/master/Toyota.csv',index_col=0)"
      ],
      "execution_count": 0,
      "outputs": []
    },
    {
      "cell_type": "code",
      "metadata": {
        "id": "5IuL_1xbBpIT",
        "colab_type": "code",
        "outputId": "5d7fbfdc-7481-4854-dcd0-a2e75f9f4d97",
        "colab": {
          "base_uri": "https://localhost:8080/",
          "height": 402
        }
      },
      "source": [
        "cars_data"
      ],
      "execution_count": 3,
      "outputs": [
        {
          "output_type": "execute_result",
          "data": {
            "text/html": [
              "<div>\n",
              "<style scoped>\n",
              "    .dataframe tbody tr th:only-of-type {\n",
              "        vertical-align: middle;\n",
              "    }\n",
              "\n",
              "    .dataframe tbody tr th {\n",
              "        vertical-align: top;\n",
              "    }\n",
              "\n",
              "    .dataframe thead th {\n",
              "        text-align: right;\n",
              "    }\n",
              "</style>\n",
              "<table border=\"1\" class=\"dataframe\">\n",
              "  <thead>\n",
              "    <tr style=\"text-align: right;\">\n",
              "      <th></th>\n",
              "      <th>Price</th>\n",
              "      <th>Age</th>\n",
              "      <th>KM</th>\n",
              "      <th>FuelType</th>\n",
              "      <th>HP</th>\n",
              "      <th>MetColor</th>\n",
              "      <th>Automatic</th>\n",
              "      <th>CC</th>\n",
              "      <th>Doors</th>\n",
              "      <th>Weight</th>\n",
              "    </tr>\n",
              "  </thead>\n",
              "  <tbody>\n",
              "    <tr>\n",
              "      <th>0</th>\n",
              "      <td>13500</td>\n",
              "      <td>23.0</td>\n",
              "      <td>46986</td>\n",
              "      <td>Diesel</td>\n",
              "      <td>90</td>\n",
              "      <td>1.0</td>\n",
              "      <td>0</td>\n",
              "      <td>2000</td>\n",
              "      <td>three</td>\n",
              "      <td>1165</td>\n",
              "    </tr>\n",
              "    <tr>\n",
              "      <th>1</th>\n",
              "      <td>13750</td>\n",
              "      <td>23.0</td>\n",
              "      <td>72937</td>\n",
              "      <td>Diesel</td>\n",
              "      <td>90</td>\n",
              "      <td>1.0</td>\n",
              "      <td>0</td>\n",
              "      <td>2000</td>\n",
              "      <td>3</td>\n",
              "      <td>1165</td>\n",
              "    </tr>\n",
              "    <tr>\n",
              "      <th>2</th>\n",
              "      <td>13950</td>\n",
              "      <td>24.0</td>\n",
              "      <td>41711</td>\n",
              "      <td>Diesel</td>\n",
              "      <td>90</td>\n",
              "      <td>NaN</td>\n",
              "      <td>0</td>\n",
              "      <td>2000</td>\n",
              "      <td>3</td>\n",
              "      <td>1165</td>\n",
              "    </tr>\n",
              "    <tr>\n",
              "      <th>3</th>\n",
              "      <td>14950</td>\n",
              "      <td>26.0</td>\n",
              "      <td>48000</td>\n",
              "      <td>Diesel</td>\n",
              "      <td>90</td>\n",
              "      <td>0.0</td>\n",
              "      <td>0</td>\n",
              "      <td>2000</td>\n",
              "      <td>3</td>\n",
              "      <td>1165</td>\n",
              "    </tr>\n",
              "    <tr>\n",
              "      <th>4</th>\n",
              "      <td>13750</td>\n",
              "      <td>30.0</td>\n",
              "      <td>38500</td>\n",
              "      <td>Diesel</td>\n",
              "      <td>90</td>\n",
              "      <td>0.0</td>\n",
              "      <td>0</td>\n",
              "      <td>2000</td>\n",
              "      <td>3</td>\n",
              "      <td>1170</td>\n",
              "    </tr>\n",
              "    <tr>\n",
              "      <th>...</th>\n",
              "      <td>...</td>\n",
              "      <td>...</td>\n",
              "      <td>...</td>\n",
              "      <td>...</td>\n",
              "      <td>...</td>\n",
              "      <td>...</td>\n",
              "      <td>...</td>\n",
              "      <td>...</td>\n",
              "      <td>...</td>\n",
              "      <td>...</td>\n",
              "    </tr>\n",
              "    <tr>\n",
              "      <th>1431</th>\n",
              "      <td>7500</td>\n",
              "      <td>NaN</td>\n",
              "      <td>20544</td>\n",
              "      <td>Petrol</td>\n",
              "      <td>86</td>\n",
              "      <td>1.0</td>\n",
              "      <td>0</td>\n",
              "      <td>1300</td>\n",
              "      <td>3</td>\n",
              "      <td>1025</td>\n",
              "    </tr>\n",
              "    <tr>\n",
              "      <th>1432</th>\n",
              "      <td>10845</td>\n",
              "      <td>72.0</td>\n",
              "      <td>??</td>\n",
              "      <td>Petrol</td>\n",
              "      <td>86</td>\n",
              "      <td>0.0</td>\n",
              "      <td>0</td>\n",
              "      <td>1300</td>\n",
              "      <td>3</td>\n",
              "      <td>1015</td>\n",
              "    </tr>\n",
              "    <tr>\n",
              "      <th>1433</th>\n",
              "      <td>8500</td>\n",
              "      <td>NaN</td>\n",
              "      <td>17016</td>\n",
              "      <td>Petrol</td>\n",
              "      <td>86</td>\n",
              "      <td>0.0</td>\n",
              "      <td>0</td>\n",
              "      <td>1300</td>\n",
              "      <td>3</td>\n",
              "      <td>1015</td>\n",
              "    </tr>\n",
              "    <tr>\n",
              "      <th>1434</th>\n",
              "      <td>7250</td>\n",
              "      <td>70.0</td>\n",
              "      <td>??</td>\n",
              "      <td>NaN</td>\n",
              "      <td>86</td>\n",
              "      <td>1.0</td>\n",
              "      <td>0</td>\n",
              "      <td>1300</td>\n",
              "      <td>3</td>\n",
              "      <td>1015</td>\n",
              "    </tr>\n",
              "    <tr>\n",
              "      <th>1435</th>\n",
              "      <td>6950</td>\n",
              "      <td>76.0</td>\n",
              "      <td>1</td>\n",
              "      <td>Petrol</td>\n",
              "      <td>110</td>\n",
              "      <td>0.0</td>\n",
              "      <td>0</td>\n",
              "      <td>1600</td>\n",
              "      <td>5</td>\n",
              "      <td>1114</td>\n",
              "    </tr>\n",
              "  </tbody>\n",
              "</table>\n",
              "<p>1436 rows × 10 columns</p>\n",
              "</div>"
            ],
            "text/plain": [
              "      Price   Age     KM FuelType  ... Automatic    CC  Doors  Weight\n",
              "0     13500  23.0  46986   Diesel  ...         0  2000  three    1165\n",
              "1     13750  23.0  72937   Diesel  ...         0  2000      3    1165\n",
              "2     13950  24.0  41711   Diesel  ...         0  2000      3    1165\n",
              "3     14950  26.0  48000   Diesel  ...         0  2000      3    1165\n",
              "4     13750  30.0  38500   Diesel  ...         0  2000      3    1170\n",
              "...     ...   ...    ...      ...  ...       ...   ...    ...     ...\n",
              "1431   7500   NaN  20544   Petrol  ...         0  1300      3    1025\n",
              "1432  10845  72.0     ??   Petrol  ...         0  1300      3    1015\n",
              "1433   8500   NaN  17016   Petrol  ...         0  1300      3    1015\n",
              "1434   7250  70.0     ??      NaN  ...         0  1300      3    1015\n",
              "1435   6950  76.0      1   Petrol  ...         0  1600      5    1114\n",
              "\n",
              "[1436 rows x 10 columns]"
            ]
          },
          "metadata": {
            "tags": []
          },
          "execution_count": 3
        }
      ]
    },
    {
      "cell_type": "markdown",
      "metadata": {
        "id": "0lGpmcV107iY",
        "colab_type": "text"
      },
      "source": [
        "### Creating copy of original data\n",
        "* In Python, there are two ways to create copies\n",
        "  * Shallow copy\n",
        "    * It only creates a new variable that shares the reference of the original object\n",
        "    * Any changes made to a copy of object will be reflected in the original object as well\n",
        "  * Deep copy\n",
        "    * In case of deep copy, a copy of object is copied in other object with no reference to the original\n",
        "    * Any changes made to a copy of object will not be reflected in the original object\n",
        "\n",
        "**Shallow copy**"
      ]
    },
    {
      "cell_type": "code",
      "metadata": {
        "id": "h0AvafmS0I7z",
        "colab_type": "code",
        "colab": {}
      },
      "source": [
        "scpy = cars_data.copy(deep=False) \n",
        "#OR\n",
        "scpy = cars_data"
      ],
      "execution_count": 0,
      "outputs": []
    },
    {
      "cell_type": "markdown",
      "metadata": {
        "id": "-vs7pwY_1zGu",
        "colab_type": "text"
      },
      "source": [
        "**Deep copy**"
      ]
    },
    {
      "cell_type": "code",
      "metadata": {
        "id": "z-XgbqmF1wlh",
        "colab_type": "code",
        "colab": {}
      },
      "source": [
        "dcpy = cars_data.copy(deep=True)"
      ],
      "execution_count": 0,
      "outputs": []
    },
    {
      "cell_type": "markdown",
      "metadata": {
        "id": "SEFFLKZx2Pf1",
        "colab_type": "text"
      },
      "source": [
        "### Attributes of data\n",
        "\n",
        "* To get the **index** (row labels) of the dataframe"
      ]
    },
    {
      "cell_type": "code",
      "metadata": {
        "id": "wvG5NSdU2G0w",
        "colab_type": "code",
        "outputId": "2ff3e127-9884-4ae2-f368-c720a4eac634",
        "colab": {
          "base_uri": "https://localhost:8080/",
          "height": 84
        }
      },
      "source": [
        "cars_data.index"
      ],
      "execution_count": 6,
      "outputs": [
        {
          "output_type": "execute_result",
          "data": {
            "text/plain": [
              "Int64Index([   0,    1,    2,    3,    4,    5,    6,    7,    8,    9,\n",
              "            ...\n",
              "            1426, 1427, 1428, 1429, 1430, 1431, 1432, 1433, 1434, 1435],\n",
              "           dtype='int64', length=1436)"
            ]
          },
          "metadata": {
            "tags": []
          },
          "execution_count": 6
        }
      ]
    },
    {
      "cell_type": "markdown",
      "metadata": {
        "id": "cNeX45qS2dd9",
        "colab_type": "text"
      },
      "source": [
        "* To get the **columns** of the dataframe"
      ]
    },
    {
      "cell_type": "code",
      "metadata": {
        "id": "_i5fNKNh2cy8",
        "colab_type": "code",
        "outputId": "6d590fd0-7622-4967-fe9d-1497bdb3b432",
        "colab": {
          "base_uri": "https://localhost:8080/",
          "height": 67
        }
      },
      "source": [
        "cars_data.columns"
      ],
      "execution_count": 7,
      "outputs": [
        {
          "output_type": "execute_result",
          "data": {
            "text/plain": [
              "Index(['Price', 'Age', 'KM', 'FuelType', 'HP', 'MetColor', 'Automatic', 'CC',\n",
              "       'Doors', 'Weight'],\n",
              "      dtype='object')"
            ]
          },
          "metadata": {
            "tags": []
          },
          "execution_count": 7
        }
      ]
    },
    {
      "cell_type": "markdown",
      "metadata": {
        "id": "lRr4B1Ok28X1",
        "colab_type": "text"
      },
      "source": [
        "* To get the total **number of elements** from the\n",
        "dataframe"
      ]
    },
    {
      "cell_type": "code",
      "metadata": {
        "id": "pGfQj3xz2Z7g",
        "colab_type": "code",
        "outputId": "3f99c5cf-62b3-4c8e-bebe-9281f9883417",
        "colab": {
          "base_uri": "https://localhost:8080/",
          "height": 34
        }
      },
      "source": [
        "cars_data.size "
      ],
      "execution_count": 8,
      "outputs": [
        {
          "output_type": "execute_result",
          "data": {
            "text/plain": [
              "14360"
            ]
          },
          "metadata": {
            "tags": []
          },
          "execution_count": 8
        }
      ]
    },
    {
      "cell_type": "code",
      "metadata": {
        "id": "i7oKkWpjC8kw",
        "colab_type": "code",
        "outputId": "6ddead1a-91ae-49f5-9b6e-3128d1971ca9",
        "colab": {
          "base_uri": "https://localhost:8080/",
          "height": 34
        }
      },
      "source": [
        "1436*10"
      ],
      "execution_count": 9,
      "outputs": [
        {
          "output_type": "execute_result",
          "data": {
            "text/plain": [
              "14360"
            ]
          },
          "metadata": {
            "tags": []
          },
          "execution_count": 9
        }
      ]
    },
    {
      "cell_type": "markdown",
      "metadata": {
        "id": "sYJQdg9x3GlZ",
        "colab_type": "text"
      },
      "source": [
        "* To get the **dimensionality** of the dataframe"
      ]
    },
    {
      "cell_type": "code",
      "metadata": {
        "id": "8NwXtZBV3Ftp",
        "colab_type": "code",
        "outputId": "47727856-0749-4864-b7d9-a70cbd40c8f0",
        "colab": {
          "base_uri": "https://localhost:8080/",
          "height": 34
        }
      },
      "source": [
        "cars_data.shape"
      ],
      "execution_count": 10,
      "outputs": [
        {
          "output_type": "execute_result",
          "data": {
            "text/plain": [
              "(1436, 10)"
            ]
          },
          "metadata": {
            "tags": []
          },
          "execution_count": 10
        }
      ]
    },
    {
      "cell_type": "markdown",
      "metadata": {
        "id": "_s5AgG_W3dQg",
        "colab_type": "text"
      },
      "source": [
        "* The **memory usage** of each column in bytes"
      ]
    },
    {
      "cell_type": "code",
      "metadata": {
        "id": "Ru6SjFo13Ouq",
        "colab_type": "code",
        "outputId": "b4914e08-5f30-4066-ef3b-11157bd03e1f",
        "colab": {
          "base_uri": "https://localhost:8080/",
          "height": 218
        }
      },
      "source": [
        "cars_data.memory_usage()"
      ],
      "execution_count": 11,
      "outputs": [
        {
          "output_type": "execute_result",
          "data": {
            "text/plain": [
              "Index        11488\n",
              "Price        11488\n",
              "Age          11488\n",
              "KM           11488\n",
              "FuelType     11488\n",
              "HP           11488\n",
              "MetColor     11488\n",
              "Automatic    11488\n",
              "CC           11488\n",
              "Doors        11488\n",
              "Weight       11488\n",
              "dtype: int64"
            ]
          },
          "metadata": {
            "tags": []
          },
          "execution_count": 11
        }
      ]
    },
    {
      "cell_type": "markdown",
      "metadata": {
        "id": "WExp0oaJ3rNZ",
        "colab_type": "text"
      },
      "source": [
        "* The number of axes / array dimensions"
      ]
    },
    {
      "cell_type": "code",
      "metadata": {
        "id": "gjT4mzED3q_R",
        "colab_type": "code",
        "outputId": "2754ef6b-baa6-4bd9-b83b-fc60ff731a26",
        "colab": {
          "base_uri": "https://localhost:8080/",
          "height": 34
        }
      },
      "source": [
        "cars_data.ndim\n",
        "#A two dimensional array stores data in a format consisting of rows and columns"
      ],
      "execution_count": 11,
      "outputs": [
        {
          "output_type": "execute_result",
          "data": {
            "text/plain": [
              "2"
            ]
          },
          "metadata": {
            "tags": []
          },
          "execution_count": 11
        }
      ]
    },
    {
      "cell_type": "markdown",
      "metadata": {
        "id": "zsI2DBI23wUz",
        "colab_type": "text"
      },
      "source": [
        "### Indexing and selecting data \n",
        "* Python slicing operator '[ ]' and attribute/dot operator '.' are used for indexing\n",
        "* Provides quick and easy access to pandas data structures"
      ]
    },
    {
      "cell_type": "markdown",
      "metadata": {
        "id": "Yecs4kQs4R5_",
        "colab_type": "text"
      },
      "source": [
        "`DataFrame.head([n])`\n",
        "* The function head() returns the first n rows from the dataframe\n",
        "* By default, the head() returns first 5 rows"
      ]
    },
    {
      "cell_type": "code",
      "metadata": {
        "id": "8xs0GerE3m-q",
        "colab_type": "code",
        "colab": {}
      },
      "source": [
        "cars_data.head(20)"
      ],
      "execution_count": 0,
      "outputs": []
    },
    {
      "cell_type": "markdown",
      "metadata": {
        "id": "Bs7_cimQ4rGn",
        "colab_type": "text"
      },
      "source": [
        "* The function tail() returns the last n rows for the object based on position\n",
        "\n",
        "\n"
      ]
    },
    {
      "cell_type": "code",
      "metadata": {
        "id": "J-bUyx7M4npT",
        "colab_type": "code",
        "outputId": "5f9846d2-f8c6-4355-ab06-0fc8c2239698",
        "colab": {
          "base_uri": "https://localhost:8080/",
          "height": 195
        }
      },
      "source": [
        "cars_data.tail()"
      ],
      "execution_count": 15,
      "outputs": [
        {
          "output_type": "execute_result",
          "data": {
            "text/html": [
              "<div>\n",
              "<style scoped>\n",
              "    .dataframe tbody tr th:only-of-type {\n",
              "        vertical-align: middle;\n",
              "    }\n",
              "\n",
              "    .dataframe tbody tr th {\n",
              "        vertical-align: top;\n",
              "    }\n",
              "\n",
              "    .dataframe thead th {\n",
              "        text-align: right;\n",
              "    }\n",
              "</style>\n",
              "<table border=\"1\" class=\"dataframe\">\n",
              "  <thead>\n",
              "    <tr style=\"text-align: right;\">\n",
              "      <th></th>\n",
              "      <th>Price</th>\n",
              "      <th>Age</th>\n",
              "      <th>KM</th>\n",
              "      <th>FuelType</th>\n",
              "      <th>HP</th>\n",
              "      <th>MetColor</th>\n",
              "      <th>Automatic</th>\n",
              "      <th>CC</th>\n",
              "      <th>Doors</th>\n",
              "      <th>Weight</th>\n",
              "    </tr>\n",
              "  </thead>\n",
              "  <tbody>\n",
              "    <tr>\n",
              "      <th>1431</th>\n",
              "      <td>7500</td>\n",
              "      <td>NaN</td>\n",
              "      <td>20544</td>\n",
              "      <td>Petrol</td>\n",
              "      <td>86</td>\n",
              "      <td>1.0</td>\n",
              "      <td>0</td>\n",
              "      <td>1300</td>\n",
              "      <td>3</td>\n",
              "      <td>1025</td>\n",
              "    </tr>\n",
              "    <tr>\n",
              "      <th>1432</th>\n",
              "      <td>10845</td>\n",
              "      <td>72.0</td>\n",
              "      <td>??</td>\n",
              "      <td>Petrol</td>\n",
              "      <td>86</td>\n",
              "      <td>0.0</td>\n",
              "      <td>0</td>\n",
              "      <td>1300</td>\n",
              "      <td>3</td>\n",
              "      <td>1015</td>\n",
              "    </tr>\n",
              "    <tr>\n",
              "      <th>1433</th>\n",
              "      <td>8500</td>\n",
              "      <td>NaN</td>\n",
              "      <td>17016</td>\n",
              "      <td>Petrol</td>\n",
              "      <td>86</td>\n",
              "      <td>0.0</td>\n",
              "      <td>0</td>\n",
              "      <td>1300</td>\n",
              "      <td>3</td>\n",
              "      <td>1015</td>\n",
              "    </tr>\n",
              "    <tr>\n",
              "      <th>1434</th>\n",
              "      <td>7250</td>\n",
              "      <td>70.0</td>\n",
              "      <td>??</td>\n",
              "      <td>NaN</td>\n",
              "      <td>86</td>\n",
              "      <td>1.0</td>\n",
              "      <td>0</td>\n",
              "      <td>1300</td>\n",
              "      <td>3</td>\n",
              "      <td>1015</td>\n",
              "    </tr>\n",
              "    <tr>\n",
              "      <th>1435</th>\n",
              "      <td>6950</td>\n",
              "      <td>76.0</td>\n",
              "      <td>1</td>\n",
              "      <td>Petrol</td>\n",
              "      <td>110</td>\n",
              "      <td>0.0</td>\n",
              "      <td>0</td>\n",
              "      <td>1600</td>\n",
              "      <td>5</td>\n",
              "      <td>1114</td>\n",
              "    </tr>\n",
              "  </tbody>\n",
              "</table>\n",
              "</div>"
            ],
            "text/plain": [
              "      Price   Age     KM FuelType   HP  MetColor  Automatic    CC Doors  Weight\n",
              "1431   7500   NaN  20544   Petrol   86       1.0          0  1300     3    1025\n",
              "1432  10845  72.0     ??   Petrol   86       0.0          0  1300     3    1015\n",
              "1433   8500   NaN  17016   Petrol   86       0.0          0  1300     3    1015\n",
              "1434   7250  70.0     ??      NaN   86       1.0          0  1300     3    1015\n",
              "1435   6950  76.0      1   Petrol  110       0.0          0  1600     5    1114"
            ]
          },
          "metadata": {
            "tags": []
          },
          "execution_count": 15
        }
      ]
    },
    {
      "cell_type": "markdown",
      "metadata": {
        "id": "jr8mBvvm5A2U",
        "colab_type": "text"
      },
      "source": [
        "* To access a scalar value, the fastest way is to use the **at** and **iat** methods\n",
        "* **at** provides label based scalar lookups"
      ]
    },
    {
      "cell_type": "code",
      "metadata": {
        "id": "TP2r-YjzOaCB",
        "colab_type": "code",
        "colab": {
          "base_uri": "https://localhost:8080/",
          "height": 284
        },
        "outputId": "8845c3c2-8e4f-41f1-b0e2-9d1f8b0c1793"
      },
      "source": [
        "cars_data.head(8)"
      ],
      "execution_count": 16,
      "outputs": [
        {
          "output_type": "execute_result",
          "data": {
            "text/html": [
              "<div>\n",
              "<style scoped>\n",
              "    .dataframe tbody tr th:only-of-type {\n",
              "        vertical-align: middle;\n",
              "    }\n",
              "\n",
              "    .dataframe tbody tr th {\n",
              "        vertical-align: top;\n",
              "    }\n",
              "\n",
              "    .dataframe thead th {\n",
              "        text-align: right;\n",
              "    }\n",
              "</style>\n",
              "<table border=\"1\" class=\"dataframe\">\n",
              "  <thead>\n",
              "    <tr style=\"text-align: right;\">\n",
              "      <th></th>\n",
              "      <th>Price</th>\n",
              "      <th>Age</th>\n",
              "      <th>KM</th>\n",
              "      <th>FuelType</th>\n",
              "      <th>HP</th>\n",
              "      <th>MetColor</th>\n",
              "      <th>Automatic</th>\n",
              "      <th>CC</th>\n",
              "      <th>Doors</th>\n",
              "      <th>Weight</th>\n",
              "    </tr>\n",
              "  </thead>\n",
              "  <tbody>\n",
              "    <tr>\n",
              "      <th>0</th>\n",
              "      <td>13500</td>\n",
              "      <td>23.0</td>\n",
              "      <td>46986</td>\n",
              "      <td>Diesel</td>\n",
              "      <td>90</td>\n",
              "      <td>1.0</td>\n",
              "      <td>0</td>\n",
              "      <td>2000</td>\n",
              "      <td>three</td>\n",
              "      <td>1165</td>\n",
              "    </tr>\n",
              "    <tr>\n",
              "      <th>1</th>\n",
              "      <td>13750</td>\n",
              "      <td>23.0</td>\n",
              "      <td>72937</td>\n",
              "      <td>Diesel</td>\n",
              "      <td>90</td>\n",
              "      <td>1.0</td>\n",
              "      <td>0</td>\n",
              "      <td>2000</td>\n",
              "      <td>3</td>\n",
              "      <td>1165</td>\n",
              "    </tr>\n",
              "    <tr>\n",
              "      <th>2</th>\n",
              "      <td>13950</td>\n",
              "      <td>24.0</td>\n",
              "      <td>41711</td>\n",
              "      <td>Diesel</td>\n",
              "      <td>90</td>\n",
              "      <td>NaN</td>\n",
              "      <td>0</td>\n",
              "      <td>2000</td>\n",
              "      <td>3</td>\n",
              "      <td>1165</td>\n",
              "    </tr>\n",
              "    <tr>\n",
              "      <th>3</th>\n",
              "      <td>14950</td>\n",
              "      <td>26.0</td>\n",
              "      <td>48000</td>\n",
              "      <td>Diesel</td>\n",
              "      <td>90</td>\n",
              "      <td>0.0</td>\n",
              "      <td>0</td>\n",
              "      <td>2000</td>\n",
              "      <td>3</td>\n",
              "      <td>1165</td>\n",
              "    </tr>\n",
              "    <tr>\n",
              "      <th>4</th>\n",
              "      <td>13750</td>\n",
              "      <td>30.0</td>\n",
              "      <td>38500</td>\n",
              "      <td>Diesel</td>\n",
              "      <td>90</td>\n",
              "      <td>0.0</td>\n",
              "      <td>0</td>\n",
              "      <td>2000</td>\n",
              "      <td>3</td>\n",
              "      <td>1170</td>\n",
              "    </tr>\n",
              "    <tr>\n",
              "      <th>5</th>\n",
              "      <td>12950</td>\n",
              "      <td>32.0</td>\n",
              "      <td>61000</td>\n",
              "      <td>Diesel</td>\n",
              "      <td>90</td>\n",
              "      <td>0.0</td>\n",
              "      <td>0</td>\n",
              "      <td>2000</td>\n",
              "      <td>3</td>\n",
              "      <td>1170</td>\n",
              "    </tr>\n",
              "    <tr>\n",
              "      <th>6</th>\n",
              "      <td>16900</td>\n",
              "      <td>27.0</td>\n",
              "      <td>??</td>\n",
              "      <td>Diesel</td>\n",
              "      <td>????</td>\n",
              "      <td>NaN</td>\n",
              "      <td>0</td>\n",
              "      <td>2000</td>\n",
              "      <td>3</td>\n",
              "      <td>1245</td>\n",
              "    </tr>\n",
              "    <tr>\n",
              "      <th>7</th>\n",
              "      <td>18600</td>\n",
              "      <td>30.0</td>\n",
              "      <td>75889</td>\n",
              "      <td>NaN</td>\n",
              "      <td>90</td>\n",
              "      <td>1.0</td>\n",
              "      <td>0</td>\n",
              "      <td>2000</td>\n",
              "      <td>3</td>\n",
              "      <td>1245</td>\n",
              "    </tr>\n",
              "  </tbody>\n",
              "</table>\n",
              "</div>"
            ],
            "text/plain": [
              "   Price   Age     KM FuelType    HP  MetColor  Automatic    CC  Doors  Weight\n",
              "0  13500  23.0  46986   Diesel    90       1.0          0  2000  three    1165\n",
              "1  13750  23.0  72937   Diesel    90       1.0          0  2000      3    1165\n",
              "2  13950  24.0  41711   Diesel    90       NaN          0  2000      3    1165\n",
              "3  14950  26.0  48000   Diesel    90       0.0          0  2000      3    1165\n",
              "4  13750  30.0  38500   Diesel    90       0.0          0  2000      3    1170\n",
              "5  12950  32.0  61000   Diesel    90       0.0          0  2000      3    1170\n",
              "6  16900  27.0     ??   Diesel  ????       NaN          0  2000      3    1245\n",
              "7  18600  30.0  75889      NaN    90       1.0          0  2000      3    1245"
            ]
          },
          "metadata": {
            "tags": []
          },
          "execution_count": 16
        }
      ]
    },
    {
      "cell_type": "code",
      "metadata": {
        "id": "PQN_dmMF4187",
        "colab_type": "code",
        "outputId": "9e2a1c41-a2de-4eab-bcab-948f874bc2f3",
        "colab": {
          "base_uri": "https://localhost:8080/",
          "height": 34
        }
      },
      "source": [
        "cars_data.at[4,'FuelType']"
      ],
      "execution_count": 15,
      "outputs": [
        {
          "output_type": "execute_result",
          "data": {
            "text/plain": [
              "'Diesel'"
            ]
          },
          "metadata": {
            "tags": []
          },
          "execution_count": 15
        }
      ]
    },
    {
      "cell_type": "markdown",
      "metadata": {
        "id": "lEqeS5bN5RmL",
        "colab_type": "text"
      },
      "source": [
        "* **iat** provides integer based lookups"
      ]
    },
    {
      "cell_type": "code",
      "metadata": {
        "id": "aJ2xooI-5hyR",
        "colab_type": "code",
        "outputId": "dca37cb1-8f6e-4463-8e21-e60e9a4faf53",
        "colab": {
          "base_uri": "https://localhost:8080/",
          "height": 34
        }
      },
      "source": [
        "cars_data.iat[4,5]"
      ],
      "execution_count": 16,
      "outputs": [
        {
          "output_type": "execute_result",
          "data": {
            "text/plain": [
              "0.0"
            ]
          },
          "metadata": {
            "tags": []
          },
          "execution_count": 16
        }
      ]
    },
    {
      "cell_type": "markdown",
      "metadata": {
        "id": "vcXjGPcje8C-",
        "colab_type": "text"
      },
      "source": [
        "### In this lecture\n",
        "* Data types\n",
        "\t* Numeric\n",
        "\t* Character\n",
        "* Checking data types of each column\n",
        "* Count of unique data types\n",
        "* Selecting data based on data types\n",
        "* Concise summary of dataframe\n",
        "* Checking format of each column\n",
        "* Getting unique elements of each column\n",
        "\n",
        "### Checking data types of each column\n",
        "* **dtypes** returns a series with the data type of each column\n",
        "* Syntax: **DataFrame.dtypes**"
      ]
    },
    {
      "cell_type": "code",
      "metadata": {
        "id": "1X-X8Iud5jdp",
        "colab_type": "code",
        "colab": {
          "base_uri": "https://localhost:8080/",
          "height": 202
        },
        "outputId": "8828a12b-8bd9-493a-efeb-04b817b0486d"
      },
      "source": [
        "cars_data.dtypes"
      ],
      "execution_count": 17,
      "outputs": [
        {
          "output_type": "execute_result",
          "data": {
            "text/plain": [
              "Price          int64\n",
              "Age          float64\n",
              "KM            object\n",
              "FuelType      object\n",
              "HP            object\n",
              "MetColor     float64\n",
              "Automatic      int64\n",
              "CC             int64\n",
              "Doors         object\n",
              "Weight         int64\n",
              "dtype: object"
            ]
          },
          "metadata": {
            "tags": []
          },
          "execution_count": 17
        }
      ]
    },
    {
      "cell_type": "markdown",
      "metadata": {
        "id": "HRFKHcHbfpwO",
        "colab_type": "text"
      },
      "source": [
        "### Selecting data based on data types\n",
        "* **pandas.DataFrame.select_dtypes()** returns a subset of the columns from dataframe based on the column dtypes\n",
        "* Syntax: **DataFrame.select_dtypes (include=None,exclude=None)**"
      ]
    },
    {
      "cell_type": "code",
      "metadata": {
        "id": "Zs2jQA17F_wa",
        "colab_type": "code",
        "colab": {
          "base_uri": "https://localhost:8080/",
          "height": 402
        },
        "outputId": "f90c13eb-f5ed-4877-f08c-814b25ae5d75"
      },
      "source": [
        "cars_data.select_dtypes(exclude=[object])"
      ],
      "execution_count": 18,
      "outputs": [
        {
          "output_type": "execute_result",
          "data": {
            "text/html": [
              "<div>\n",
              "<style scoped>\n",
              "    .dataframe tbody tr th:only-of-type {\n",
              "        vertical-align: middle;\n",
              "    }\n",
              "\n",
              "    .dataframe tbody tr th {\n",
              "        vertical-align: top;\n",
              "    }\n",
              "\n",
              "    .dataframe thead th {\n",
              "        text-align: right;\n",
              "    }\n",
              "</style>\n",
              "<table border=\"1\" class=\"dataframe\">\n",
              "  <thead>\n",
              "    <tr style=\"text-align: right;\">\n",
              "      <th></th>\n",
              "      <th>Price</th>\n",
              "      <th>Age</th>\n",
              "      <th>MetColor</th>\n",
              "      <th>Automatic</th>\n",
              "      <th>CC</th>\n",
              "      <th>Weight</th>\n",
              "    </tr>\n",
              "  </thead>\n",
              "  <tbody>\n",
              "    <tr>\n",
              "      <th>0</th>\n",
              "      <td>13500</td>\n",
              "      <td>23.0</td>\n",
              "      <td>1.0</td>\n",
              "      <td>0</td>\n",
              "      <td>2000</td>\n",
              "      <td>1165</td>\n",
              "    </tr>\n",
              "    <tr>\n",
              "      <th>1</th>\n",
              "      <td>13750</td>\n",
              "      <td>23.0</td>\n",
              "      <td>1.0</td>\n",
              "      <td>0</td>\n",
              "      <td>2000</td>\n",
              "      <td>1165</td>\n",
              "    </tr>\n",
              "    <tr>\n",
              "      <th>2</th>\n",
              "      <td>13950</td>\n",
              "      <td>24.0</td>\n",
              "      <td>NaN</td>\n",
              "      <td>0</td>\n",
              "      <td>2000</td>\n",
              "      <td>1165</td>\n",
              "    </tr>\n",
              "    <tr>\n",
              "      <th>3</th>\n",
              "      <td>14950</td>\n",
              "      <td>26.0</td>\n",
              "      <td>0.0</td>\n",
              "      <td>0</td>\n",
              "      <td>2000</td>\n",
              "      <td>1165</td>\n",
              "    </tr>\n",
              "    <tr>\n",
              "      <th>4</th>\n",
              "      <td>13750</td>\n",
              "      <td>30.0</td>\n",
              "      <td>0.0</td>\n",
              "      <td>0</td>\n",
              "      <td>2000</td>\n",
              "      <td>1170</td>\n",
              "    </tr>\n",
              "    <tr>\n",
              "      <th>...</th>\n",
              "      <td>...</td>\n",
              "      <td>...</td>\n",
              "      <td>...</td>\n",
              "      <td>...</td>\n",
              "      <td>...</td>\n",
              "      <td>...</td>\n",
              "    </tr>\n",
              "    <tr>\n",
              "      <th>1431</th>\n",
              "      <td>7500</td>\n",
              "      <td>NaN</td>\n",
              "      <td>1.0</td>\n",
              "      <td>0</td>\n",
              "      <td>1300</td>\n",
              "      <td>1025</td>\n",
              "    </tr>\n",
              "    <tr>\n",
              "      <th>1432</th>\n",
              "      <td>10845</td>\n",
              "      <td>72.0</td>\n",
              "      <td>0.0</td>\n",
              "      <td>0</td>\n",
              "      <td>1300</td>\n",
              "      <td>1015</td>\n",
              "    </tr>\n",
              "    <tr>\n",
              "      <th>1433</th>\n",
              "      <td>8500</td>\n",
              "      <td>NaN</td>\n",
              "      <td>0.0</td>\n",
              "      <td>0</td>\n",
              "      <td>1300</td>\n",
              "      <td>1015</td>\n",
              "    </tr>\n",
              "    <tr>\n",
              "      <th>1434</th>\n",
              "      <td>7250</td>\n",
              "      <td>70.0</td>\n",
              "      <td>1.0</td>\n",
              "      <td>0</td>\n",
              "      <td>1300</td>\n",
              "      <td>1015</td>\n",
              "    </tr>\n",
              "    <tr>\n",
              "      <th>1435</th>\n",
              "      <td>6950</td>\n",
              "      <td>76.0</td>\n",
              "      <td>0.0</td>\n",
              "      <td>0</td>\n",
              "      <td>1600</td>\n",
              "      <td>1114</td>\n",
              "    </tr>\n",
              "  </tbody>\n",
              "</table>\n",
              "<p>1436 rows × 6 columns</p>\n",
              "</div>"
            ],
            "text/plain": [
              "      Price   Age  MetColor  Automatic    CC  Weight\n",
              "0     13500  23.0       1.0          0  2000    1165\n",
              "1     13750  23.0       1.0          0  2000    1165\n",
              "2     13950  24.0       NaN          0  2000    1165\n",
              "3     14950  26.0       0.0          0  2000    1165\n",
              "4     13750  30.0       0.0          0  2000    1170\n",
              "...     ...   ...       ...        ...   ...     ...\n",
              "1431   7500   NaN       1.0          0  1300    1025\n",
              "1432  10845  72.0       0.0          0  1300    1015\n",
              "1433   8500   NaN       0.0          0  1300    1015\n",
              "1434   7250  70.0       1.0          0  1300    1015\n",
              "1435   6950  76.0       0.0          0  1600    1114\n",
              "\n",
              "[1436 rows x 6 columns]"
            ]
          },
          "metadata": {
            "tags": []
          },
          "execution_count": 18
        }
      ]
    },
    {
      "cell_type": "code",
      "metadata": {
        "id": "0wRlLA34GafN",
        "colab_type": "code",
        "colab": {
          "base_uri": "https://localhost:8080/",
          "height": 402
        },
        "outputId": "73f9bb85-a54f-48f6-9502-4f48b7e25f4c"
      },
      "source": [
        "cars_data.select_dtypes(include=[int])"
      ],
      "execution_count": 19,
      "outputs": [
        {
          "output_type": "execute_result",
          "data": {
            "text/html": [
              "<div>\n",
              "<style scoped>\n",
              "    .dataframe tbody tr th:only-of-type {\n",
              "        vertical-align: middle;\n",
              "    }\n",
              "\n",
              "    .dataframe tbody tr th {\n",
              "        vertical-align: top;\n",
              "    }\n",
              "\n",
              "    .dataframe thead th {\n",
              "        text-align: right;\n",
              "    }\n",
              "</style>\n",
              "<table border=\"1\" class=\"dataframe\">\n",
              "  <thead>\n",
              "    <tr style=\"text-align: right;\">\n",
              "      <th></th>\n",
              "      <th>Price</th>\n",
              "      <th>Automatic</th>\n",
              "      <th>CC</th>\n",
              "      <th>Weight</th>\n",
              "    </tr>\n",
              "  </thead>\n",
              "  <tbody>\n",
              "    <tr>\n",
              "      <th>0</th>\n",
              "      <td>13500</td>\n",
              "      <td>0</td>\n",
              "      <td>2000</td>\n",
              "      <td>1165</td>\n",
              "    </tr>\n",
              "    <tr>\n",
              "      <th>1</th>\n",
              "      <td>13750</td>\n",
              "      <td>0</td>\n",
              "      <td>2000</td>\n",
              "      <td>1165</td>\n",
              "    </tr>\n",
              "    <tr>\n",
              "      <th>2</th>\n",
              "      <td>13950</td>\n",
              "      <td>0</td>\n",
              "      <td>2000</td>\n",
              "      <td>1165</td>\n",
              "    </tr>\n",
              "    <tr>\n",
              "      <th>3</th>\n",
              "      <td>14950</td>\n",
              "      <td>0</td>\n",
              "      <td>2000</td>\n",
              "      <td>1165</td>\n",
              "    </tr>\n",
              "    <tr>\n",
              "      <th>4</th>\n",
              "      <td>13750</td>\n",
              "      <td>0</td>\n",
              "      <td>2000</td>\n",
              "      <td>1170</td>\n",
              "    </tr>\n",
              "    <tr>\n",
              "      <th>...</th>\n",
              "      <td>...</td>\n",
              "      <td>...</td>\n",
              "      <td>...</td>\n",
              "      <td>...</td>\n",
              "    </tr>\n",
              "    <tr>\n",
              "      <th>1431</th>\n",
              "      <td>7500</td>\n",
              "      <td>0</td>\n",
              "      <td>1300</td>\n",
              "      <td>1025</td>\n",
              "    </tr>\n",
              "    <tr>\n",
              "      <th>1432</th>\n",
              "      <td>10845</td>\n",
              "      <td>0</td>\n",
              "      <td>1300</td>\n",
              "      <td>1015</td>\n",
              "    </tr>\n",
              "    <tr>\n",
              "      <th>1433</th>\n",
              "      <td>8500</td>\n",
              "      <td>0</td>\n",
              "      <td>1300</td>\n",
              "      <td>1015</td>\n",
              "    </tr>\n",
              "    <tr>\n",
              "      <th>1434</th>\n",
              "      <td>7250</td>\n",
              "      <td>0</td>\n",
              "      <td>1300</td>\n",
              "      <td>1015</td>\n",
              "    </tr>\n",
              "    <tr>\n",
              "      <th>1435</th>\n",
              "      <td>6950</td>\n",
              "      <td>0</td>\n",
              "      <td>1600</td>\n",
              "      <td>1114</td>\n",
              "    </tr>\n",
              "  </tbody>\n",
              "</table>\n",
              "<p>1436 rows × 4 columns</p>\n",
              "</div>"
            ],
            "text/plain": [
              "      Price  Automatic    CC  Weight\n",
              "0     13500          0  2000    1165\n",
              "1     13750          0  2000    1165\n",
              "2     13950          0  2000    1165\n",
              "3     14950          0  2000    1165\n",
              "4     13750          0  2000    1170\n",
              "...     ...        ...   ...     ...\n",
              "1431   7500          0  1300    1025\n",
              "1432  10845          0  1300    1015\n",
              "1433   8500          0  1300    1015\n",
              "1434   7250          0  1300    1015\n",
              "1435   6950          0  1600    1114\n",
              "\n",
              "[1436 rows x 4 columns]"
            ]
          },
          "metadata": {
            "tags": []
          },
          "execution_count": 19
        }
      ]
    },
    {
      "cell_type": "code",
      "metadata": {
        "id": "5-5JgiEsQ_jz",
        "colab_type": "code",
        "colab": {
          "base_uri": "https://localhost:8080/",
          "height": 402
        },
        "outputId": "48cae9e2-16be-4555-f2bb-0ae54d6f9c39"
      },
      "source": [
        "cars_data.select_dtypes(include=[object])"
      ],
      "execution_count": 20,
      "outputs": [
        {
          "output_type": "execute_result",
          "data": {
            "text/html": [
              "<div>\n",
              "<style scoped>\n",
              "    .dataframe tbody tr th:only-of-type {\n",
              "        vertical-align: middle;\n",
              "    }\n",
              "\n",
              "    .dataframe tbody tr th {\n",
              "        vertical-align: top;\n",
              "    }\n",
              "\n",
              "    .dataframe thead th {\n",
              "        text-align: right;\n",
              "    }\n",
              "</style>\n",
              "<table border=\"1\" class=\"dataframe\">\n",
              "  <thead>\n",
              "    <tr style=\"text-align: right;\">\n",
              "      <th></th>\n",
              "      <th>KM</th>\n",
              "      <th>FuelType</th>\n",
              "      <th>HP</th>\n",
              "      <th>Doors</th>\n",
              "    </tr>\n",
              "  </thead>\n",
              "  <tbody>\n",
              "    <tr>\n",
              "      <th>0</th>\n",
              "      <td>46986</td>\n",
              "      <td>Diesel</td>\n",
              "      <td>90</td>\n",
              "      <td>three</td>\n",
              "    </tr>\n",
              "    <tr>\n",
              "      <th>1</th>\n",
              "      <td>72937</td>\n",
              "      <td>Diesel</td>\n",
              "      <td>90</td>\n",
              "      <td>3</td>\n",
              "    </tr>\n",
              "    <tr>\n",
              "      <th>2</th>\n",
              "      <td>41711</td>\n",
              "      <td>Diesel</td>\n",
              "      <td>90</td>\n",
              "      <td>3</td>\n",
              "    </tr>\n",
              "    <tr>\n",
              "      <th>3</th>\n",
              "      <td>48000</td>\n",
              "      <td>Diesel</td>\n",
              "      <td>90</td>\n",
              "      <td>3</td>\n",
              "    </tr>\n",
              "    <tr>\n",
              "      <th>4</th>\n",
              "      <td>38500</td>\n",
              "      <td>Diesel</td>\n",
              "      <td>90</td>\n",
              "      <td>3</td>\n",
              "    </tr>\n",
              "    <tr>\n",
              "      <th>...</th>\n",
              "      <td>...</td>\n",
              "      <td>...</td>\n",
              "      <td>...</td>\n",
              "      <td>...</td>\n",
              "    </tr>\n",
              "    <tr>\n",
              "      <th>1431</th>\n",
              "      <td>20544</td>\n",
              "      <td>Petrol</td>\n",
              "      <td>86</td>\n",
              "      <td>3</td>\n",
              "    </tr>\n",
              "    <tr>\n",
              "      <th>1432</th>\n",
              "      <td>??</td>\n",
              "      <td>Petrol</td>\n",
              "      <td>86</td>\n",
              "      <td>3</td>\n",
              "    </tr>\n",
              "    <tr>\n",
              "      <th>1433</th>\n",
              "      <td>17016</td>\n",
              "      <td>Petrol</td>\n",
              "      <td>86</td>\n",
              "      <td>3</td>\n",
              "    </tr>\n",
              "    <tr>\n",
              "      <th>1434</th>\n",
              "      <td>??</td>\n",
              "      <td>NaN</td>\n",
              "      <td>86</td>\n",
              "      <td>3</td>\n",
              "    </tr>\n",
              "    <tr>\n",
              "      <th>1435</th>\n",
              "      <td>1</td>\n",
              "      <td>Petrol</td>\n",
              "      <td>110</td>\n",
              "      <td>5</td>\n",
              "    </tr>\n",
              "  </tbody>\n",
              "</table>\n",
              "<p>1436 rows × 4 columns</p>\n",
              "</div>"
            ],
            "text/plain": [
              "         KM FuelType   HP  Doors\n",
              "0     46986   Diesel   90  three\n",
              "1     72937   Diesel   90      3\n",
              "2     41711   Diesel   90      3\n",
              "3     48000   Diesel   90      3\n",
              "4     38500   Diesel   90      3\n",
              "...     ...      ...  ...    ...\n",
              "1431  20544   Petrol   86      3\n",
              "1432     ??   Petrol   86      3\n",
              "1433  17016   Petrol   86      3\n",
              "1434     ??      NaN   86      3\n",
              "1435      1   Petrol  110      5\n",
              "\n",
              "[1436 rows x 4 columns]"
            ]
          },
          "metadata": {
            "tags": []
          },
          "execution_count": 20
        }
      ]
    },
    {
      "cell_type": "markdown",
      "metadata": {
        "id": "z_EdKxtZgEpK",
        "colab_type": "text"
      },
      "source": [
        "### Concise summary of dataframe\n",
        "* **info()** returns a concise summary of a dataframe\n",
        "* data type of index\n",
        "* data type of columns\n",
        "* count of non null values\n",
        "* memory usage\n",
        "* Syntax: **DataFrame.info()**"
      ]
    },
    {
      "cell_type": "code",
      "metadata": {
        "id": "p48Dc5ZOHBUh",
        "colab_type": "code",
        "colab": {
          "base_uri": "https://localhost:8080/",
          "height": 302
        },
        "outputId": "2883b2b2-f34d-4e91-8a95-0109354c4f88"
      },
      "source": [
        "cars_data.info()"
      ],
      "execution_count": 21,
      "outputs": [
        {
          "output_type": "stream",
          "text": [
            "<class 'pandas.core.frame.DataFrame'>\n",
            "Int64Index: 1436 entries, 0 to 1435\n",
            "Data columns (total 10 columns):\n",
            " #   Column     Non-Null Count  Dtype  \n",
            "---  ------     --------------  -----  \n",
            " 0   Price      1436 non-null   int64  \n",
            " 1   Age        1336 non-null   float64\n",
            " 2   KM         1436 non-null   object \n",
            " 3   FuelType   1336 non-null   object \n",
            " 4   HP         1436 non-null   object \n",
            " 5   MetColor   1286 non-null   float64\n",
            " 6   Automatic  1436 non-null   int64  \n",
            " 7   CC         1436 non-null   int64  \n",
            " 8   Doors      1436 non-null   object \n",
            " 9   Weight     1436 non-null   int64  \n",
            "dtypes: float64(2), int64(4), object(4)\n",
            "memory usage: 123.4+ KB\n"
          ],
          "name": "stdout"
        }
      ]
    },
    {
      "cell_type": "markdown",
      "metadata": {
        "id": "sxXx6Gh5g8bf",
        "colab_type": "text"
      },
      "source": [
        "### Checking format of each column\n",
        "* By using **info()**, we can see\n",
        "* **KM** has been read as object instead of integer\n",
        "* **HP** has been read as object instead of integer\n",
        "* **MetColor** and **Automatic** have been read as float64 and int64 respectively since it has values 0/1\n",
        "* Ideally, **Doors** should’ve been read as int64 since it has values 2, 3, 4, 5. But it has been read as object\n",
        "* Missing values present in few variables Let’s encounter the reason !"
      ]
    },
    {
      "cell_type": "markdown",
      "metadata": {
        "id": "pcNVB69_FraA",
        "colab_type": "text"
      },
      "source": [
        "### Unique elements of columns\n",
        "* unique() is used to find the unique elements of a column\n",
        "* Syntax: **numpy.unique (array)**\n",
        "\n",
        "Variable **KM**"
      ]
    },
    {
      "cell_type": "code",
      "metadata": {
        "id": "RQ8nfanmFq4J",
        "colab_type": "code",
        "colab": {
          "base_uri": "https://localhost:8080/",
          "height": 34
        },
        "outputId": "855c3367-e217-4df0-d2b2-16f6352e4c60"
      },
      "source": [
        "np.unique(cars_data['KM'])"
      ],
      "execution_count": 22,
      "outputs": [
        {
          "output_type": "execute_result",
          "data": {
            "text/plain": [
              "array(['1', '10000', '100123', ..., '99865', '99971', '??'], dtype=object)"
            ]
          },
          "metadata": {
            "tags": []
          },
          "execution_count": 22
        }
      ]
    },
    {
      "cell_type": "markdown",
      "metadata": {
        "id": "nYtIg-28GetE",
        "colab_type": "text"
      },
      "source": [
        "* **KM** has special character to it - '??'\n",
        "* Hence, it has been read as object instead of int64\n",
        "\n",
        "Variable **HP** "
      ]
    },
    {
      "cell_type": "code",
      "metadata": {
        "id": "s009BP05HNVS",
        "colab_type": "code",
        "colab": {
          "base_uri": "https://localhost:8080/",
          "height": 50
        },
        "outputId": "fe64c026-5928-465f-a6b6-1c5fa0a21cf4"
      },
      "source": [
        "np.unique(cars_data['HP'])"
      ],
      "execution_count": 23,
      "outputs": [
        {
          "output_type": "execute_result",
          "data": {
            "text/plain": [
              "array(['107', '110', '116', '192', '69', '71', '72', '73', '86', '90',\n",
              "       '97', '98', '????'], dtype=object)"
            ]
          },
          "metadata": {
            "tags": []
          },
          "execution_count": 23
        }
      ]
    },
    {
      "cell_type": "markdown",
      "metadata": {
        "id": "SJmsrkujGv96",
        "colab_type": "text"
      },
      "source": [
        "* **HP** has special character to it - ????\n",
        "* Hence, it has been read as object instead of int64"
      ]
    },
    {
      "cell_type": "markdown",
      "metadata": {
        "id": "p1_rZ5hTHLXV",
        "colab_type": "text"
      },
      "source": [
        "Variable **MetColor**"
      ]
    },
    {
      "cell_type": "code",
      "metadata": {
        "id": "sLceXIBHH9JF",
        "colab_type": "code",
        "colab": {
          "base_uri": "https://localhost:8080/",
          "height": 218
        },
        "outputId": "353946a2-073e-419b-d39c-7103163685ad"
      },
      "source": [
        "np.unique(cars_data['MetColor'])"
      ],
      "execution_count": 23,
      "outputs": [
        {
          "output_type": "execute_result",
          "data": {
            "text/plain": [
              "array([ 0.,  1., nan, nan, nan, nan, nan, nan, nan, nan, nan, nan, nan,\n",
              "       nan, nan, nan, nan, nan, nan, nan, nan, nan, nan, nan, nan, nan,\n",
              "       nan, nan, nan, nan, nan, nan, nan, nan, nan, nan, nan, nan, nan,\n",
              "       nan, nan, nan, nan, nan, nan, nan, nan, nan, nan, nan, nan, nan,\n",
              "       nan, nan, nan, nan, nan, nan, nan, nan, nan, nan, nan, nan, nan,\n",
              "       nan, nan, nan, nan, nan, nan, nan, nan, nan, nan, nan, nan, nan,\n",
              "       nan, nan, nan, nan, nan, nan, nan, nan, nan, nan, nan, nan, nan,\n",
              "       nan, nan, nan, nan, nan, nan, nan, nan, nan, nan, nan, nan, nan,\n",
              "       nan, nan, nan, nan, nan, nan, nan, nan, nan, nan, nan, nan, nan,\n",
              "       nan, nan, nan, nan, nan, nan, nan, nan, nan, nan, nan, nan, nan,\n",
              "       nan, nan, nan, nan, nan, nan, nan, nan, nan, nan, nan, nan, nan,\n",
              "       nan, nan, nan, nan, nan, nan, nan, nan, nan])"
            ]
          },
          "metadata": {
            "tags": []
          },
          "execution_count": 23
        }
      ]
    },
    {
      "cell_type": "markdown",
      "metadata": {
        "id": "AF-0D56RHhfI",
        "colab_type": "text"
      },
      "source": [
        "Variable **Automatic**"
      ]
    },
    {
      "cell_type": "code",
      "metadata": {
        "id": "RwSZEoS2HUm1",
        "colab_type": "code",
        "colab": {
          "base_uri": "https://localhost:8080/",
          "height": 34
        },
        "outputId": "392c80c6-633d-4425-ed89-59994fbae6ad"
      },
      "source": [
        "np.unique(cars_data['Automatic'])"
      ],
      "execution_count": 24,
      "outputs": [
        {
          "output_type": "execute_result",
          "data": {
            "text/plain": [
              "array([0, 1])"
            ]
          },
          "metadata": {
            "tags": []
          },
          "execution_count": 24
        }
      ]
    },
    {
      "cell_type": "markdown",
      "metadata": {
        "id": "CMaTyw7KHrqf",
        "colab_type": "text"
      },
      "source": [
        "Variable **Doors**"
      ]
    },
    {
      "cell_type": "code",
      "metadata": {
        "id": "DgECatpoHo4z",
        "colab_type": "code",
        "colab": {
          "base_uri": "https://localhost:8080/",
          "height": 34
        },
        "outputId": "f00b1df5-e48d-4310-bafd-08c8b195e1de"
      },
      "source": [
        "np.unique(cars_data['Doors'])"
      ],
      "execution_count": 25,
      "outputs": [
        {
          "output_type": "execute_result",
          "data": {
            "text/plain": [
              "array(['2', '3', '4', '5', 'five', 'four', 'three'], dtype=object)"
            ]
          },
          "metadata": {
            "tags": []
          },
          "execution_count": 25
        }
      ]
    },
    {
      "cell_type": "markdown",
      "metadata": {
        "id": "FpNPCaclH1k-",
        "colab_type": "text"
      },
      "source": [
        "* **Doors** has been read as object instead of int64 because of\n",
        "values ‘five’ ‘four’ ‘three’ which are strings"
      ]
    },
    {
      "cell_type": "markdown",
      "metadata": {
        "id": "9HGl82a0IAyW",
        "colab_type": "text"
      },
      "source": [
        "### Summary\n",
        "* Data types\n",
        "  * Numeric\n",
        "  * Character\n",
        "* Checked data types of each column\n",
        "* Count of unique data types\n",
        "* Selected data based on data types\n",
        "* Concise summary of dataframe\n",
        "* Checked format of each column\n",
        "* Got unique elements of each column"
      ]
    },
    {
      "cell_type": "markdown",
      "metadata": {
        "id": "hFdB3hLcIlOG",
        "colab_type": "text"
      },
      "source": [
        "### In this lecture\n",
        "* Importing data\n",
        "* Concise summary of dataframe\n",
        "* Converting variable’s data types\n",
        "* Category vs Object data type\n",
        "* Cleaning column **Doors**\n",
        "* Getting count of missing values"
      ]
    },
    {
      "cell_type": "markdown",
      "metadata": {
        "id": "e9HQVXWrJKbr",
        "colab_type": "text"
      },
      "source": [
        "### Importing data\n",
        "* We need to know how missing values are represented in the dataset in order to make reasonable decisions\n",
        "* The missing values exist in the form of **nan**, **??**, **????**\n",
        "  * Python, by default replace blank values with **nan**\n",
        "* Now, importing the data considering other forms of missing values in a dataframe"
      ]
    },
    {
      "cell_type": "markdown",
      "metadata": {
        "id": "HU4N0K4pJyA6",
        "colab_type": "text"
      },
      "source": [
        "* Summary before replacing special characters with nan (Observe KM & HP)"
      ]
    },
    {
      "cell_type": "code",
      "metadata": {
        "id": "wi93gAEtJoTr",
        "colab_type": "code",
        "colab": {
          "base_uri": "https://localhost:8080/",
          "height": 302
        },
        "outputId": "5a191192-b59f-4bec-c98a-5fbe4fd6ec8a"
      },
      "source": [
        "cars_data.info()"
      ],
      "execution_count": 26,
      "outputs": [
        {
          "output_type": "stream",
          "text": [
            "<class 'pandas.core.frame.DataFrame'>\n",
            "Int64Index: 1436 entries, 0 to 1435\n",
            "Data columns (total 10 columns):\n",
            " #   Column     Non-Null Count  Dtype  \n",
            "---  ------     --------------  -----  \n",
            " 0   Price      1436 non-null   int64  \n",
            " 1   Age        1336 non-null   float64\n",
            " 2   KM         1436 non-null   object \n",
            " 3   FuelType   1336 non-null   object \n",
            " 4   HP         1436 non-null   object \n",
            " 5   MetColor   1286 non-null   float64\n",
            " 6   Automatic  1436 non-null   int64  \n",
            " 7   CC         1436 non-null   int64  \n",
            " 8   Doors      1436 non-null   object \n",
            " 9   Weight     1436 non-null   int64  \n",
            "dtypes: float64(2), int64(4), object(4)\n",
            "memory usage: 123.4+ KB\n"
          ],
          "name": "stdout"
        }
      ]
    },
    {
      "cell_type": "code",
      "metadata": {
        "id": "T3gnwpSkHwr5",
        "colab_type": "code",
        "colab": {}
      },
      "source": [
        "cars_data = pd.read_csv('https://raw.githubusercontent.com/bhargav23/Dataset/master/Toyota.csv',index_col=0,na_values=['??','????'])"
      ],
      "execution_count": 0,
      "outputs": []
    },
    {
      "cell_type": "markdown",
      "metadata": {
        "id": "eGTX3cBuJ5qC",
        "colab_type": "text"
      },
      "source": [
        "* Summary after replacing special characters with nan (Observe KM & HP)"
      ]
    },
    {
      "cell_type": "code",
      "metadata": {
        "id": "mTsgFS80JmSF",
        "colab_type": "code",
        "colab": {
          "base_uri": "https://localhost:8080/",
          "height": 302
        },
        "outputId": "36beecc8-7ca6-426b-d4ee-fb91537091aa"
      },
      "source": [
        "cars_data.info()"
      ],
      "execution_count": 28,
      "outputs": [
        {
          "output_type": "stream",
          "text": [
            "<class 'pandas.core.frame.DataFrame'>\n",
            "Int64Index: 1436 entries, 0 to 1435\n",
            "Data columns (total 10 columns):\n",
            " #   Column     Non-Null Count  Dtype  \n",
            "---  ------     --------------  -----  \n",
            " 0   Price      1436 non-null   int64  \n",
            " 1   Age        1336 non-null   float64\n",
            " 2   KM         1421 non-null   float64\n",
            " 3   FuelType   1336 non-null   object \n",
            " 4   HP         1430 non-null   float64\n",
            " 5   MetColor   1286 non-null   float64\n",
            " 6   Automatic  1436 non-null   int64  \n",
            " 7   CC         1436 non-null   int64  \n",
            " 8   Doors      1436 non-null   object \n",
            " 9   Weight     1436 non-null   int64  \n",
            "dtypes: float64(4), int64(4), object(2)\n",
            "memory usage: 123.4+ KB\n"
          ],
          "name": "stdout"
        }
      ]
    },
    {
      "cell_type": "markdown",
      "metadata": {
        "id": "PDDs96BmK5Jd",
        "colab_type": "text"
      },
      "source": [
        "### Converting variable’s data types\n",
        "* **astype** method is used to explicitly convert data types from one to another\n",
        "* Syntax:**DataFrame.astype(dtype)**\n",
        "* Converting **MetColor**   **Automatic** to object data type:"
      ]
    },
    {
      "cell_type": "code",
      "metadata": {
        "id": "PXHCxJM4LhnO",
        "colab_type": "code",
        "colab": {
          "base_uri": "https://localhost:8080/",
          "height": 218
        },
        "outputId": "2f326e5e-e218-4e59-89d8-f3cd413985e7"
      },
      "source": [
        "cars_data['MetColor'].astype(object)"
      ],
      "execution_count": 29,
      "outputs": [
        {
          "output_type": "execute_result",
          "data": {
            "text/plain": [
              "0         1\n",
              "1         1\n",
              "2       NaN\n",
              "3         0\n",
              "4         0\n",
              "       ... \n",
              "1431      1\n",
              "1432      0\n",
              "1433      0\n",
              "1434      1\n",
              "1435      0\n",
              "Name: MetColor, Length: 1436, dtype: object"
            ]
          },
          "metadata": {
            "tags": []
          },
          "execution_count": 29
        }
      ]
    },
    {
      "cell_type": "code",
      "metadata": {
        "id": "7BefvYuLLz7B",
        "colab_type": "code",
        "colab": {
          "base_uri": "https://localhost:8080/",
          "height": 302
        },
        "outputId": "d722baad-1c0f-4d27-a0f9-fcd62af4bdad"
      },
      "source": [
        "cars_data.info()"
      ],
      "execution_count": 30,
      "outputs": [
        {
          "output_type": "stream",
          "text": [
            "<class 'pandas.core.frame.DataFrame'>\n",
            "Int64Index: 1436 entries, 0 to 1435\n",
            "Data columns (total 10 columns):\n",
            " #   Column     Non-Null Count  Dtype  \n",
            "---  ------     --------------  -----  \n",
            " 0   Price      1436 non-null   int64  \n",
            " 1   Age        1336 non-null   float64\n",
            " 2   KM         1421 non-null   float64\n",
            " 3   FuelType   1336 non-null   object \n",
            " 4   HP         1430 non-null   float64\n",
            " 5   MetColor   1286 non-null   float64\n",
            " 6   Automatic  1436 non-null   int64  \n",
            " 7   CC         1436 non-null   int64  \n",
            " 8   Doors      1436 non-null   object \n",
            " 9   Weight     1436 non-null   int64  \n",
            "dtypes: float64(4), int64(4), object(2)\n",
            "memory usage: 123.4+ KB\n"
          ],
          "name": "stdout"
        }
      ]
    },
    {
      "cell_type": "code",
      "metadata": {
        "id": "QyadLn_qTZLu",
        "colab_type": "code",
        "colab": {}
      },
      "source": [
        "cars_data['MetColor'] = cars_data['MetColor'].astype(object)"
      ],
      "execution_count": 0,
      "outputs": []
    },
    {
      "cell_type": "code",
      "metadata": {
        "id": "KDVc591nTfrI",
        "colab_type": "code",
        "colab": {
          "base_uri": "https://localhost:8080/",
          "height": 302
        },
        "outputId": "6c570ca9-fb1c-4b34-ea6f-b857d7364b21"
      },
      "source": [
        "cars_data.info()"
      ],
      "execution_count": 32,
      "outputs": [
        {
          "output_type": "stream",
          "text": [
            "<class 'pandas.core.frame.DataFrame'>\n",
            "Int64Index: 1436 entries, 0 to 1435\n",
            "Data columns (total 10 columns):\n",
            " #   Column     Non-Null Count  Dtype  \n",
            "---  ------     --------------  -----  \n",
            " 0   Price      1436 non-null   int64  \n",
            " 1   Age        1336 non-null   float64\n",
            " 2   KM         1421 non-null   float64\n",
            " 3   FuelType   1336 non-null   object \n",
            " 4   HP         1430 non-null   float64\n",
            " 5   MetColor   1286 non-null   object \n",
            " 6   Automatic  1436 non-null   int64  \n",
            " 7   CC         1436 non-null   int64  \n",
            " 8   Doors      1436 non-null   object \n",
            " 9   Weight     1436 non-null   int64  \n",
            "dtypes: float64(3), int64(4), object(3)\n",
            "memory usage: 123.4+ KB\n"
          ],
          "name": "stdout"
        }
      ]
    },
    {
      "cell_type": "code",
      "metadata": {
        "id": "vWnK8EfLTiAg",
        "colab_type": "code",
        "colab": {}
      },
      "source": [
        ""
      ],
      "execution_count": 0,
      "outputs": []
    }
  ]
}
{
  "nbformat": 4,
  "nbformat_minor": 0,
  "metadata": {
    "anaconda-cloud": {},
    "kernelspec": {
      "display_name": "tensorflow",
      "language": "python",
      "name": "tensorflow"
    },
    "language_info": {
      "codemirror_mode": {
        "name": "ipython",
        "version": 3
      },
      "file_extension": ".py",
      "mimetype": "text/x-python",
      "name": "python",
      "nbconvert_exporter": "python",
      "pygments_lexer": "ipython3",
      "version": "3.5.2"
    },
    "colab": {
      "name": "Content-based Filtering - Recommender Systems.ipynb",
      "provenance": [],
      "collapsed_sections": [],
      "include_colab_link": true
    }
  },
  "cells": [
    {
      "cell_type": "markdown",
      "metadata": {
        "id": "view-in-github",
        "colab_type": "text"
      },
      "source": [
        "<a href=\"https://colab.research.google.com/github/bhargav23/AI/blob/master/UNIT6/Content_based_Filtering_Recommender_Systems.ipynb\" target=\"_parent\"><img src=\"https://colab.research.google.com/assets/colab-badge.svg\" alt=\"Open In Colab\"/></a>"
      ]
    },
    {
      "cell_type": "markdown",
      "metadata": {
        "id": "dEOUlc-7hOlQ",
        "colab_type": "text"
      },
      "source": [
        "# Recommender Systems : Content Based systems"
      ]
    },
    {
      "cell_type": "markdown",
      "metadata": {
        "id": "3BDmmf1dhOlS",
        "colab_type": "text"
      },
      "source": [
        "# Know Your Data"
      ]
    },
    {
      "cell_type": "code",
      "metadata": {
        "id": "sxjvwwsYhOlU",
        "colab_type": "code",
        "outputId": "c2e2fe8b-ab26-4747-dd4f-0531323f583e",
        "colab": {
          "base_uri": "https://localhost:8080/",
          "height": 369
        }
      },
      "source": [
        "# Data for content based recommendations\n",
        "import pandas as pd\n",
        "df = pd.read_csv('https://raw.githubusercontent.com/bhargav23/Dataset/master/Content_file_IMDB.csv')\n",
        "df.head(2) # display top two rows of the data"
      ],
      "execution_count": 1,
      "outputs": [
        {
          "output_type": "execute_result",
          "data": {
            "text/html": [
              "<div>\n",
              "<style scoped>\n",
              "    .dataframe tbody tr th:only-of-type {\n",
              "        vertical-align: middle;\n",
              "    }\n",
              "\n",
              "    .dataframe tbody tr th {\n",
              "        vertical-align: top;\n",
              "    }\n",
              "\n",
              "    .dataframe thead th {\n",
              "        text-align: right;\n",
              "    }\n",
              "</style>\n",
              "<table border=\"1\" class=\"dataframe\">\n",
              "  <thead>\n",
              "    <tr style=\"text-align: right;\">\n",
              "      <th></th>\n",
              "      <th>Unnamed: 0</th>\n",
              "      <th>Title</th>\n",
              "      <th>Year</th>\n",
              "      <th>Rated</th>\n",
              "      <th>Released</th>\n",
              "      <th>Runtime</th>\n",
              "      <th>Genre</th>\n",
              "      <th>Director</th>\n",
              "      <th>Writer</th>\n",
              "      <th>Actors</th>\n",
              "      <th>Plot</th>\n",
              "      <th>Language</th>\n",
              "      <th>Country</th>\n",
              "      <th>Awards</th>\n",
              "      <th>Poster</th>\n",
              "      <th>Ratings.Source</th>\n",
              "      <th>Ratings.Value</th>\n",
              "      <th>Metascore</th>\n",
              "      <th>imdbRating</th>\n",
              "      <th>imdbVotes</th>\n",
              "      <th>imdbID</th>\n",
              "      <th>Type</th>\n",
              "      <th>tomatoMeter</th>\n",
              "      <th>tomatoImage</th>\n",
              "      <th>tomatoRating</th>\n",
              "      <th>tomatoReviews</th>\n",
              "      <th>tomatoFresh</th>\n",
              "      <th>tomatoRotten</th>\n",
              "      <th>tomatoConsensus</th>\n",
              "      <th>tomatoUserMeter</th>\n",
              "      <th>tomatoUserRating</th>\n",
              "      <th>tomatoUserReviews</th>\n",
              "      <th>tomatoURL</th>\n",
              "      <th>DVD</th>\n",
              "      <th>BoxOffice</th>\n",
              "      <th>Production</th>\n",
              "      <th>Website</th>\n",
              "      <th>Response</th>\n",
              "    </tr>\n",
              "  </thead>\n",
              "  <tbody>\n",
              "    <tr>\n",
              "      <th>0</th>\n",
              "      <td>1</td>\n",
              "      <td>The Shawshank Redemption</td>\n",
              "      <td>1994</td>\n",
              "      <td>R</td>\n",
              "      <td>14 Oct 1994</td>\n",
              "      <td>142 min</td>\n",
              "      <td>Crime, Drama</td>\n",
              "      <td>Frank Darabont</td>\n",
              "      <td>Stephen King (short story \"Rita Hayworth and S...</td>\n",
              "      <td>Tim Robbins, Morgan Freeman, Bob Gunton, Willi...</td>\n",
              "      <td>Two imprisoned men bond over a number of years...</td>\n",
              "      <td>English</td>\n",
              "      <td>USA</td>\n",
              "      <td>Nominated for 7 Oscars. Another 19 wins &amp; 30 n...</td>\n",
              "      <td>https://images-na.ssl-images-amazon.com/images...</td>\n",
              "      <td>Internet Movie Database</td>\n",
              "      <td>9.3/10</td>\n",
              "      <td>80.0</td>\n",
              "      <td>9.3</td>\n",
              "      <td>1,825,626</td>\n",
              "      <td>tt0111161</td>\n",
              "      <td>movie</td>\n",
              "      <td>NaN</td>\n",
              "      <td>NaN</td>\n",
              "      <td>NaN</td>\n",
              "      <td>NaN</td>\n",
              "      <td>NaN</td>\n",
              "      <td>NaN</td>\n",
              "      <td>NaN</td>\n",
              "      <td>NaN</td>\n",
              "      <td>NaN</td>\n",
              "      <td>NaN</td>\n",
              "      <td>http://www.rottentomatoes.com/m/shawshank_rede...</td>\n",
              "      <td>27 Jan 1998</td>\n",
              "      <td>NaN</td>\n",
              "      <td>Columbia Pictures</td>\n",
              "      <td>NaN</td>\n",
              "      <td>True</td>\n",
              "    </tr>\n",
              "    <tr>\n",
              "      <th>1</th>\n",
              "      <td>2</td>\n",
              "      <td>The Godfather</td>\n",
              "      <td>1972</td>\n",
              "      <td>R</td>\n",
              "      <td>24 Mar 1972</td>\n",
              "      <td>175 min</td>\n",
              "      <td>Crime, Drama</td>\n",
              "      <td>Francis Ford Coppola</td>\n",
              "      <td>Mario Puzo (screenplay), Francis Ford Coppola ...</td>\n",
              "      <td>Marlon Brando, Al Pacino, James Caan, Richard ...</td>\n",
              "      <td>The aging patriarch of an organized crime dyna...</td>\n",
              "      <td>English, Italian, Latin</td>\n",
              "      <td>USA</td>\n",
              "      <td>Won 3 Oscars. Another 23 wins &amp; 27 nominations.</td>\n",
              "      <td>https://images-na.ssl-images-amazon.com/images...</td>\n",
              "      <td>Internet Movie Database</td>\n",
              "      <td>9.2/10</td>\n",
              "      <td>100.0</td>\n",
              "      <td>9.2</td>\n",
              "      <td>1,243,444</td>\n",
              "      <td>tt0068646</td>\n",
              "      <td>movie</td>\n",
              "      <td>NaN</td>\n",
              "      <td>NaN</td>\n",
              "      <td>NaN</td>\n",
              "      <td>NaN</td>\n",
              "      <td>NaN</td>\n",
              "      <td>NaN</td>\n",
              "      <td>NaN</td>\n",
              "      <td>NaN</td>\n",
              "      <td>NaN</td>\n",
              "      <td>NaN</td>\n",
              "      <td>http://www.rottentomatoes.com/m/godfather/</td>\n",
              "      <td>09 Oct 2001</td>\n",
              "      <td>NaN</td>\n",
              "      <td>Paramount Pictures</td>\n",
              "      <td>http://www.thegodfather.com</td>\n",
              "      <td>True</td>\n",
              "    </tr>\n",
              "  </tbody>\n",
              "</table>\n",
              "</div>"
            ],
            "text/plain": [
              "   Unnamed: 0                     Title  ...                      Website Response\n",
              "0           1  The Shawshank Redemption  ...                          NaN     True\n",
              "1           2             The Godfather  ...  http://www.thegodfather.com     True\n",
              "\n",
              "[2 rows x 38 columns]"
            ]
          },
          "metadata": {
            "tags": []
          },
          "execution_count": 1
        }
      ]
    },
    {
      "cell_type": "code",
      "metadata": {
        "id": "ZQxdH-ZXw-lG",
        "colab_type": "code",
        "outputId": "585c7705-2858-468d-d906-41db6dce030c",
        "colab": {
          "base_uri": "https://localhost:8080/",
          "height": 170
        }
      },
      "source": [
        "df.columns"
      ],
      "execution_count": 2,
      "outputs": [
        {
          "output_type": "execute_result",
          "data": {
            "text/plain": [
              "Index(['Unnamed: 0', 'Title', 'Year', 'Rated', 'Released', 'Runtime', 'Genre',\n",
              "       'Director', 'Writer', 'Actors', 'Plot', 'Language', 'Country', 'Awards',\n",
              "       'Poster', 'Ratings.Source', 'Ratings.Value', 'Metascore', 'imdbRating',\n",
              "       'imdbVotes', 'imdbID', 'Type', 'tomatoMeter', 'tomatoImage',\n",
              "       'tomatoRating', 'tomatoReviews', 'tomatoFresh', 'tomatoRotten',\n",
              "       'tomatoConsensus', 'tomatoUserMeter', 'tomatoUserRating',\n",
              "       'tomatoUserReviews', 'tomatoURL', 'DVD', 'BoxOffice', 'Production',\n",
              "       'Website', 'Response'],\n",
              "      dtype='object')"
            ]
          },
          "metadata": {
            "tags": []
          },
          "execution_count": 2
        }
      ]
    },
    {
      "cell_type": "code",
      "metadata": {
        "id": "EoZzGRPdhOlg",
        "colab_type": "code",
        "colab": {}
      },
      "source": [
        "df = df[['Title','Genre','Director','Actors','Plot']]"
      ],
      "execution_count": 0,
      "outputs": []
    },
    {
      "cell_type": "code",
      "metadata": {
        "id": "FGyleZY0km49",
        "colab_type": "code",
        "outputId": "dc87888c-740c-4734-d5d5-3016c22e9e90",
        "colab": {
          "base_uri": "https://localhost:8080/",
          "height": 538
        }
      },
      "source": [
        "df"
      ],
      "execution_count": 4,
      "outputs": [
        {
          "output_type": "execute_result",
          "data": {
            "text/html": [
              "<div>\n",
              "<style scoped>\n",
              "    .dataframe tbody tr th:only-of-type {\n",
              "        vertical-align: middle;\n",
              "    }\n",
              "\n",
              "    .dataframe tbody tr th {\n",
              "        vertical-align: top;\n",
              "    }\n",
              "\n",
              "    .dataframe thead th {\n",
              "        text-align: right;\n",
              "    }\n",
              "</style>\n",
              "<table border=\"1\" class=\"dataframe\">\n",
              "  <thead>\n",
              "    <tr style=\"text-align: right;\">\n",
              "      <th></th>\n",
              "      <th>Title</th>\n",
              "      <th>Genre</th>\n",
              "      <th>Director</th>\n",
              "      <th>Actors</th>\n",
              "      <th>Plot</th>\n",
              "    </tr>\n",
              "  </thead>\n",
              "  <tbody>\n",
              "    <tr>\n",
              "      <th>0</th>\n",
              "      <td>The Shawshank Redemption</td>\n",
              "      <td>Crime, Drama</td>\n",
              "      <td>Frank Darabont</td>\n",
              "      <td>Tim Robbins, Morgan Freeman, Bob Gunton, Willi...</td>\n",
              "      <td>Two imprisoned men bond over a number of years...</td>\n",
              "    </tr>\n",
              "    <tr>\n",
              "      <th>1</th>\n",
              "      <td>The Godfather</td>\n",
              "      <td>Crime, Drama</td>\n",
              "      <td>Francis Ford Coppola</td>\n",
              "      <td>Marlon Brando, Al Pacino, James Caan, Richard ...</td>\n",
              "      <td>The aging patriarch of an organized crime dyna...</td>\n",
              "    </tr>\n",
              "    <tr>\n",
              "      <th>2</th>\n",
              "      <td>The Godfather: Part II</td>\n",
              "      <td>Crime, Drama</td>\n",
              "      <td>Francis Ford Coppola</td>\n",
              "      <td>Al Pacino, Robert Duvall, Diane Keaton, Robert...</td>\n",
              "      <td>The early life and career of Vito Corleone in ...</td>\n",
              "    </tr>\n",
              "    <tr>\n",
              "      <th>3</th>\n",
              "      <td>The Dark Knight</td>\n",
              "      <td>Action, Crime, Drama</td>\n",
              "      <td>Christopher Nolan</td>\n",
              "      <td>Christian Bale, Heath Ledger, Aaron Eckhart, M...</td>\n",
              "      <td>When the menace known as the Joker emerges fro...</td>\n",
              "    </tr>\n",
              "    <tr>\n",
              "      <th>4</th>\n",
              "      <td>12 Angry Men</td>\n",
              "      <td>Crime, Drama</td>\n",
              "      <td>Sidney Lumet</td>\n",
              "      <td>Martin Balsam, John Fiedler, Lee J. Cobb, E.G....</td>\n",
              "      <td>A jury holdout attempts to prevent a miscarria...</td>\n",
              "    </tr>\n",
              "    <tr>\n",
              "      <th>...</th>\n",
              "      <td>...</td>\n",
              "      <td>...</td>\n",
              "      <td>...</td>\n",
              "      <td>...</td>\n",
              "      <td>...</td>\n",
              "    </tr>\n",
              "    <tr>\n",
              "      <th>245</th>\n",
              "      <td>The Lost Weekend</td>\n",
              "      <td>Drama, Film-Noir</td>\n",
              "      <td>Billy Wilder</td>\n",
              "      <td>Ray Milland, Jane Wyman, Phillip Terry, Howard...</td>\n",
              "      <td>The desperate life of a chronic alcoholic is f...</td>\n",
              "    </tr>\n",
              "    <tr>\n",
              "      <th>246</th>\n",
              "      <td>Short Term 12</td>\n",
              "      <td>Drama</td>\n",
              "      <td>Destin Daniel Cretton</td>\n",
              "      <td>Brie Larson, John Gallagher Jr., Stephanie Bea...</td>\n",
              "      <td>A 20-something supervising staff member of a r...</td>\n",
              "    </tr>\n",
              "    <tr>\n",
              "      <th>247</th>\n",
              "      <td>His Girl Friday</td>\n",
              "      <td>Comedy, Drama, Romance</td>\n",
              "      <td>Howard Hawks</td>\n",
              "      <td>Cary Grant, Rosalind Russell, Ralph Bellamy, G...</td>\n",
              "      <td>A newspaper editor uses every trick in the boo...</td>\n",
              "    </tr>\n",
              "    <tr>\n",
              "      <th>248</th>\n",
              "      <td>The Straight Story</td>\n",
              "      <td>Biography, Drama</td>\n",
              "      <td>David Lynch</td>\n",
              "      <td>Sissy Spacek, Jane Galloway Heitz, Joseph A. C...</td>\n",
              "      <td>An old man makes a long journey by lawn-mover ...</td>\n",
              "    </tr>\n",
              "    <tr>\n",
              "      <th>249</th>\n",
              "      <td>Slumdog Millionaire</td>\n",
              "      <td>Drama</td>\n",
              "      <td>Danny Boyle, Loveleen Tandan</td>\n",
              "      <td>Dev Patel, Saurabh Shukla, Anil Kapoor, Raj Zu...</td>\n",
              "      <td>A Mumbai teen reflects on his upbringing in th...</td>\n",
              "    </tr>\n",
              "  </tbody>\n",
              "</table>\n",
              "<p>250 rows × 5 columns</p>\n",
              "</div>"
            ],
            "text/plain": [
              "                        Title  ...                                               Plot\n",
              "0    The Shawshank Redemption  ...  Two imprisoned men bond over a number of years...\n",
              "1               The Godfather  ...  The aging patriarch of an organized crime dyna...\n",
              "2      The Godfather: Part II  ...  The early life and career of Vito Corleone in ...\n",
              "3             The Dark Knight  ...  When the menace known as the Joker emerges fro...\n",
              "4                12 Angry Men  ...  A jury holdout attempts to prevent a miscarria...\n",
              "..                        ...  ...                                                ...\n",
              "245          The Lost Weekend  ...  The desperate life of a chronic alcoholic is f...\n",
              "246             Short Term 12  ...  A 20-something supervising staff member of a r...\n",
              "247           His Girl Friday  ...  A newspaper editor uses every trick in the boo...\n",
              "248        The Straight Story  ...  An old man makes a long journey by lawn-mover ...\n",
              "249       Slumdog Millionaire  ...  A Mumbai teen reflects on his upbringing in th...\n",
              "\n",
              "[250 rows x 5 columns]"
            ]
          },
          "metadata": {
            "tags": []
          },
          "execution_count": 4
        }
      ]
    },
    {
      "cell_type": "code",
      "metadata": {
        "id": "9O-vbUOmO6wj",
        "colab_type": "code",
        "outputId": "3647abc6-77b2-4f7a-d34b-ab9e5af0c3af",
        "colab": {
          "base_uri": "https://localhost:8080/",
          "height": 204
        }
      },
      "source": [
        "!pip install rake_nltk"
      ],
      "execution_count": 5,
      "outputs": [
        {
          "output_type": "stream",
          "text": [
            "Collecting rake_nltk\n",
            "  Downloading https://files.pythonhosted.org/packages/8e/c4/b4ff57e541ac5624ad4b20b89c2bafd4e98f29fd83139f3a81858bdb3815/rake_nltk-1.0.4.tar.gz\n",
            "Requirement already satisfied: nltk in /usr/local/lib/python3.6/dist-packages (from rake_nltk) (3.2.5)\n",
            "Requirement already satisfied: six in /usr/local/lib/python3.6/dist-packages (from nltk->rake_nltk) (1.12.0)\n",
            "Building wheels for collected packages: rake-nltk\n",
            "  Building wheel for rake-nltk (setup.py) ... \u001b[?25l\u001b[?25hdone\n",
            "  Created wheel for rake-nltk: filename=rake_nltk-1.0.4-py2.py3-none-any.whl size=7819 sha256=6a9e2efc913188af0703d6a11e0e3eadfeebc70a75cc91d1daa201188d4c6ddc\n",
            "  Stored in directory: /root/.cache/pip/wheels/ef/92/fc/271b3709e71a96ffe934b27818946b795ac6b9b8ff8682483f\n",
            "Successfully built rake-nltk\n",
            "Installing collected packages: rake-nltk\n",
            "Successfully installed rake-nltk-1.0.4\n"
          ],
          "name": "stdout"
        }
      ]
    },
    {
      "cell_type": "code",
      "metadata": {
        "id": "ZfEBnYHshOlm",
        "colab_type": "code",
        "colab": {}
      },
      "source": [
        "import numpy as np\n",
        "from sklearn.metrics.pairwise import cosine_similarity\n",
        "from sklearn.feature_extraction.text import CountVectorizer\n",
        "import rake_nltk\n",
        "from rake_nltk import Rake"
      ],
      "execution_count": 0,
      "outputs": []
    },
    {
      "cell_type": "code",
      "metadata": {
        "id": "f_BhClfUlsDy",
        "colab_type": "code",
        "outputId": "5c9b3022-81fa-482a-c37a-14f0b23eefbb",
        "colab": {
          "base_uri": "https://localhost:8080/",
          "height": 34
        }
      },
      "source": [
        "df['Actors'][0]"
      ],
      "execution_count": 7,
      "outputs": [
        {
          "output_type": "execute_result",
          "data": {
            "text/plain": [
              "'Tim Robbins, Morgan Freeman, Bob Gunton, William Sadler'"
            ]
          },
          "metadata": {
            "tags": []
          },
          "execution_count": 7
        }
      ]
    },
    {
      "cell_type": "code",
      "metadata": {
        "id": "n0J2tnJ17MMZ",
        "colab_type": "code",
        "colab": {}
      },
      "source": [
        "# discarding the commas between the actors' full names and getting only the first three names\n",
        "df['Actors'] = df['Actors'].map(lambda x: x.split(',')[:3])"
      ],
      "execution_count": 0,
      "outputs": []
    },
    {
      "cell_type": "code",
      "metadata": {
        "id": "enqiLvG0l4Wt",
        "colab_type": "code",
        "outputId": "a68401c3-54a2-4037-f469-08ff20496fc3",
        "colab": {
          "base_uri": "https://localhost:8080/",
          "height": 34
        }
      },
      "source": [
        "df['Actors'][0]"
      ],
      "execution_count": 9,
      "outputs": [
        {
          "output_type": "execute_result",
          "data": {
            "text/plain": [
              "['Tim Robbins', ' Morgan Freeman', ' Bob Gunton']"
            ]
          },
          "metadata": {
            "tags": []
          },
          "execution_count": 9
        }
      ]
    },
    {
      "cell_type": "code",
      "metadata": {
        "id": "nbf_zupG7oj5",
        "colab_type": "code",
        "outputId": "c831da3f-7b9a-43e3-dd9b-98515ab51777",
        "colab": {
          "base_uri": "https://localhost:8080/",
          "height": 34
        }
      },
      "source": [
        "df['Genre'][0]"
      ],
      "execution_count": 10,
      "outputs": [
        {
          "output_type": "execute_result",
          "data": {
            "text/plain": [
              "'Crime, Drama'"
            ]
          },
          "metadata": {
            "tags": []
          },
          "execution_count": 10
        }
      ]
    },
    {
      "cell_type": "code",
      "metadata": {
        "id": "F6wgs77t7o7f",
        "colab_type": "code",
        "colab": {}
      },
      "source": [
        "# putting the genres in a list of words\n",
        "df['Genre'] = df['Genre'].map(lambda x: x.lower().split(','))"
      ],
      "execution_count": 0,
      "outputs": []
    },
    {
      "cell_type": "code",
      "metadata": {
        "id": "vI3v1DUr7w1-",
        "colab_type": "code",
        "outputId": "f4624a19-103a-430f-92b1-28c9ea661374",
        "colab": {
          "base_uri": "https://localhost:8080/",
          "height": 34
        }
      },
      "source": [
        "df['Genre'][0]"
      ],
      "execution_count": 12,
      "outputs": [
        {
          "output_type": "execute_result",
          "data": {
            "text/plain": [
              "['crime', ' drama']"
            ]
          },
          "metadata": {
            "tags": []
          },
          "execution_count": 12
        }
      ]
    },
    {
      "cell_type": "code",
      "metadata": {
        "id": "kPivMdBr77Ge",
        "colab_type": "code",
        "outputId": "115b6fdd-3205-4e44-d278-2ecc1cbb7a25",
        "colab": {
          "base_uri": "https://localhost:8080/",
          "height": 34
        }
      },
      "source": [
        "df['Director'][0]"
      ],
      "execution_count": 13,
      "outputs": [
        {
          "output_type": "execute_result",
          "data": {
            "text/plain": [
              "'Frank Darabont'"
            ]
          },
          "metadata": {
            "tags": []
          },
          "execution_count": 13
        }
      ]
    },
    {
      "cell_type": "code",
      "metadata": {
        "id": "cpFNcVd27Ih8",
        "colab_type": "code",
        "colab": {}
      },
      "source": [
        "df['Director'] = df['Director'].map(lambda x: x.split(' '))"
      ],
      "execution_count": 0,
      "outputs": []
    },
    {
      "cell_type": "code",
      "metadata": {
        "id": "Yvl0rQ8f7_In",
        "colab_type": "code",
        "outputId": "47c1ddcc-f6a3-4dbb-9d09-523fbbc383a6",
        "colab": {
          "base_uri": "https://localhost:8080/",
          "height": 34
        }
      },
      "source": [
        "df['Director'][0]"
      ],
      "execution_count": 15,
      "outputs": [
        {
          "output_type": "execute_result",
          "data": {
            "text/plain": [
              "['Frank', 'Darabont']"
            ]
          },
          "metadata": {
            "tags": []
          },
          "execution_count": 15
        }
      ]
    },
    {
      "cell_type": "code",
      "metadata": {
        "id": "-nsZS9zv7-Ve",
        "colab_type": "code",
        "colab": {}
      },
      "source": [
        "# merging together first and last name for each actor and director, so it's considered as one word \n",
        "# and there is no mix up between people sharing a first name\n",
        "for index, row in df.iterrows():\n",
        "    row['Actors'] = [x.lower().replace(' ','') for x in row['Actors']]\n",
        "    row['Director'] = ''.join(row['Director']).lower()"
      ],
      "execution_count": 0,
      "outputs": []
    },
    {
      "cell_type": "code",
      "metadata": {
        "id": "CG1rO7THmgqF",
        "colab_type": "code",
        "outputId": "495e0bd6-f686-44ef-8700-aa8bde4d62dd",
        "colab": {
          "base_uri": "https://localhost:8080/",
          "height": 34
        }
      },
      "source": [
        "df['Plot'][0]"
      ],
      "execution_count": 17,
      "outputs": [
        {
          "output_type": "execute_result",
          "data": {
            "text/plain": [
              "'Two imprisoned men bond over a number of years, finding solace and eventual redemption through acts of common decency.'"
            ]
          },
          "metadata": {
            "tags": []
          },
          "execution_count": 17
        }
      ]
    },
    {
      "cell_type": "code",
      "metadata": {
        "id": "FRpnERrQQk4P",
        "colab_type": "code",
        "outputId": "ab99bf08-9aaf-4bc4-9b3b-45ba18834d27",
        "colab": {
          "base_uri": "https://localhost:8080/",
          "height": 34
        }
      },
      "source": [
        "df['Plot'][1]"
      ],
      "execution_count": 18,
      "outputs": [
        {
          "output_type": "execute_result",
          "data": {
            "text/plain": [
              "'The aging patriarch of an organized crime dynasty transfers control of his clandestine empire to his reluctant son.'"
            ]
          },
          "metadata": {
            "tags": []
          },
          "execution_count": 18
        }
      ]
    },
    {
      "cell_type": "code",
      "metadata": {
        "id": "jkzWyw2HmpIs",
        "colab_type": "code",
        "colab": {}
      },
      "source": [
        "r = Rake()"
      ],
      "execution_count": 0,
      "outputs": []
    },
    {
      "cell_type": "code",
      "metadata": {
        "id": "babMas_QmuYv",
        "colab_type": "code",
        "colab": {}
      },
      "source": [
        "r.extract_keywords_from_text(df['Plot'][0])"
      ],
      "execution_count": 0,
      "outputs": []
    },
    {
      "cell_type": "code",
      "metadata": {
        "id": "5HQ2uw0Zm29D",
        "colab_type": "code",
        "colab": {}
      },
      "source": [
        "d = r.get_word_degrees()"
      ],
      "execution_count": 0,
      "outputs": []
    },
    {
      "cell_type": "code",
      "metadata": {
        "id": "rM-n36J7m2wM",
        "colab_type": "code",
        "outputId": "02315795-28b1-47d3-db3f-c916ae22f3ed",
        "colab": {
          "base_uri": "https://localhost:8080/",
          "height": 255
        }
      },
      "source": [
        "d"
      ],
      "execution_count": 22,
      "outputs": [
        {
          "output_type": "execute_result",
          "data": {
            "text/plain": [
              "defaultdict(<function rake_nltk.rake.Rake._build_word_co_occurance_graph.<locals>.<lambda>>,\n",
              "            {'acts': 1,\n",
              "             'bond': 4,\n",
              "             'common': 2,\n",
              "             'decency': 2,\n",
              "             'eventual': 2,\n",
              "             'finding': 2,\n",
              "             'imprisoned': 4,\n",
              "             'men': 4,\n",
              "             'number': 1,\n",
              "             'redemption': 2,\n",
              "             'solace': 2,\n",
              "             'two': 4,\n",
              "             'years': 1})"
            ]
          },
          "metadata": {
            "tags": []
          },
          "execution_count": 22
        }
      ]
    },
    {
      "cell_type": "code",
      "metadata": {
        "id": "uSlSBMwsnpRY",
        "colab_type": "code",
        "outputId": "93190cc5-01ec-40bf-c766-5783086e781a",
        "colab": {
          "base_uri": "https://localhost:8080/",
          "height": 238
        }
      },
      "source": [
        "list(d.keys())"
      ],
      "execution_count": 23,
      "outputs": [
        {
          "output_type": "execute_result",
          "data": {
            "text/plain": [
              "['common',\n",
              " 'decency',\n",
              " 'finding',\n",
              " 'solace',\n",
              " 'acts',\n",
              " 'two',\n",
              " 'imprisoned',\n",
              " 'men',\n",
              " 'bond',\n",
              " 'eventual',\n",
              " 'redemption',\n",
              " 'years',\n",
              " 'number']"
            ]
          },
          "metadata": {
            "tags": []
          },
          "execution_count": 23
        }
      ]
    },
    {
      "cell_type": "markdown",
      "metadata": {
        "id": "wRo3C0YDhOlq",
        "colab_type": "text"
      },
      "source": [
        "Extracting the key words from the plot description to make movie profiles. Text preprocessing."
      ]
    },
    {
      "cell_type": "code",
      "metadata": {
        "id": "Rzov_-nwhOlr",
        "colab_type": "code",
        "colab": {}
      },
      "source": [
        "# New column to store the keywords of the plot\n",
        "df['Key_words'] = \"\"\n",
        "\n",
        "for index, row in df.iterrows():\n",
        "    plot = row['Plot']\n",
        "    \n",
        "    # instantiating Rake, by default is uses english stopwords from NLTK\n",
        "    # and discard all puntuation characters\n",
        "    r = Rake()\n",
        "\n",
        "    # extracting the words by passing the text\n",
        "    r.extract_keywords_from_text(plot)\n",
        "\n",
        "    # getting the dictionary whith key words and their scores\n",
        "    key_words_dict_scores = r.get_word_degrees()\n",
        "    \n",
        "    # assigning the key words to the new column\n",
        "    row['Key_words'] = list(key_words_dict_scores.keys())\n",
        "\n",
        "# dropping the Plot column\n",
        "# df.drop(columns = ['Plot'], inplace = True)\n",
        "df.drop('Plot',axis = 1, inplace = True)\n",
        "df.set_index('Title', inplace = True)"
      ],
      "execution_count": 0,
      "outputs": []
    },
    {
      "cell_type": "code",
      "metadata": {
        "id": "vwTF5FNoz3S3",
        "colab_type": "code",
        "colab": {}
      },
      "source": [
        "columns = df.columns"
      ],
      "execution_count": 0,
      "outputs": []
    },
    {
      "cell_type": "code",
      "metadata": {
        "id": "S9COfyNZz4Gr",
        "colab_type": "code",
        "outputId": "e860ea1e-8978-4d6c-dad8-6affce2c235d",
        "colab": {
          "base_uri": "https://localhost:8080/",
          "height": 34
        }
      },
      "source": [
        "columns"
      ],
      "execution_count": 26,
      "outputs": [
        {
          "output_type": "execute_result",
          "data": {
            "text/plain": [
              "Index(['Genre', 'Director', 'Actors', 'Key_words'], dtype='object')"
            ]
          },
          "metadata": {
            "tags": []
          },
          "execution_count": 26
        }
      ]
    },
    {
      "cell_type": "code",
      "metadata": {
        "id": "7G1oB3aChOlx",
        "colab_type": "code",
        "colab": {}
      },
      "source": [
        "# constructing bag of words vectors for movies\n",
        "df['bag_of_words'] = ''\n",
        "columns = df.columns\n",
        "for index, row in df.iterrows():\n",
        "    words = ''\n",
        "    for col in columns:\n",
        "        if col != 'Director': # only one word in the column\n",
        "            words = words + ' '.join(row[col])+ ' '\n",
        "        else:\n",
        "            words = words + row[col]+ ' '\n",
        "    row['bag_of_words'] = words\n",
        "    \n"
      ],
      "execution_count": 0,
      "outputs": []
    },
    {
      "cell_type": "code",
      "metadata": {
        "id": "0rMNTWmrJvhz",
        "colab_type": "code",
        "outputId": "4257f15b-5fea-40be-dfe2-1c9165235396",
        "colab": {
          "base_uri": "https://localhost:8080/",
          "height": 34
        }
      },
      "source": [
        "df['bag_of_words'][0]"
      ],
      "execution_count": 28,
      "outputs": [
        {
          "output_type": "execute_result",
          "data": {
            "text/plain": [
              "'crime  drama frankdarabont timrobbins morganfreeman bobgunton common decency finding solace acts two imprisoned men bond eventual redemption years number  '"
            ]
          },
          "metadata": {
            "tags": []
          },
          "execution_count": 28
        }
      ]
    },
    {
      "cell_type": "code",
      "metadata": {
        "id": "zrfSv6WHJ9Bn",
        "colab_type": "code",
        "colab": {
          "base_uri": "https://localhost:8080/",
          "height": 620
        },
        "outputId": "dd88577f-c3db-4bf5-d2a6-4e061544d0e2"
      },
      "source": [
        "df"
      ],
      "execution_count": 29,
      "outputs": [
        {
          "output_type": "execute_result",
          "data": {
            "text/html": [
              "<div>\n",
              "<style scoped>\n",
              "    .dataframe tbody tr th:only-of-type {\n",
              "        vertical-align: middle;\n",
              "    }\n",
              "\n",
              "    .dataframe tbody tr th {\n",
              "        vertical-align: top;\n",
              "    }\n",
              "\n",
              "    .dataframe thead th {\n",
              "        text-align: right;\n",
              "    }\n",
              "</style>\n",
              "<table border=\"1\" class=\"dataframe\">\n",
              "  <thead>\n",
              "    <tr style=\"text-align: right;\">\n",
              "      <th></th>\n",
              "      <th>Genre</th>\n",
              "      <th>Director</th>\n",
              "      <th>Actors</th>\n",
              "      <th>Key_words</th>\n",
              "      <th>bag_of_words</th>\n",
              "    </tr>\n",
              "    <tr>\n",
              "      <th>Title</th>\n",
              "      <th></th>\n",
              "      <th></th>\n",
              "      <th></th>\n",
              "      <th></th>\n",
              "      <th></th>\n",
              "    </tr>\n",
              "  </thead>\n",
              "  <tbody>\n",
              "    <tr>\n",
              "      <th>The Shawshank Redemption</th>\n",
              "      <td>[crime,  drama]</td>\n",
              "      <td>frankdarabont</td>\n",
              "      <td>[timrobbins, morganfreeman, bobgunton]</td>\n",
              "      <td>[common, decency, finding, solace, acts, two, ...</td>\n",
              "      <td>crime  drama frankdarabont timrobbins morganfr...</td>\n",
              "    </tr>\n",
              "    <tr>\n",
              "      <th>The Godfather</th>\n",
              "      <td>[crime,  drama]</td>\n",
              "      <td>francisfordcoppola</td>\n",
              "      <td>[marlonbrando, alpacino, jamescaan]</td>\n",
              "      <td>[reluctant, son, clandestine, empire, organize...</td>\n",
              "      <td>crime  drama francisfordcoppola marlonbrando a...</td>\n",
              "    </tr>\n",
              "    <tr>\n",
              "      <th>The Godfather: Part II</th>\n",
              "      <td>[crime,  drama]</td>\n",
              "      <td>francisfordcoppola</td>\n",
              "      <td>[alpacino, robertduvall, dianekeaton]</td>\n",
              "      <td>[son, 1920s, new, york, grip, vito, corleone, ...</td>\n",
              "      <td>crime  drama francisfordcoppola alpacino rober...</td>\n",
              "    </tr>\n",
              "    <tr>\n",
              "      <th>The Dark Knight</th>\n",
              "      <td>[action,  crime,  drama]</td>\n",
              "      <td>christophernolan</td>\n",
              "      <td>[christianbale, heathledger, aaroneckhart]</td>\n",
              "      <td>[joker, emerges, mysterious, past, physical, t...</td>\n",
              "      <td>action  crime  drama christophernolan christia...</td>\n",
              "    </tr>\n",
              "    <tr>\n",
              "      <th>12 Angry Men</th>\n",
              "      <td>[crime,  drama]</td>\n",
              "      <td>sidneylumet</td>\n",
              "      <td>[martinbalsam, johnfiedler, leej.cobb]</td>\n",
              "      <td>[miscarriage, justice, evidence, jury, holdout...</td>\n",
              "      <td>crime  drama sidneylumet martinbalsam johnfied...</td>\n",
              "    </tr>\n",
              "    <tr>\n",
              "      <th>...</th>\n",
              "      <td>...</td>\n",
              "      <td>...</td>\n",
              "      <td>...</td>\n",
              "      <td>...</td>\n",
              "      <td>...</td>\n",
              "    </tr>\n",
              "    <tr>\n",
              "      <th>The Lost Weekend</th>\n",
              "      <td>[drama,  film-noir]</td>\n",
              "      <td>billywilder</td>\n",
              "      <td>[raymilland, janewyman, phillipterry]</td>\n",
              "      <td>[day, drinking, bout, four, chronic, alcoholic...</td>\n",
              "      <td>drama  film-noir billywilder raymilland janewy...</td>\n",
              "    </tr>\n",
              "    <tr>\n",
              "      <th>Short Term 12</th>\n",
              "      <td>[drama]</td>\n",
              "      <td>destindanielcretton</td>\n",
              "      <td>[brielarson, johngallagherjr., stephaniebeatriz]</td>\n",
              "      <td>[world, alongside, 20, worker, something, supe...</td>\n",
              "      <td>drama destindanielcretton brielarson johngalla...</td>\n",
              "    </tr>\n",
              "    <tr>\n",
              "      <th>His Girl Friday</th>\n",
              "      <td>[comedy,  drama,  romance]</td>\n",
              "      <td>howardhawks</td>\n",
              "      <td>[carygrant, rosalindrussell, ralphbellamy]</td>\n",
              "      <td>[newspaper, editor, uses, every, trick, wife, ...</td>\n",
              "      <td>comedy  drama  romance howardhawks carygrant r...</td>\n",
              "    </tr>\n",
              "    <tr>\n",
              "      <th>The Straight Story</th>\n",
              "      <td>[biography,  drama]</td>\n",
              "      <td>davidlynch</td>\n",
              "      <td>[sissyspacek, janegallowayheitz, josepha.carpe...</td>\n",
              "      <td>[long, journey, old, man, makes, ill, brother,...</td>\n",
              "      <td>biography  drama davidlynch sissyspacek janega...</td>\n",
              "    </tr>\n",
              "    <tr>\n",
              "      <th>Slumdog Millionaire</th>\n",
              "      <td>[drama]</td>\n",
              "      <td>dannyboyle,loveleentandan</td>\n",
              "      <td>[devpatel, saurabhshukla, anilkapoor]</td>\n",
              "      <td>[slums, indian, version, millionaire, ?\", mumb...</td>\n",
              "      <td>drama dannyboyle,loveleentandan devpatel saura...</td>\n",
              "    </tr>\n",
              "  </tbody>\n",
              "</table>\n",
              "<p>250 rows × 5 columns</p>\n",
              "</div>"
            ],
            "text/plain": [
              "                                               Genre  ...                                       bag_of_words\n",
              "Title                                                 ...                                                   \n",
              "The Shawshank Redemption             [crime,  drama]  ...  crime  drama frankdarabont timrobbins morganfr...\n",
              "The Godfather                        [crime,  drama]  ...  crime  drama francisfordcoppola marlonbrando a...\n",
              "The Godfather: Part II               [crime,  drama]  ...  crime  drama francisfordcoppola alpacino rober...\n",
              "The Dark Knight             [action,  crime,  drama]  ...  action  crime  drama christophernolan christia...\n",
              "12 Angry Men                         [crime,  drama]  ...  crime  drama sidneylumet martinbalsam johnfied...\n",
              "...                                              ...  ...                                                ...\n",
              "The Lost Weekend                 [drama,  film-noir]  ...  drama  film-noir billywilder raymilland janewy...\n",
              "Short Term 12                                [drama]  ...  drama destindanielcretton brielarson johngalla...\n",
              "His Girl Friday           [comedy,  drama,  romance]  ...  comedy  drama  romance howardhawks carygrant r...\n",
              "The Straight Story               [biography,  drama]  ...  biography  drama davidlynch sissyspacek janega...\n",
              "Slumdog Millionaire                          [drama]  ...  drama dannyboyle,loveleentandan devpatel saura...\n",
              "\n",
              "[250 rows x 5 columns]"
            ]
          },
          "metadata": {
            "tags": []
          },
          "execution_count": 29
        }
      ]
    },
    {
      "cell_type": "code",
      "metadata": {
        "id": "6LUn03MUrfYy",
        "colab_type": "code",
        "outputId": "7967e936-d919-47e5-caf5-3027125e68ad",
        "colab": {
          "base_uri": "https://localhost:8080/",
          "height": 450
        }
      },
      "source": [
        "df.drop(columns=['Genre','Director','Actors','Key_words'])"
      ],
      "execution_count": 30,
      "outputs": [
        {
          "output_type": "execute_result",
          "data": {
            "text/html": [
              "<div>\n",
              "<style scoped>\n",
              "    .dataframe tbody tr th:only-of-type {\n",
              "        vertical-align: middle;\n",
              "    }\n",
              "\n",
              "    .dataframe tbody tr th {\n",
              "        vertical-align: top;\n",
              "    }\n",
              "\n",
              "    .dataframe thead th {\n",
              "        text-align: right;\n",
              "    }\n",
              "</style>\n",
              "<table border=\"1\" class=\"dataframe\">\n",
              "  <thead>\n",
              "    <tr style=\"text-align: right;\">\n",
              "      <th></th>\n",
              "      <th>bag_of_words</th>\n",
              "    </tr>\n",
              "    <tr>\n",
              "      <th>Title</th>\n",
              "      <th></th>\n",
              "    </tr>\n",
              "  </thead>\n",
              "  <tbody>\n",
              "    <tr>\n",
              "      <th>The Shawshank Redemption</th>\n",
              "      <td>crime  drama frankdarabont timrobbins morganfr...</td>\n",
              "    </tr>\n",
              "    <tr>\n",
              "      <th>The Godfather</th>\n",
              "      <td>crime  drama francisfordcoppola marlonbrando a...</td>\n",
              "    </tr>\n",
              "    <tr>\n",
              "      <th>The Godfather: Part II</th>\n",
              "      <td>crime  drama francisfordcoppola alpacino rober...</td>\n",
              "    </tr>\n",
              "    <tr>\n",
              "      <th>The Dark Knight</th>\n",
              "      <td>action  crime  drama christophernolan christia...</td>\n",
              "    </tr>\n",
              "    <tr>\n",
              "      <th>12 Angry Men</th>\n",
              "      <td>crime  drama sidneylumet martinbalsam johnfied...</td>\n",
              "    </tr>\n",
              "    <tr>\n",
              "      <th>...</th>\n",
              "      <td>...</td>\n",
              "    </tr>\n",
              "    <tr>\n",
              "      <th>The Lost Weekend</th>\n",
              "      <td>drama  film-noir billywilder raymilland janewy...</td>\n",
              "    </tr>\n",
              "    <tr>\n",
              "      <th>Short Term 12</th>\n",
              "      <td>drama destindanielcretton brielarson johngalla...</td>\n",
              "    </tr>\n",
              "    <tr>\n",
              "      <th>His Girl Friday</th>\n",
              "      <td>comedy  drama  romance howardhawks carygrant r...</td>\n",
              "    </tr>\n",
              "    <tr>\n",
              "      <th>The Straight Story</th>\n",
              "      <td>biography  drama davidlynch sissyspacek janega...</td>\n",
              "    </tr>\n",
              "    <tr>\n",
              "      <th>Slumdog Millionaire</th>\n",
              "      <td>drama dannyboyle,loveleentandan devpatel saura...</td>\n",
              "    </tr>\n",
              "  </tbody>\n",
              "</table>\n",
              "<p>250 rows × 1 columns</p>\n",
              "</div>"
            ],
            "text/plain": [
              "                                                               bag_of_words\n",
              "Title                                                                      \n",
              "The Shawshank Redemption  crime  drama frankdarabont timrobbins morganfr...\n",
              "The Godfather             crime  drama francisfordcoppola marlonbrando a...\n",
              "The Godfather: Part II    crime  drama francisfordcoppola alpacino rober...\n",
              "The Dark Knight           action  crime  drama christophernolan christia...\n",
              "12 Angry Men              crime  drama sidneylumet martinbalsam johnfied...\n",
              "...                                                                     ...\n",
              "The Lost Weekend          drama  film-noir billywilder raymilland janewy...\n",
              "Short Term 12             drama destindanielcretton brielarson johngalla...\n",
              "His Girl Friday           comedy  drama  romance howardhawks carygrant r...\n",
              "The Straight Story        biography  drama davidlynch sissyspacek janega...\n",
              "Slumdog Millionaire       drama dannyboyle,loveleentandan devpatel saura...\n",
              "\n",
              "[250 rows x 1 columns]"
            ]
          },
          "metadata": {
            "tags": []
          },
          "execution_count": 30
        }
      ]
    },
    {
      "cell_type": "code",
      "metadata": {
        "id": "ApWLgqRyPY66",
        "colab_type": "code",
        "outputId": "db5f6f39-ee35-4ccb-cb99-e81bf7a5de61",
        "colab": {
          "base_uri": "https://localhost:8080/",
          "height": 34
        }
      },
      "source": [
        "df['bag_of_words'][0]"
      ],
      "execution_count": 31,
      "outputs": [
        {
          "output_type": "execute_result",
          "data": {
            "text/plain": [
              "'crime  drama frankdarabont timrobbins morganfreeman bobgunton common decency finding solace acts two imprisoned men bond eventual redemption years number  '"
            ]
          },
          "metadata": {
            "tags": []
          },
          "execution_count": 31
        }
      ]
    },
    {
      "cell_type": "markdown",
      "metadata": {
        "id": "Oncwk2JDhOl3",
        "colab_type": "text"
      },
      "source": [
        "Obtaining the representations for movies"
      ]
    },
    {
      "cell_type": "code",
      "metadata": {
        "id": "gLrj2fC4hOl4",
        "colab_type": "code",
        "colab": {}
      },
      "source": [
        "#Construct content based feature vectors for items(movies)\n",
        "# Solution\n",
        "\n",
        "\n",
        "from sklearn.feature_extraction.text import TfidfVectorizer\n",
        "# instantiating and generating the count matrix\n",
        "count = TfidfVectorizer()\n",
        "\n",
        "count_matrix = count.fit_transform(df['bag_of_words'])\n",
        "\n"
      ],
      "execution_count": 0,
      "outputs": []
    },
    {
      "cell_type": "code",
      "metadata": {
        "id": "Tp7YOZkStg7R",
        "colab_type": "code",
        "outputId": "ef7577f7-21e1-4b95-ff49-e9cd99e4a26d",
        "colab": {
          "base_uri": "https://localhost:8080/",
          "height": 136
        }
      },
      "source": [
        "count_matrix.toarray()"
      ],
      "execution_count": 33,
      "outputs": [
        {
          "output_type": "execute_result",
          "data": {
            "text/plain": [
              "array([[0., 0., 0., ..., 0., 0., 0.],\n",
              "       [0., 0., 0., ..., 0., 0., 0.],\n",
              "       [0., 0., 0., ..., 0., 0., 0.],\n",
              "       ...,\n",
              "       [0., 0., 0., ..., 0., 0., 0.],\n",
              "       [0., 0., 0., ..., 0., 0., 0.],\n",
              "       [0., 0., 0., ..., 0., 0., 0.]])"
            ]
          },
          "metadata": {
            "tags": []
          },
          "execution_count": 33
        }
      ]
    },
    {
      "cell_type": "code",
      "metadata": {
        "id": "BuVztVpRK9cu",
        "colab_type": "code",
        "outputId": "914d4d39-e7a4-4b8a-9ce1-ab297f55a97b",
        "colab": {
          "base_uri": "https://localhost:8080/",
          "height": 170
        }
      },
      "source": [
        "df.index"
      ],
      "execution_count": 34,
      "outputs": [
        {
          "output_type": "execute_result",
          "data": {
            "text/plain": [
              "Index(['The Shawshank Redemption', 'The Godfather', 'The Godfather: Part II',\n",
              "       'The Dark Knight', '12 Angry Men', 'Schindler's List',\n",
              "       'The Lord of the Rings: The Return of the King', 'Pulp Fiction',\n",
              "       'Fight Club', 'The Lord of the Rings: The Fellowship of the Ring',\n",
              "       ...\n",
              "       'Deadpool', 'The Wild Bunch', 'Aladdin', 'Big Fish', 'Patton',\n",
              "       'The Lost Weekend', 'Short Term 12', 'His Girl Friday',\n",
              "       'The Straight Story', 'Slumdog Millionaire'],\n",
              "      dtype='object', name='Title', length=250)"
            ]
          },
          "metadata": {
            "tags": []
          },
          "execution_count": 34
        }
      ]
    },
    {
      "cell_type": "code",
      "metadata": {
        "id": "wust6sersSeM",
        "colab_type": "code",
        "outputId": "458dfc35-acd8-4723-c047-7df30a469498",
        "colab": {
          "base_uri": "https://localhost:8080/",
          "height": 221
        }
      },
      "source": [
        "# creating a Series for the movie titles so they are associated to an ordered numerical\n",
        "# list I will use later to match the indexes\n",
        "indices = pd.Series(df.index)\n",
        "indices"
      ],
      "execution_count": 35,
      "outputs": [
        {
          "output_type": "execute_result",
          "data": {
            "text/plain": [
              "0      The Shawshank Redemption\n",
              "1                 The Godfather\n",
              "2        The Godfather: Part II\n",
              "3               The Dark Knight\n",
              "4                  12 Angry Men\n",
              "                 ...           \n",
              "245            The Lost Weekend\n",
              "246               Short Term 12\n",
              "247             His Girl Friday\n",
              "248          The Straight Story\n",
              "249         Slumdog Millionaire\n",
              "Name: Title, Length: 250, dtype: object"
            ]
          },
          "metadata": {
            "tags": []
          },
          "execution_count": 35
        }
      ]
    },
    {
      "cell_type": "code",
      "metadata": {
        "id": "d_piDkaDhOl9",
        "colab_type": "code",
        "outputId": "4ec9226d-a026-4bc1-f9ba-a860401403b4",
        "colab": {
          "base_uri": "https://localhost:8080/",
          "height": 238
        }
      },
      "source": [
        "# generating the cosine similarity matrix\n",
        "# Solution  X = count_matrix\n",
        "cosine_sim = cosine_similarity(count_matrix)\n",
        "cosine_sim"
      ],
      "execution_count": 36,
      "outputs": [
        {
          "output_type": "execute_result",
          "data": {
            "text/plain": [
              "array([[1.        , 0.02996184, 0.02611648, ..., 0.00386164, 0.00383188,\n",
              "        0.00372325],\n",
              "       [0.02996184, 1.        , 0.1914016 , ..., 0.00420721, 0.00417478,\n",
              "        0.00405643],\n",
              "       [0.02611648, 0.1914016 , 1.        , ..., 0.00366725, 0.00363898,\n",
              "        0.00353582],\n",
              "       ...,\n",
              "       [0.00386164, 0.00420721, 0.00366725, ..., 1.        , 0.00390566,\n",
              "        0.00379494],\n",
              "       [0.00383188, 0.00417478, 0.00363898, ..., 0.00390566, 1.        ,\n",
              "        0.00376569],\n",
              "       [0.00372325, 0.00405643, 0.00353582, ..., 0.00379494, 0.00376569,\n",
              "        1.        ]])"
            ]
          },
          "metadata": {
            "tags": []
          },
          "execution_count": 36
        }
      ]
    },
    {
      "cell_type": "code",
      "metadata": {
        "id": "H7PPHz1WvHT-",
        "colab_type": "code",
        "colab": {}
      },
      "source": [
        "idx = indices[indices == \"The Lost Weekend\"].index[0]"
      ],
      "execution_count": 0,
      "outputs": []
    },
    {
      "cell_type": "code",
      "metadata": {
        "id": "nMSViDqg1blw",
        "colab_type": "code",
        "outputId": "f086c1c7-2677-4fdb-8482-1dbf59f48266",
        "colab": {
          "base_uri": "https://localhost:8080/",
          "height": 34
        }
      },
      "source": [
        "idx"
      ],
      "execution_count": 38,
      "outputs": [
        {
          "output_type": "execute_result",
          "data": {
            "text/plain": [
              "245"
            ]
          },
          "metadata": {
            "tags": []
          },
          "execution_count": 38
        }
      ]
    },
    {
      "cell_type": "code",
      "metadata": {
        "id": "TiqKmd0jL5Rj",
        "colab_type": "code",
        "colab": {
          "base_uri": "https://localhost:8080/",
          "height": 867
        },
        "outputId": "6d0f5333-4227-47c2-9d8d-9f781e7470a3"
      },
      "source": [
        "cosine_sim[245]"
      ],
      "execution_count": 39,
      "outputs": [
        {
          "output_type": "execute_result",
          "data": {
            "text/plain": [
              "array([0.0042977 , 0.00468229, 0.02857501, 0.00351536, 0.00442689,\n",
              "       0.00400306, 0.00398325, 0.04282835, 0.02456941, 0.00399694,\n",
              "       0.0041732 , 0.        , 0.        , 0.00372963, 0.0040339 ,\n",
              "       0.02615978, 0.        , 0.        , 0.00448318, 0.03024013,\n",
              "       0.00403042, 0.00368594, 0.00380775, 0.00420721, 0.00378762,\n",
              "       0.00486285, 0.00448111, 0.00474581, 0.00452007, 0.00417464,\n",
              "       0.        , 0.        , 0.00455449, 0.        , 0.00468577,\n",
              "       0.00362755, 0.        , 0.        , 0.00443041, 0.00368037,\n",
              "       0.00455799, 0.003973  , 0.        , 0.00419938, 0.14453036,\n",
              "       0.0199337 , 0.        , 0.00444679, 0.00446293, 0.00385224,\n",
              "       0.05696648, 0.        , 0.        , 0.03171629, 0.02677893,\n",
              "       0.        , 0.00444393, 0.        , 0.        , 0.        ,\n",
              "       0.00388271, 0.00437477, 0.11211661, 0.0474752 , 0.00385261,\n",
              "       0.00508137, 0.00306857, 0.0039959 , 0.00413865, 0.00425041,\n",
              "       0.02872663, 0.00342491, 0.00397334, 0.04796303, 0.        ,\n",
              "       0.0037196 , 0.        , 0.        , 0.00391204, 0.        ,\n",
              "       0.05103246, 0.00459573, 0.        , 0.00459436, 0.00393305,\n",
              "       0.03449038, 0.00378279, 0.        , 0.04247071, 0.        ,\n",
              "       0.        , 0.05775283, 0.00415211, 0.04742566, 0.03044411,\n",
              "       0.00462354, 0.00373905, 0.        , 0.00538087, 0.00473277,\n",
              "       0.00459757, 0.00425089, 0.        , 0.02067428, 0.00358136,\n",
              "       0.00548128, 0.0050665 , 0.00345986, 0.03771329, 0.02982383,\n",
              "       0.00409178, 0.03080097, 0.00356447, 0.05038138, 0.00442145,\n",
              "       0.02333448, 0.13222513, 0.00343123, 0.00411131, 0.00371265,\n",
              "       0.00510665, 0.00410033, 0.0043387 , 0.04038688, 0.00358998,\n",
              "       0.        , 0.        , 0.        , 0.0037015 , 0.00482858,\n",
              "       0.        , 0.0360512 , 0.00375634, 0.        , 0.00420076,\n",
              "       0.02119978, 0.036399  , 0.00422633, 0.02715355, 0.00438359,\n",
              "       0.        , 0.00407566, 0.00449145, 0.00408833, 0.00457359,\n",
              "       0.        , 0.00456361, 0.00493076, 0.00505238, 0.        ,\n",
              "       0.06279473, 0.00490696, 0.00412453, 0.00368673, 0.00500217,\n",
              "       0.00434614, 0.00444926, 0.00418453, 0.00359142, 0.        ,\n",
              "       0.        , 0.00472226, 0.00476704, 0.        , 0.07230837,\n",
              "       0.02067462, 0.0040943 , 0.03373435, 0.0039774 , 0.        ,\n",
              "       0.07101149, 0.00392387, 0.00362542, 0.00400721, 0.05554614,\n",
              "       0.        , 0.004118  , 0.00382984, 0.0033271 , 0.00425958,\n",
              "       0.08406868, 0.        , 0.02386149, 0.05080516, 0.        ,\n",
              "       0.        , 0.        , 0.05742568, 0.00430281, 0.00449745,\n",
              "       0.        , 0.07039833, 0.00340642, 0.05932014, 0.05877586,\n",
              "       0.00477371, 0.        , 0.00346046, 0.        , 0.        ,\n",
              "       0.0045464 , 0.00334857, 0.        , 0.        , 0.        ,\n",
              "       0.00449858, 0.00438743, 0.        , 0.04619082, 0.003609  ,\n",
              "       0.00418686, 0.00397626, 0.00413125, 0.00419313, 0.0594164 ,\n",
              "       0.02906487, 0.00443097, 0.        , 0.07982292, 0.        ,\n",
              "       0.07406204, 0.00352808, 0.0040888 , 0.        , 0.00386286,\n",
              "       0.        , 0.00391916, 0.0618347 , 0.00430089, 0.00351641,\n",
              "       0.        , 0.00520723, 0.00506135, 0.02756451, 0.0048206 ,\n",
              "       0.00450283, 0.00409731, 0.00410453, 0.        , 0.00483476,\n",
              "       0.        , 0.        , 0.        , 0.03515901, 0.00447214,\n",
              "       1.        , 0.00374778, 0.00438046, 0.0043467 , 0.00422347])"
            ]
          },
          "metadata": {
            "tags": []
          },
          "execution_count": 39
        }
      ]
    },
    {
      "cell_type": "code",
      "metadata": {
        "id": "_G59coSnvqrV",
        "colab_type": "code",
        "colab": {}
      },
      "source": [
        "ss = pd.Series(cosine_sim[idx]).sort_values(ascending = False)"
      ],
      "execution_count": 0,
      "outputs": []
    },
    {
      "cell_type": "code",
      "metadata": {
        "id": "9DIAr950MDv3",
        "colab_type": "code",
        "outputId": "8a4efe97-8cb2-4bb0-dd35-59c2845d1413",
        "colab": {
          "base_uri": "https://localhost:8080/",
          "height": 221
        }
      },
      "source": [
        "ss"
      ],
      "execution_count": 41,
      "outputs": [
        {
          "output_type": "execute_result",
          "data": {
            "text/plain": [
              "245    1.000000\n",
              "44     0.144530\n",
              "116    0.132225\n",
              "62     0.112117\n",
              "180    0.084069\n",
              "         ...   \n",
              "186    0.000000\n",
              "185    0.000000\n",
              "33     0.000000\n",
              "223    0.000000\n",
              "133    0.000000\n",
              "Length: 250, dtype: float64"
            ]
          },
          "metadata": {
            "tags": []
          },
          "execution_count": 41
        }
      ]
    },
    {
      "cell_type": "code",
      "metadata": {
        "id": "ISRRN1r819ad",
        "colab_type": "code",
        "outputId": "ef0d654d-201b-454a-b8ee-e278be0a7b71",
        "colab": {
          "base_uri": "https://localhost:8080/",
          "height": 34
        }
      },
      "source": [
        "ss.iloc[1:11].index"
      ],
      "execution_count": 42,
      "outputs": [
        {
          "output_type": "execute_result",
          "data": {
            "text/plain": [
              "Int64Index([44, 116, 62, 180, 218, 220, 164, 170, 191, 150], dtype='int64')"
            ]
          },
          "metadata": {
            "tags": []
          },
          "execution_count": 42
        }
      ]
    },
    {
      "cell_type": "code",
      "metadata": {
        "id": "0MHYc4mAhOmE",
        "colab_type": "code",
        "colab": {}
      },
      "source": [
        "# Compute similarity between the items to recommend similar items.\n",
        "\n",
        "# function that takes in movie title as input and returns the top 10 recommended movies\n",
        "def recommendations(title, cosine_sim = cosine_sim):\n",
        "    \n",
        "    recommended_movies = []\n",
        "    \n",
        "    # gettin the index of the movie that matches the title\n",
        "    idx = indices[indices == title].index[0]\n",
        "\n",
        "    # creating a Series with the similarity scores in descending order\n",
        "    score_series = pd.Series(cosine_sim[idx]).sort_values(ascending = False)\n",
        "\n",
        "    # getting the indexes of the 10 most similar movies\n",
        "    top_10_indexes = list(score_series.iloc[1:11].index)\n",
        "    \n",
        "    # populating the list with the titles of the best 10 matching movies\n",
        "    for i in top_10_indexes:\n",
        "        recommended_movies.append(list(df.index)[i])\n",
        "        \n",
        "    return recommended_movies"
      ],
      "execution_count": 0,
      "outputs": []
    },
    {
      "cell_type": "code",
      "metadata": {
        "id": "Ds32C24ehOmN",
        "colab_type": "code",
        "outputId": "1227ea13-455d-497e-94e4-0dd96648b8f0",
        "colab": {
          "base_uri": "https://localhost:8080/",
          "height": 187
        }
      },
      "source": [
        "recommendations('12 Angry Men') "
      ],
      "execution_count": 44,
      "outputs": [
        {
          "output_type": "execute_result",
          "data": {
            "text/plain": [
              "['On the Waterfront',\n",
              " 'The Exorcist',\n",
              " 'American History X',\n",
              " 'Dog Day Afternoon',\n",
              " 'L.A. Confidential',\n",
              " 'Network',\n",
              " 'The Nightmare Before Christmas',\n",
              " 'A Christmas Story',\n",
              " 'Logan',\n",
              " 'The Godfather']"
            ]
          },
          "metadata": {
            "tags": []
          },
          "execution_count": 44
        }
      ]
    },
    {
      "cell_type": "code",
      "metadata": {
        "id": "wg9XZiWHhOmT",
        "colab_type": "code",
        "outputId": "9ef1f513-5d07-46b3-aee8-e8106acc8469",
        "colab": {
          "base_uri": "https://localhost:8080/",
          "height": 187
        }
      },
      "source": [
        "# print(indices)\n",
        "# movieid 16 is the movie The Matrix\n",
        "recommendations('The Matrix') "
      ],
      "execution_count": 45,
      "outputs": [
        {
          "output_type": "execute_result",
          "data": {
            "text/plain": [
              "['2001: A Space Odyssey',\n",
              " 'Memento',\n",
              " 'Guardians of the Galaxy Vol. 2',\n",
              " 'Mad Max: Fury Road',\n",
              " 'The Terminator',\n",
              " 'Alien',\n",
              " 'Guardians of the Galaxy',\n",
              " 'How to Train Your Dragon',\n",
              " 'Aliens',\n",
              " 'A Streetcar Named Desire']"
            ]
          },
          "metadata": {
            "tags": []
          },
          "execution_count": 45
        }
      ]
    },
    {
      "cell_type": "code",
      "metadata": {
        "id": "qFR7UejjqZ-D",
        "colab_type": "code",
        "outputId": "ac1a5f12-34fd-4ff9-f4f3-a084b65adbb8",
        "colab": {
          "base_uri": "https://localhost:8080/",
          "height": 187
        }
      },
      "source": [
        "recommendations('The Godfather') "
      ],
      "execution_count": 46,
      "outputs": [
        {
          "output_type": "execute_result",
          "data": {
            "text/plain": [
              "['The Godfather: Part II',\n",
              " 'Apocalypse Now',\n",
              " 'On the Waterfront',\n",
              " 'Scarface',\n",
              " 'The Night of the Hunter',\n",
              " 'Casino',\n",
              " 'Heat',\n",
              " 'Guardians of the Galaxy',\n",
              " 'All About Eve',\n",
              " \"Who's Afraid of Virginia Woolf?\"]"
            ]
          },
          "metadata": {
            "tags": []
          },
          "execution_count": 46
        }
      ]
    },
    {
      "cell_type": "code",
      "metadata": {
        "id": "rXTuHmNKNEuz",
        "colab_type": "code",
        "colab": {}
      },
      "source": [
        ""
      ],
      "execution_count": 0,
      "outputs": []
    }
  ]
}
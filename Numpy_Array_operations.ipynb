{
  "nbformat": 4,
  "nbformat_minor": 0,
  "metadata": {
    "colab": {
      "name": "Numpy Array operations.ipynb",
      "provenance": [],
      "authorship_tag": "ABX9TyMF8mTopl87ddsLo5rN1/co",
      "include_colab_link": true
    },
    "kernelspec": {
      "name": "python3",
      "display_name": "Python 3"
    }
  },
  "cells": [
    {
      "cell_type": "markdown",
      "metadata": {
        "id": "view-in-github",
        "colab_type": "text"
      },
      "source": [
        "<a href=\"https://colab.research.google.com/github/bhargav23/AI/blob/master/Lab/Numpy_Array_operations.ipynb\" target=\"_parent\"><img src=\"https://colab.research.google.com/assets/colab-badge.svg\" alt=\"Open In Colab\"/></a>"
      ]
    },
    {
      "cell_type": "markdown",
      "metadata": {
        "id": "XvSFap4_NE8m",
        "colab_type": "text"
      },
      "source": [
        "# In this lecture\n",
        "* Reshape an array\n",
        "* Numpy operations\n",
        "* Access elements from an array"
      ]
    },
    {
      "cell_type": "markdown",
      "metadata": {
        "id": "B25usDQ1NcAb",
        "colab_type": "text"
      },
      "source": [
        "## Reshaping an array\n",
        "reshape() - recasts an array to new shape without changing it’s data"
      ]
    },
    {
      "cell_type": "code",
      "metadata": {
        "id": "6fjhPAE2M8o5",
        "colab_type": "code",
        "colab": {}
      },
      "source": [
        "import numpy as np"
      ],
      "execution_count": 0,
      "outputs": []
    },
    {
      "cell_type": "code",
      "metadata": {
        "id": "wnekNYgqW7Mw",
        "colab_type": "code",
        "colab": {
          "base_uri": "https://localhost:8080/",
          "height": 34
        },
        "outputId": "b826c546-99cc-4090-a2b2-a6b9067a62fe"
      },
      "source": [
        "np.arange(1,10).shape"
      ],
      "execution_count": 85,
      "outputs": [
        {
          "output_type": "execute_result",
          "data": {
            "text/plain": [
              "(9,)"
            ]
          },
          "metadata": {
            "tags": []
          },
          "execution_count": 85
        }
      ]
    },
    {
      "cell_type": "code",
      "metadata": {
        "id": "foLg6mNtNwVx",
        "colab_type": "code",
        "colab": {}
      },
      "source": [
        "grid = np.arange(1,10).reshape(3,3)"
      ],
      "execution_count": 0,
      "outputs": []
    },
    {
      "cell_type": "code",
      "metadata": {
        "id": "-RUIFcbPN6LI",
        "colab_type": "code",
        "outputId": "568ae8a5-9597-4e83-92a4-2f74e2f55d67",
        "colab": {
          "base_uri": "https://localhost:8080/",
          "height": 67
        }
      },
      "source": [
        "grid"
      ],
      "execution_count": 87,
      "outputs": [
        {
          "output_type": "execute_result",
          "data": {
            "text/plain": [
              "array([[1, 2, 3],\n",
              "       [4, 5, 6],\n",
              "       [7, 8, 9]])"
            ]
          },
          "metadata": {
            "tags": []
          },
          "execution_count": 87
        }
      ]
    },
    {
      "cell_type": "markdown",
      "metadata": {
        "id": "AZ_GjKPlOAZa",
        "colab_type": "text"
      },
      "source": [
        "## Array dimensions\n",
        "* shape() - returns dimensions of an array\n",
        "* Syntax: array_name.shape()"
      ]
    },
    {
      "cell_type": "code",
      "metadata": {
        "id": "itaKWB0KN7g_",
        "colab_type": "code",
        "colab": {}
      },
      "source": [
        "a = np.array([[1, 2, 3], [4, 5, 6],  [7, 8, 9]])"
      ],
      "execution_count": 0,
      "outputs": []
    },
    {
      "cell_type": "code",
      "metadata": {
        "id": "TeAvQ0-EOXS3",
        "colab_type": "code",
        "outputId": "13cc2bfc-89ea-4333-83da-a0984f4edce1",
        "colab": {
          "base_uri": "https://localhost:8080/",
          "height": 34
        }
      },
      "source": [
        "a.shape"
      ],
      "execution_count": 89,
      "outputs": [
        {
          "output_type": "execute_result",
          "data": {
            "text/plain": [
              "(3, 3)"
            ]
          },
          "metadata": {
            "tags": []
          },
          "execution_count": 89
        }
      ]
    },
    {
      "cell_type": "markdown",
      "metadata": {
        "id": "P0cKNnkoOoJo",
        "colab_type": "text"
      },
      "source": [
        "## Numpy addition\n",
        "* numpy.sum( )- returns sum of all array elements or sum of all array elements over a given axis \n",
        "* Syntax: numpy. sum(array, axis) \n",
        "In the above syntax, \n",
        "  * array() - input array \n",
        "  * axis()  - axis along which sum should be calculated \n"
      ]
    },
    {
      "cell_type": "code",
      "metadata": {
        "id": "XHJhOUFpOc_Q",
        "colab_type": "code",
        "colab": {}
      },
      "source": [
        "a = np.array([[1, 2, 3], [4, 5, 6],  [7, 8, 9]])"
      ],
      "execution_count": 0,
      "outputs": []
    },
    {
      "cell_type": "code",
      "metadata": {
        "id": "N4zl1_IAPnnD",
        "colab_type": "code",
        "outputId": "8cb17006-e617-4a16-a0da-3bf9974e46db",
        "colab": {
          "base_uri": "https://localhost:8080/",
          "height": 67
        }
      },
      "source": [
        "a"
      ],
      "execution_count": 91,
      "outputs": [
        {
          "output_type": "execute_result",
          "data": {
            "text/plain": [
              "array([[1, 2, 3],\n",
              "       [4, 5, 6],\n",
              "       [7, 8, 9]])"
            ]
          },
          "metadata": {
            "tags": []
          },
          "execution_count": 91
        }
      ]
    },
    {
      "cell_type": "markdown",
      "metadata": {
        "id": "jfqGcdwlPpAM",
        "colab_type": "text"
      },
      "source": [
        "**Calculate overall sum (axis None)**"
      ]
    },
    {
      "cell_type": "code",
      "metadata": {
        "id": "jKJftV97PYvn",
        "colab_type": "code",
        "outputId": "9a07523f-d07a-44e2-ae16-576bf112a2f0",
        "colab": {
          "base_uri": "https://localhost:8080/",
          "height": 34
        }
      },
      "source": [
        "a.sum(axis=None)"
      ],
      "execution_count": 98,
      "outputs": [
        {
          "output_type": "execute_result",
          "data": {
            "text/plain": [
              "45"
            ]
          },
          "metadata": {
            "tags": []
          },
          "execution_count": 98
        }
      ]
    },
    {
      "cell_type": "code",
      "metadata": {
        "id": "s4KPbO00PtML",
        "colab_type": "code",
        "outputId": "79e87eab-f549-4aac-a197-7093492b5d6a",
        "colab": {
          "base_uri": "https://localhost:8080/",
          "height": 34
        }
      },
      "source": [
        "np.sum(a,axis=None)"
      ],
      "execution_count": 95,
      "outputs": [
        {
          "output_type": "execute_result",
          "data": {
            "text/plain": [
              "45"
            ]
          },
          "metadata": {
            "tags": []
          },
          "execution_count": 95
        }
      ]
    },
    {
      "cell_type": "markdown",
      "metadata": {
        "id": "s283aulaQEnk",
        "colab_type": "text"
      },
      "source": [
        "**Calculate sum along the column (axis=0)**"
      ]
    },
    {
      "cell_type": "code",
      "metadata": {
        "id": "wDn6KZJWP1Pu",
        "colab_type": "code",
        "outputId": "56f2d8a8-bc27-4ddf-9c27-431134c9cd67",
        "colab": {
          "base_uri": "https://localhost:8080/",
          "height": 34
        }
      },
      "source": [
        "np.sum(a,axis=0)"
      ],
      "execution_count": 96,
      "outputs": [
        {
          "output_type": "execute_result",
          "data": {
            "text/plain": [
              "array([12, 15, 18])"
            ]
          },
          "metadata": {
            "tags": []
          },
          "execution_count": 96
        }
      ]
    },
    {
      "cell_type": "markdown",
      "metadata": {
        "id": "EhQdl1YnQKpi",
        "colab_type": "text"
      },
      "source": [
        "**Calculate sum along the row (axis= 1)**"
      ]
    },
    {
      "cell_type": "code",
      "metadata": {
        "id": "9H6lfsXVP71f",
        "colab_type": "code",
        "outputId": "8ab19c49-3364-4a78-9e7f-91d5e7ca7a8c",
        "colab": {
          "base_uri": "https://localhost:8080/",
          "height": 34
        }
      },
      "source": [
        "np.sum(a,axis=1)"
      ],
      "execution_count": 97,
      "outputs": [
        {
          "output_type": "execute_result",
          "data": {
            "text/plain": [
              "array([ 6, 15, 24])"
            ]
          },
          "metadata": {
            "tags": []
          },
          "execution_count": 97
        }
      ]
    },
    {
      "cell_type": "markdown",
      "metadata": {
        "id": "JPbsa0SiQSvS",
        "colab_type": "text"
      },
      "source": [
        "### Numpy addition\n",
        "* numpy.add() - performs elementwise addition between two arrays\n",
        "* Syntax: numpy.add (array_1,array_2)"
      ]
    },
    {
      "cell_type": "code",
      "metadata": {
        "id": "6G6Vu9oCQR0Q",
        "colab_type": "code",
        "colab": {}
      },
      "source": [
        "a = np.array([[1, 2, 3], [4, 5, 6],  [7, 8, 9]])\n",
        "b = np.arange(11,20,).reshape(3,3)"
      ],
      "execution_count": 0,
      "outputs": []
    },
    {
      "cell_type": "code",
      "metadata": {
        "id": "DTMmHgjraZph",
        "colab_type": "code",
        "outputId": "c5eec645-a78a-4ead-ce41-3e9cf3ddb74e",
        "colab": {
          "base_uri": "https://localhost:8080/",
          "height": 67
        }
      },
      "source": [
        "print(a)"
      ],
      "execution_count": 100,
      "outputs": [
        {
          "output_type": "stream",
          "text": [
            "[[1 2 3]\n",
            " [4 5 6]\n",
            " [7 8 9]]\n"
          ],
          "name": "stdout"
        }
      ]
    },
    {
      "cell_type": "code",
      "metadata": {
        "id": "THgdKLv9a-x_",
        "colab_type": "code",
        "outputId": "9a47e45f-cac3-49de-c526-8d60732b8e5f",
        "colab": {
          "base_uri": "https://localhost:8080/",
          "height": 67
        }
      },
      "source": [
        "print(b)"
      ],
      "execution_count": 101,
      "outputs": [
        {
          "output_type": "stream",
          "text": [
            "[[11 12 13]\n",
            " [14 15 16]\n",
            " [17 18 19]]\n"
          ],
          "name": "stdout"
        }
      ]
    },
    {
      "cell_type": "code",
      "metadata": {
        "id": "MkfD1o0QbAqA",
        "colab_type": "code",
        "outputId": "f64f7e2f-b130-457e-bd9d-97bf36601173",
        "colab": {
          "base_uri": "https://localhost:8080/",
          "height": 67
        }
      },
      "source": [
        "np.add(a,b)"
      ],
      "execution_count": 102,
      "outputs": [
        {
          "output_type": "execute_result",
          "data": {
            "text/plain": [
              "array([[12, 14, 16],\n",
              "       [18, 20, 22],\n",
              "       [24, 26, 28]])"
            ]
          },
          "metadata": {
            "tags": []
          },
          "execution_count": 102
        }
      ]
    },
    {
      "cell_type": "markdown",
      "metadata": {
        "id": "d5cePEp0bJnl",
        "colab_type": "text"
      },
      "source": [
        "# Numpy multiplication\n",
        "* numpy.multipy() - performs elementwise addition between two arrays\n",
        "* Syntax: numpy.multipy(array_1,array_2)"
      ]
    },
    {
      "cell_type": "code",
      "metadata": {
        "id": "8I6oJO9KbJW2",
        "colab_type": "code",
        "outputId": "dc0607b1-3356-4d25-8421-fed5195a9120",
        "colab": {
          "base_uri": "https://localhost:8080/",
          "height": 67
        }
      },
      "source": [
        "np.multiply(a,b)"
      ],
      "execution_count": 103,
      "outputs": [
        {
          "output_type": "execute_result",
          "data": {
            "text/plain": [
              "array([[ 11,  24,  39],\n",
              "       [ 56,  75,  96],\n",
              "       [119, 144, 171]])"
            ]
          },
          "metadata": {
            "tags": []
          },
          "execution_count": 103
        }
      ]
    },
    {
      "cell_type": "code",
      "metadata": {
        "id": "QB2bzCvjbFCW",
        "colab_type": "code",
        "outputId": "7e3beee7-4dd7-4ca9-f1d0-d07176147595",
        "colab": {
          "base_uri": "https://localhost:8080/",
          "height": 67
        }
      },
      "source": [
        "np.subtract(a,b)"
      ],
      "execution_count": 104,
      "outputs": [
        {
          "output_type": "execute_result",
          "data": {
            "text/plain": [
              "array([[-10, -10, -10],\n",
              "       [-10, -10, -10],\n",
              "       [-10, -10, -10]])"
            ]
          },
          "metadata": {
            "tags": []
          },
          "execution_count": 104
        }
      ]
    },
    {
      "cell_type": "code",
      "metadata": {
        "id": "b8k_KJmBbs7S",
        "colab_type": "code",
        "outputId": "2ad0ee22-ac0c-48ca-e0b9-e724aa8b12bb",
        "colab": {
          "base_uri": "https://localhost:8080/",
          "height": 67
        }
      },
      "source": [
        "np.divide(a,b)"
      ],
      "execution_count": 105,
      "outputs": [
        {
          "output_type": "execute_result",
          "data": {
            "text/plain": [
              "array([[0.09090909, 0.16666667, 0.23076923],\n",
              "       [0.28571429, 0.33333333, 0.375     ],\n",
              "       [0.41176471, 0.44444444, 0.47368421]])"
            ]
          },
          "metadata": {
            "tags": []
          },
          "execution_count": 105
        }
      ]
    },
    {
      "cell_type": "code",
      "metadata": {
        "id": "Qp6UT8zibx7w",
        "colab_type": "code",
        "outputId": "7e592131-d676-4e7c-c1c7-03ee44f9555e",
        "colab": {
          "base_uri": "https://localhost:8080/",
          "height": 67
        }
      },
      "source": [
        "np.remainder(a,b)"
      ],
      "execution_count": 106,
      "outputs": [
        {
          "output_type": "execute_result",
          "data": {
            "text/plain": [
              "array([[1, 2, 3],\n",
              "       [4, 5, 6],\n",
              "       [7, 8, 9]])"
            ]
          },
          "metadata": {
            "tags": []
          },
          "execution_count": 106
        }
      ]
    },
    {
      "cell_type": "markdown",
      "metadata": {
        "id": "sD-C3DAAb6Rj",
        "colab_type": "text"
      },
      "source": [
        "## Accessing components of an array\n",
        "* Components of an array can be accessed using index number\n",
        "\n",
        "**Extract element with index (0, 1 ) from a**"
      ]
    },
    {
      "cell_type": "code",
      "metadata": {
        "id": "HAHnCa_QFlAp",
        "colab_type": "code",
        "outputId": "d72efb8e-e3f3-4acc-9e2a-199aca7363e8",
        "colab": {
          "base_uri": "https://localhost:8080/",
          "height": 67
        }
      },
      "source": [
        "a"
      ],
      "execution_count": 107,
      "outputs": [
        {
          "output_type": "execute_result",
          "data": {
            "text/plain": [
              "array([[1, 2, 3],\n",
              "       [4, 5, 6],\n",
              "       [7, 8, 9]])"
            ]
          },
          "metadata": {
            "tags": []
          },
          "execution_count": 107
        }
      ]
    },
    {
      "cell_type": "code",
      "metadata": {
        "id": "ZFmmhib-b2rt",
        "colab_type": "code",
        "outputId": "d2d5286a-29d6-445e-edcb-ff3bf9880f87",
        "colab": {
          "base_uri": "https://localhost:8080/",
          "height": 34
        }
      },
      "source": [
        "a[0,1]"
      ],
      "execution_count": 108,
      "outputs": [
        {
          "output_type": "execute_result",
          "data": {
            "text/plain": [
              "2"
            ]
          },
          "metadata": {
            "tags": []
          },
          "execution_count": 108
        }
      ]
    },
    {
      "cell_type": "markdown",
      "metadata": {
        "id": "mINp0Vq9cTgr",
        "colab_type": "text"
      },
      "source": [
        "**Extract elements from second and third row of array a**"
      ]
    },
    {
      "cell_type": "code",
      "metadata": {
        "id": "8RgjXm4ScPjl",
        "colab_type": "code",
        "outputId": "04d66f49-1b01-4742-e38b-2d11d9151096",
        "colab": {
          "base_uri": "https://localhost:8080/",
          "height": 50
        }
      },
      "source": [
        "a[1:3] # array[rows ,cols]   array[start:end,start:end] Note: end will be excluded"
      ],
      "execution_count": 114,
      "outputs": [
        {
          "output_type": "execute_result",
          "data": {
            "text/plain": [
              "array([[4, 5, 6],\n",
              "       [7, 8, 9]])"
            ]
          },
          "metadata": {
            "tags": []
          },
          "execution_count": 114
        }
      ]
    },
    {
      "cell_type": "code",
      "metadata": {
        "id": "heWT5Z0HEi_M",
        "colab_type": "code",
        "outputId": "dfd5a925-626a-4fcc-f70c-f2766bf9f499",
        "colab": {
          "base_uri": "https://localhost:8080/",
          "height": 50
        }
      },
      "source": [
        "a[0:2,0:2] #rows 0,1 , col 0,1"
      ],
      "execution_count": 115,
      "outputs": [
        {
          "output_type": "execute_result",
          "data": {
            "text/plain": [
              "array([[1, 2],\n",
              "       [4, 5]])"
            ]
          },
          "metadata": {
            "tags": []
          },
          "execution_count": 115
        }
      ]
    },
    {
      "cell_type": "markdown",
      "metadata": {
        "id": "ShA_Sdupcb0b",
        "colab_type": "text"
      },
      "source": [
        "**Extract elements from first column of array a**"
      ]
    },
    {
      "cell_type": "code",
      "metadata": {
        "id": "TdVuzcdQFAep",
        "colab_type": "code",
        "outputId": "7a25c776-ddf0-48b0-edb9-94438500dd59",
        "colab": {
          "base_uri": "https://localhost:8080/",
          "height": 67
        }
      },
      "source": [
        "a"
      ],
      "execution_count": 116,
      "outputs": [
        {
          "output_type": "execute_result",
          "data": {
            "text/plain": [
              "array([[1, 2, 3],\n",
              "       [4, 5, 6],\n",
              "       [7, 8, 9]])"
            ]
          },
          "metadata": {
            "tags": []
          },
          "execution_count": 116
        }
      ]
    },
    {
      "cell_type": "code",
      "metadata": {
        "id": "PRgousmrcXLh",
        "colab_type": "code",
        "outputId": "d14b7e21-00b6-4a09-8e58-b67a05da034d",
        "colab": {
          "base_uri": "https://localhost:8080/",
          "height": 67
        }
      },
      "source": [
        "a[:,0:1]"
      ],
      "execution_count": 119,
      "outputs": [
        {
          "output_type": "execute_result",
          "data": {
            "text/plain": [
              "array([[1],\n",
              "       [4],\n",
              "       [7]])"
            ]
          },
          "metadata": {
            "tags": []
          },
          "execution_count": 119
        }
      ]
    },
    {
      "cell_type": "markdown",
      "metadata": {
        "id": "AfX8p751cn56",
        "colab_type": "text"
      },
      "source": [
        "**Extract elements the first row of array a**"
      ]
    },
    {
      "cell_type": "code",
      "metadata": {
        "id": "UGtnfr7scjYh",
        "colab_type": "code",
        "outputId": "41e1e478-72dc-4351-e686-3f1c7e60bac6",
        "colab": {
          "base_uri": "https://localhost:8080/",
          "height": 34
        }
      },
      "source": [
        "a[0:1]"
      ],
      "execution_count": 120,
      "outputs": [
        {
          "output_type": "execute_result",
          "data": {
            "text/plain": [
              "array([[1, 2, 3]])"
            ]
          },
          "metadata": {
            "tags": []
          },
          "execution_count": 120
        }
      ]
    },
    {
      "cell_type": "code",
      "metadata": {
        "id": "wfbY1NUmFQ8i",
        "colab_type": "code",
        "outputId": "e6b44d0c-a0de-4567-c9ae-4d37395f3085",
        "colab": {
          "base_uri": "https://localhost:8080/",
          "height": 34
        }
      },
      "source": [
        "a[0:1,:]"
      ],
      "execution_count": 122,
      "outputs": [
        {
          "output_type": "execute_result",
          "data": {
            "text/plain": [
              "array([[1, 2, 3]])"
            ]
          },
          "metadata": {
            "tags": []
          },
          "execution_count": 122
        }
      ]
    },
    {
      "cell_type": "code",
      "metadata": {
        "id": "lYoZNvGNFT7p",
        "colab_type": "code",
        "outputId": "cf150932-d79d-4764-fba3-919a3031c878",
        "colab": {
          "base_uri": "https://localhost:8080/",
          "height": 67
        }
      },
      "source": [
        "a[0:3,:]"
      ],
      "execution_count": 123,
      "outputs": [
        {
          "output_type": "execute_result",
          "data": {
            "text/plain": [
              "array([[1, 2, 3],\n",
              "       [4, 5, 6],\n",
              "       [7, 8, 9]])"
            ]
          },
          "metadata": {
            "tags": []
          },
          "execution_count": 123
        }
      ]
    },
    {
      "cell_type": "markdown",
      "metadata": {
        "id": "YIBJQpmzc1o6",
        "colab_type": "text"
      },
      "source": [
        "## Subset of arrays\n",
        "* Subset a 2x2 array from the original array a\n",
        "* Consider the first two rows and columns from a"
      ]
    },
    {
      "cell_type": "code",
      "metadata": {
        "id": "7IJPVT15Z-HU",
        "colab_type": "code",
        "colab": {
          "base_uri": "https://localhost:8080/",
          "height": 67
        },
        "outputId": "b9513218-dd9b-4d7b-d96d-f29fc5753b7e"
      },
      "source": [
        "a"
      ],
      "execution_count": 125,
      "outputs": [
        {
          "output_type": "execute_result",
          "data": {
            "text/plain": [
              "array([[1, 2, 3],\n",
              "       [4, 5, 6],\n",
              "       [7, 8, 9]])"
            ]
          },
          "metadata": {
            "tags": []
          },
          "execution_count": 125
        }
      ]
    },
    {
      "cell_type": "code",
      "metadata": {
        "id": "QEfuz_XaZ85V",
        "colab_type": "code",
        "colab": {
          "base_uri": "https://localhost:8080/",
          "height": 50
        },
        "outputId": "4da072dc-2ac9-4bbb-ca19-9554b3996495"
      },
      "source": [
        "a[0:2,0:2]"
      ],
      "execution_count": 124,
      "outputs": [
        {
          "output_type": "execute_result",
          "data": {
            "text/plain": [
              "array([[1, 2],\n",
              "       [4, 5]])"
            ]
          },
          "metadata": {
            "tags": []
          },
          "execution_count": 124
        }
      ]
    },
    {
      "cell_type": "code",
      "metadata": {
        "id": "UPlO50DtctxO",
        "colab_type": "code",
        "colab": {}
      },
      "source": [
        "a_sub = a[0:2,0:2]"
      ],
      "execution_count": 0,
      "outputs": []
    },
    {
      "cell_type": "code",
      "metadata": {
        "id": "v3KNlrINdX8R",
        "colab_type": "code",
        "outputId": "8c647b46-e3d9-44ca-f8e4-612068664c2b",
        "colab": {
          "base_uri": "https://localhost:8080/",
          "height": 50
        }
      },
      "source": [
        "a_sub"
      ],
      "execution_count": 127,
      "outputs": [
        {
          "output_type": "execute_result",
          "data": {
            "text/plain": [
              "array([[1, 2],\n",
              "       [4, 5]])"
            ]
          },
          "metadata": {
            "tags": []
          },
          "execution_count": 127
        }
      ]
    },
    {
      "cell_type": "markdown",
      "metadata": {
        "id": "xD1U59Kcdk56",
        "colab_type": "text"
      },
      "source": [
        "**Here the value 1 should be updated to 1 2**"
      ]
    },
    {
      "cell_type": "code",
      "metadata": {
        "id": "jMsJN1Mxddj5",
        "colab_type": "code",
        "colab": {}
      },
      "source": [
        "a_sub[0,0] = 12"
      ],
      "execution_count": 0,
      "outputs": []
    },
    {
      "cell_type": "code",
      "metadata": {
        "id": "ot7C_aPsdqut",
        "colab_type": "code",
        "outputId": "ed9485d0-7362-462a-a688-79a0df6f6ebb",
        "colab": {
          "base_uri": "https://localhost:8080/",
          "height": 50
        }
      },
      "source": [
        "a_sub"
      ],
      "execution_count": 129,
      "outputs": [
        {
          "output_type": "execute_result",
          "data": {
            "text/plain": [
              "array([[12,  2],\n",
              "       [ 4,  5]])"
            ]
          },
          "metadata": {
            "tags": []
          },
          "execution_count": 129
        }
      ]
    },
    {
      "cell_type": "markdown",
      "metadata": {
        "id": "r0rDjM9Md9Lx",
        "colab_type": "text"
      },
      "source": [
        "**Modifying the subset will automatically update the original array as well**"
      ]
    },
    {
      "cell_type": "code",
      "metadata": {
        "id": "9BDNAlpydsMu",
        "colab_type": "code",
        "outputId": "b3bfdb7e-b2cd-415b-be68-487192bc3a96",
        "colab": {
          "base_uri": "https://localhost:8080/",
          "height": 67
        }
      },
      "source": [
        "print(a)"
      ],
      "execution_count": 130,
      "outputs": [
        {
          "output_type": "stream",
          "text": [
            "[[12  2  3]\n",
            " [ 4  5  6]\n",
            " [ 7  8  9]]\n"
          ],
          "name": "stdout"
        }
      ]
    },
    {
      "cell_type": "markdown",
      "metadata": {
        "id": "2J8SLKZBeGiI",
        "colab_type": "text"
      },
      "source": [
        "## Modifying array using transpose()\n",
        "* numpy.transpose() permute the dimensions of array\n",
        "* Syntax: numpy.transpose (array)"
      ]
    },
    {
      "cell_type": "code",
      "metadata": {
        "id": "2r1GvGk5eB3M",
        "colab_type": "code",
        "outputId": "46ca3ca4-73f8-475c-9704-6dd270ef5bb2",
        "colab": {
          "base_uri": "https://localhost:8080/",
          "height": 67
        }
      },
      "source": [
        "np.transpose(a)"
      ],
      "execution_count": 131,
      "outputs": [
        {
          "output_type": "execute_result",
          "data": {
            "text/plain": [
              "array([[12,  4,  7],\n",
              "       [ 2,  5,  8],\n",
              "       [ 3,  6,  9]])"
            ]
          },
          "metadata": {
            "tags": []
          },
          "execution_count": 131
        }
      ]
    },
    {
      "cell_type": "markdown",
      "metadata": {
        "id": "R4aUaPVgee9w",
        "colab_type": "text"
      },
      "source": [
        "## Modifying array using append()\n",
        "* append() - adds values at the end of the array\n",
        "* Syntax: numpy.append(array,val,axis)\n",
        "* Adding the new array to a as a row"
      ]
    },
    {
      "cell_type": "code",
      "metadata": {
        "id": "E46miH4maucF",
        "colab_type": "code",
        "colab": {
          "base_uri": "https://localhost:8080/",
          "height": 67
        },
        "outputId": "e9349a88-c368-431e-f915-38e4b82ba25e"
      },
      "source": [
        "a"
      ],
      "execution_count": 132,
      "outputs": [
        {
          "output_type": "execute_result",
          "data": {
            "text/plain": [
              "array([[12,  2,  3],\n",
              "       [ 4,  5,  6],\n",
              "       [ 7,  8,  9]])"
            ]
          },
          "metadata": {
            "tags": []
          },
          "execution_count": 132
        }
      ]
    },
    {
      "cell_type": "code",
      "metadata": {
        "id": "ZVjpwk6leZnr",
        "colab_type": "code",
        "outputId": "dba07759-8e74-48f0-a41b-0c5cbe073c97",
        "colab": {
          "base_uri": "https://localhost:8080/",
          "height": 84
        }
      },
      "source": [
        "np.append(a,[[13,14,15]],axis=0) #axis = 0 means addaing rows"
      ],
      "execution_count": 133,
      "outputs": [
        {
          "output_type": "execute_result",
          "data": {
            "text/plain": [
              "array([[12,  2,  3],\n",
              "       [ 4,  5,  6],\n",
              "       [ 7,  8,  9],\n",
              "       [13, 14, 15]])"
            ]
          },
          "metadata": {
            "tags": []
          },
          "execution_count": 133
        }
      ]
    },
    {
      "cell_type": "code",
      "metadata": {
        "id": "Ug3mm5SPe6KT",
        "colab_type": "code",
        "colab": {}
      },
      "source": [
        "col = [[16],[17],[18]]"
      ],
      "execution_count": 0,
      "outputs": []
    },
    {
      "cell_type": "code",
      "metadata": {
        "id": "uLigEC9CfL_3",
        "colab_type": "code",
        "outputId": "4de5b85a-f3cd-4355-b0f9-dead5a0fc9ca",
        "colab": {
          "base_uri": "https://localhost:8080/",
          "height": 34
        }
      },
      "source": [
        "col"
      ],
      "execution_count": 141,
      "outputs": [
        {
          "output_type": "execute_result",
          "data": {
            "text/plain": [
              "[[16], [17], [18]]"
            ]
          },
          "metadata": {
            "tags": []
          },
          "execution_count": 141
        }
      ]
    },
    {
      "cell_type": "code",
      "metadata": {
        "id": "GheFalW9fMwO",
        "colab_type": "code",
        "outputId": "ca833d3d-9186-4d7c-88f4-24c0d84d17bd",
        "colab": {
          "base_uri": "https://localhost:8080/",
          "height": 67
        }
      },
      "source": [
        "np.append(a,col,axis=1) #axis = 1 means addaing cols"
      ],
      "execution_count": 142,
      "outputs": [
        {
          "output_type": "execute_result",
          "data": {
            "text/plain": [
              "array([[12,  2,  3, 16],\n",
              "       [ 4,  5,  6, 17],\n",
              "       [ 7,  8,  9, 18]])"
            ]
          },
          "metadata": {
            "tags": []
          },
          "execution_count": 142
        }
      ]
    },
    {
      "cell_type": "code",
      "metadata": {
        "id": "3QsfQCbnbWJT",
        "colab_type": "code",
        "colab": {
          "base_uri": "https://localhost:8080/",
          "height": 34
        },
        "outputId": "f518cedc-2ae1-432c-ea3c-d6ae8b373527"
      },
      "source": [
        "np.array([19,20,21])"
      ],
      "execution_count": 143,
      "outputs": [
        {
          "output_type": "execute_result",
          "data": {
            "text/plain": [
              "array([19, 20, 21])"
            ]
          },
          "metadata": {
            "tags": []
          },
          "execution_count": 143
        }
      ]
    },
    {
      "cell_type": "code",
      "metadata": {
        "id": "KlKCyzwobZ5T",
        "colab_type": "code",
        "colab": {
          "base_uri": "https://localhost:8080/",
          "height": 67
        },
        "outputId": "64ce3752-3628-4e63-9441-5006890ba254"
      },
      "source": [
        "np.array([19,20,21]).reshape(3,1)"
      ],
      "execution_count": 144,
      "outputs": [
        {
          "output_type": "execute_result",
          "data": {
            "text/plain": [
              "array([[19],\n",
              "       [20],\n",
              "       [21]])"
            ]
          },
          "metadata": {
            "tags": []
          },
          "execution_count": 144
        }
      ]
    },
    {
      "cell_type": "code",
      "metadata": {
        "id": "6AZUhcLYfV9i",
        "colab_type": "code",
        "colab": {}
      },
      "source": [
        "col = np.array([19,20,21]).reshape(3,1)"
      ],
      "execution_count": 0,
      "outputs": []
    },
    {
      "cell_type": "code",
      "metadata": {
        "id": "6q4ZJQoagQgU",
        "colab_type": "code",
        "outputId": "88a57da0-2acd-42a1-b4af-c773cdc1e91f",
        "colab": {
          "base_uri": "https://localhost:8080/",
          "height": 67
        }
      },
      "source": [
        "col"
      ],
      "execution_count": 146,
      "outputs": [
        {
          "output_type": "execute_result",
          "data": {
            "text/plain": [
              "array([[19],\n",
              "       [20],\n",
              "       [21]])"
            ]
          },
          "metadata": {
            "tags": []
          },
          "execution_count": 146
        }
      ]
    },
    {
      "cell_type": "code",
      "metadata": {
        "id": "AO1hcTMpgda9",
        "colab_type": "code",
        "outputId": "e5381c15-1844-44f6-b31b-f2ab2207e2f3",
        "colab": {
          "base_uri": "https://localhost:8080/",
          "height": 67
        }
      },
      "source": [
        "np.append(a,col,axis=1) #axis = 1 means addaing cols"
      ],
      "execution_count": 147,
      "outputs": [
        {
          "output_type": "execute_result",
          "data": {
            "text/plain": [
              "array([[12,  2,  3, 19],\n",
              "       [ 4,  5,  6, 20],\n",
              "       [ 7,  8,  9, 21]])"
            ]
          },
          "metadata": {
            "tags": []
          },
          "execution_count": 147
        }
      ]
    },
    {
      "cell_type": "markdown",
      "metadata": {
        "id": "-CraYsbIb5gI",
        "colab_type": "text"
      },
      "source": [
        "## Modifying array using insert( )\n",
        "* insert( ) - adds values at a given position and axis in an\n",
        "array\n",
        "* Syntax: numpy.insert(array,obj,values,axis)\n",
        "  * array: input array\n",
        "  * obj : index position\n",
        "  * values : array of values to be inserted\n",
        "  * axis : axis along which values should be insert"
      ]
    },
    {
      "cell_type": "code",
      "metadata": {
        "id": "xYz-8lPKfeVL",
        "colab_type": "code",
        "outputId": "0bfb062b-3091-4f24-b1c4-c435c209f89e",
        "colab": {
          "base_uri": "https://localhost:8080/",
          "height": 67
        }
      },
      "source": [
        "a"
      ],
      "execution_count": 148,
      "outputs": [
        {
          "output_type": "execute_result",
          "data": {
            "text/plain": [
              "array([[12,  2,  3],\n",
              "       [ 4,  5,  6],\n",
              "       [ 7,  8,  9]])"
            ]
          },
          "metadata": {
            "tags": []
          },
          "execution_count": 148
        }
      ]
    },
    {
      "cell_type": "markdown",
      "metadata": {
        "id": "fSkdX3ieiEWz",
        "colab_type": "text"
      },
      "source": [
        "**Insert new array along row and at the 1st index position**"
      ]
    },
    {
      "cell_type": "code",
      "metadata": {
        "id": "n0CikIyQgMij",
        "colab_type": "code",
        "colab": {}
      },
      "source": [
        "a_ins = np.insert(a,0,[13,14,15],axis=0) #axis = 0 means addaing rows"
      ],
      "execution_count": 0,
      "outputs": []
    },
    {
      "cell_type": "code",
      "metadata": {
        "id": "_VSTRUNCieLX",
        "colab_type": "code",
        "outputId": "f598d028-d3a5-46f7-eda7-857503593948",
        "colab": {
          "base_uri": "https://localhost:8080/",
          "height": 84
        }
      },
      "source": [
        "print(a_ins)"
      ],
      "execution_count": 153,
      "outputs": [
        {
          "output_type": "stream",
          "text": [
            "[[13 14 15]\n",
            " [12  2  3]\n",
            " [ 4  5  6]\n",
            " [ 7  8  9]]\n"
          ],
          "name": "stdout"
        }
      ]
    },
    {
      "cell_type": "markdown",
      "metadata": {
        "id": "dcY0gPIwijhF",
        "colab_type": "text"
      },
      "source": [
        "## Modifying array using delete( )\n",
        "* delete ( )- removes values at a given position and axis in an array \n",
        "* Syntax: numpy.delete(array, obj, axis) \n",
        "  * array - input array \n",
        "  * obj - indicate array to be removed or it's position \n",
        "  * axis - axis along which array should be removed \n"
      ]
    },
    {
      "cell_type": "markdown",
      "metadata": {
        "id": "HJQ9Qh5cjOu-",
        "colab_type": "text"
      },
      "source": [
        "**Delete third row from the existing array a_ins**"
      ]
    },
    {
      "cell_type": "code",
      "metadata": {
        "id": "LfLlw-IFcHBP",
        "colab_type": "code",
        "colab": {
          "base_uri": "https://localhost:8080/",
          "height": 84
        },
        "outputId": "eeb3cc20-8431-4b06-ce31-a5c19c94353e"
      },
      "source": [
        "a_ins"
      ],
      "execution_count": 154,
      "outputs": [
        {
          "output_type": "execute_result",
          "data": {
            "text/plain": [
              "array([[13, 14, 15],\n",
              "       [12,  2,  3],\n",
              "       [ 4,  5,  6],\n",
              "       [ 7,  8,  9]])"
            ]
          },
          "metadata": {
            "tags": []
          },
          "execution_count": 154
        }
      ]
    },
    {
      "cell_type": "code",
      "metadata": {
        "id": "HI7Eq59KifxG",
        "colab_type": "code",
        "colab": {}
      },
      "source": [
        "a_del = np.delete(a_ins,2,axis=0)"
      ],
      "execution_count": 0,
      "outputs": []
    },
    {
      "cell_type": "code",
      "metadata": {
        "id": "3gcM4mgpjgM0",
        "colab_type": "code",
        "outputId": "a0a17f88-f6c0-4dfb-8446-473a59d19613",
        "colab": {
          "base_uri": "https://localhost:8080/",
          "height": 67
        }
      },
      "source": [
        "a_del"
      ],
      "execution_count": 159,
      "outputs": [
        {
          "output_type": "execute_result",
          "data": {
            "text/plain": [
              "array([[13, 14, 15],\n",
              "       [12,  2,  3],\n",
              "       [ 7,  8,  9]])"
            ]
          },
          "metadata": {
            "tags": []
          },
          "execution_count": 159
        }
      ]
    },
    {
      "cell_type": "code",
      "metadata": {
        "id": "o1nVK5YmIOAP",
        "colab_type": "code",
        "colab": {}
      },
      "source": [
        "a_del = np.delete(a_ins,2,axis=1)"
      ],
      "execution_count": 0,
      "outputs": []
    },
    {
      "cell_type": "code",
      "metadata": {
        "id": "ba8BqbM9ISGi",
        "colab_type": "code",
        "outputId": "c9aa4268-a3d4-41bd-986b-ff78f3224a51",
        "colab": {
          "base_uri": "https://localhost:8080/",
          "height": 84
        }
      },
      "source": [
        "a_del"
      ],
      "execution_count": 161,
      "outputs": [
        {
          "output_type": "execute_result",
          "data": {
            "text/plain": [
              "array([[13, 14],\n",
              "       [12,  2],\n",
              "       [ 4,  5],\n",
              "       [ 7,  8]])"
            ]
          },
          "metadata": {
            "tags": []
          },
          "execution_count": 161
        }
      ]
    },
    {
      "cell_type": "markdown",
      "metadata": {
        "id": "rhauMNHkjzus",
        "colab_type": "text"
      },
      "source": [
        "## Summary\n",
        "  * Reshape an array\n",
        "  * Numpy operations\n",
        "  * Accessing components\n",
        "  * Subset of arrays\n",
        "  * Modifying array"
      ]
    }
  ]
}
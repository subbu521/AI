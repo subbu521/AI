{
  "nbformat": 4,
  "nbformat_minor": 0,
  "metadata": {
    "colab": {
      "name": "NumPy Matrices.ipynb",
      "provenance": [],
      "authorship_tag": "ABX9TyMbLJD41U7cB2peEO9KhAn6",
      "include_colab_link": true
    },
    "kernelspec": {
      "name": "python3",
      "display_name": "Python 3"
    }
  },
  "cells": [
    {
      "cell_type": "markdown",
      "metadata": {
        "id": "view-in-github",
        "colab_type": "text"
      },
      "source": [
        "<a href=\"https://colab.research.google.com/github/bhargav23/AI/blob/master/Lab/NumPy_Matrices.ipynb\" target=\"_parent\"><img src=\"https://colab.research.google.com/assets/colab-badge.svg\" alt=\"Open In Colab\"/></a>"
      ]
    },
    {
      "cell_type": "markdown",
      "metadata": {
        "id": "1ZNOHWUQoHz1",
        "colab_type": "text"
      },
      "source": [
        "# In this lecture\n",
        "  * Matrices\n",
        "    * Create matrices\n",
        "    * Dimensions\n",
        "    * Modifying matrices\n",
        "    * Accessing elements of a matrix\n",
        "    * Matrix operations\n",
        "    * Linear algebra operations in python\n",
        "\n",
        "## Matrices\n",
        "* Rectangular arrangement of numbers in rows and columns\n",
        "* Rows run horizontally and columns run vertically\n",
        "\n",
        "### Create a matrix\n",
        "* mitrix() - returns a matrix from an array type object or string of data \n",
        "* Syntax: numpy.matrix(data) \n"
      ]
    },
    {
      "cell_type": "code",
      "metadata": {
        "id": "X_f_cWY0kT6N",
        "colab_type": "code",
        "colab": {}
      },
      "source": [
        "import numpy as np "
      ],
      "execution_count": 0,
      "outputs": []
    },
    {
      "cell_type": "code",
      "metadata": {
        "id": "aZ8yrZwsxnN5",
        "colab_type": "code",
        "colab": {}
      },
      "source": [
        "a=np.matrix(\"1,2,3,4;4,5,6,7;7,8,9,10\") "
      ],
      "execution_count": 0,
      "outputs": []
    },
    {
      "cell_type": "code",
      "metadata": {
        "id": "Mk14L_jGx89N",
        "colab_type": "code",
        "outputId": "05a65f49-915a-42d1-fd14-bb1d92b514db",
        "colab": {
          "base_uri": "https://localhost:8080/",
          "height": 67
        }
      },
      "source": [
        "a"
      ],
      "execution_count": 3,
      "outputs": [
        {
          "output_type": "execute_result",
          "data": {
            "text/plain": [
              "matrix([[ 1,  2,  3,  4],\n",
              "        [ 4,  5,  6,  7],\n",
              "        [ 7,  8,  9, 10]])"
            ]
          },
          "metadata": {
            "tags": []
          },
          "execution_count": 3
        }
      ]
    },
    {
      "cell_type": "code",
      "metadata": {
        "id": "FOuX1DuEx9z-",
        "colab_type": "code",
        "colab": {}
      },
      "source": [
        "b=np.matrix([[ 1,  2,  3,  4], [ 4,  5,  6,  7],[ 7,  8,  9, 10]]) "
      ],
      "execution_count": 0,
      "outputs": []
    },
    {
      "cell_type": "code",
      "metadata": {
        "id": "S4VlzZxqyEhM",
        "colab_type": "code",
        "outputId": "4ad70f2d-476f-4810-fa7c-71ac27c4053e",
        "colab": {
          "base_uri": "https://localhost:8080/",
          "height": 67
        }
      },
      "source": [
        "b"
      ],
      "execution_count": 5,
      "outputs": [
        {
          "output_type": "execute_result",
          "data": {
            "text/plain": [
              "matrix([[ 1,  2,  3,  4],\n",
              "        [ 4,  5,  6,  7],\n",
              "        [ 7,  8,  9, 10]])"
            ]
          },
          "metadata": {
            "tags": []
          },
          "execution_count": 5
        }
      ]
    },
    {
      "cell_type": "markdown",
      "metadata": {
        "id": "BztDnR7ayOiK",
        "colab_type": "text"
      },
      "source": [
        "### Matrix properties\n",
        "* shape( )- returns number of rows and columns from a matrix    \n",
        "* shape[0]- returns the number of rows \n",
        "* shape[1]- returns the number of columns \n",
        "* size( )- returns the number of elements from a matrix \n"
      ]
    },
    {
      "cell_type": "code",
      "metadata": {
        "id": "NH4pgZX3yF5h",
        "colab_type": "code",
        "outputId": "2147c48b-bd53-4f2d-ebcd-4f33a387b8fd",
        "colab": {
          "base_uri": "https://localhost:8080/",
          "height": 34
        }
      },
      "source": [
        "a.shape"
      ],
      "execution_count": 6,
      "outputs": [
        {
          "output_type": "execute_result",
          "data": {
            "text/plain": [
              "(3, 4)"
            ]
          },
          "metadata": {
            "tags": []
          },
          "execution_count": 6
        }
      ]
    },
    {
      "cell_type": "code",
      "metadata": {
        "id": "bRf-ocUNygjP",
        "colab_type": "code",
        "outputId": "be986051-81aa-47f5-f757-26522ad01032",
        "colab": {
          "base_uri": "https://localhost:8080/",
          "height": 34
        }
      },
      "source": [
        "a.shape[0]"
      ],
      "execution_count": 7,
      "outputs": [
        {
          "output_type": "execute_result",
          "data": {
            "text/plain": [
              "3"
            ]
          },
          "metadata": {
            "tags": []
          },
          "execution_count": 7
        }
      ]
    },
    {
      "cell_type": "code",
      "metadata": {
        "id": "_nYyQy--yuCE",
        "colab_type": "code",
        "outputId": "a1e0ac4e-e720-4bd6-a02e-1193c2270e0c",
        "colab": {
          "base_uri": "https://localhost:8080/",
          "height": 34
        }
      },
      "source": [
        "a.shape[1]"
      ],
      "execution_count": 8,
      "outputs": [
        {
          "output_type": "execute_result",
          "data": {
            "text/plain": [
              "4"
            ]
          },
          "metadata": {
            "tags": []
          },
          "execution_count": 8
        }
      ]
    },
    {
      "cell_type": "code",
      "metadata": {
        "id": "bUvnw7rGy1Fe",
        "colab_type": "code",
        "outputId": "84a8923d-299c-4cd0-9bd9-94aeb82b7e1f",
        "colab": {
          "base_uri": "https://localhost:8080/",
          "height": 34
        }
      },
      "source": [
        "a.size"
      ],
      "execution_count": 9,
      "outputs": [
        {
          "output_type": "execute_result",
          "data": {
            "text/plain": [
              "12"
            ]
          },
          "metadata": {
            "tags": []
          },
          "execution_count": 9
        }
      ]
    },
    {
      "cell_type": "markdown",
      "metadata": {
        "id": "Rq-S8XnIzIs5",
        "colab_type": "text"
      },
      "source": [
        "### Modifying matrix using insert() \n",
        "\n",
        "* insert- adds values at a given position and axis in a matrix \n",
        "* Syntax: numpy. insert (matrix, obj,values,axis) \n",
        "  * matrix - input matrix \n",
        "  * obj    - index position \n",
        "  * values - matrix of values to be inserted \n",
        "  * axis   - axis along which values should be insert \n",
        "\n",
        "**Adding the matrix 'col_new' as a new column to a**"
      ]
    },
    {
      "cell_type": "code",
      "metadata": {
        "id": "7JlptjID2GYX",
        "colab_type": "code",
        "outputId": "538780db-6508-49e6-f07d-88850b49eaa3",
        "colab": {
          "base_uri": "https://localhost:8080/",
          "height": 67
        }
      },
      "source": [
        "print(a)"
      ],
      "execution_count": 10,
      "outputs": [
        {
          "output_type": "stream",
          "text": [
            "[[ 1  2  3  4]\n",
            " [ 4  5  6  7]\n",
            " [ 7  8  9 10]]\n"
          ],
          "name": "stdout"
        }
      ]
    },
    {
      "cell_type": "code",
      "metadata": {
        "id": "L0gVM5hVzBm_",
        "colab_type": "code",
        "colab": {}
      },
      "source": [
        "col_new=np.matrix(\"2,3,4\") "
      ],
      "execution_count": 0,
      "outputs": []
    },
    {
      "cell_type": "code",
      "metadata": {
        "id": "5Gl8o0CQ1t_A",
        "colab_type": "code",
        "outputId": "e60731a6-4f33-48c0-964a-d6e9563dfe5d",
        "colab": {
          "base_uri": "https://localhost:8080/",
          "height": 34
        }
      },
      "source": [
        "print(col_new) "
      ],
      "execution_count": 12,
      "outputs": [
        {
          "output_type": "stream",
          "text": [
            "[[2 3 4]]\n"
          ],
          "name": "stdout"
        }
      ]
    },
    {
      "cell_type": "code",
      "metadata": {
        "id": "ZgDEQvW61ldl",
        "colab_type": "code",
        "colab": {}
      },
      "source": [
        "a=np.insert(a,0,col_new,axis=1) # axis=1 means insering the col"
      ],
      "execution_count": 0,
      "outputs": []
    },
    {
      "cell_type": "code",
      "metadata": {
        "id": "6e-xjzFd130L",
        "colab_type": "code",
        "outputId": "731651ab-8aab-4134-f8c8-bc0c4cf1f7cc",
        "colab": {
          "base_uri": "https://localhost:8080/",
          "height": 67
        }
      },
      "source": [
        "print(a)"
      ],
      "execution_count": 14,
      "outputs": [
        {
          "output_type": "stream",
          "text": [
            "[[ 2  1  2  3  4]\n",
            " [ 3  4  5  6  7]\n",
            " [ 4  7  8  9 10]]\n"
          ],
          "name": "stdout"
        }
      ]
    },
    {
      "cell_type": "markdown",
      "metadata": {
        "id": "nTtRLEt82Qpm",
        "colab_type": "text"
      },
      "source": [
        "**Adding the matrix ‘ row_new ’ as a new row to a**"
      ]
    },
    {
      "cell_type": "code",
      "metadata": {
        "id": "8Uo14PnR1-Y-",
        "colab_type": "code",
        "colab": {}
      },
      "source": [
        "row_new = np.matrix(\"11,12,13,14,15\") "
      ],
      "execution_count": 0,
      "outputs": []
    },
    {
      "cell_type": "code",
      "metadata": {
        "id": "aIIi3T7Z2mux",
        "colab_type": "code",
        "colab": {}
      },
      "source": [
        "a = np.insert(a,2,row_new,axis=0) #axis = 0 means inserting the rows"
      ],
      "execution_count": 0,
      "outputs": []
    },
    {
      "cell_type": "code",
      "metadata": {
        "id": "ytqduqDY2zwl",
        "colab_type": "code",
        "outputId": "d06050f5-d4a6-45a3-eaed-c59fdfbf074a",
        "colab": {
          "base_uri": "https://localhost:8080/",
          "height": 84
        }
      },
      "source": [
        "print(a)"
      ],
      "execution_count": 17,
      "outputs": [
        {
          "output_type": "stream",
          "text": [
            "[[ 2  1  2  3  4]\n",
            " [ 3  4  5  6  7]\n",
            " [11 12 13 14 15]\n",
            " [ 4  7  8  9 10]]\n"
          ],
          "name": "stdout"
        }
      ]
    },
    {
      "cell_type": "markdown",
      "metadata": {
        "id": "4oCLkpJo27sc",
        "colab_type": "text"
      },
      "source": [
        "### Modifying matrix using index\n",
        "* Elements of matrix can be modified using index number"
      ]
    },
    {
      "cell_type": "code",
      "metadata": {
        "id": "5KeclZOE3MtD",
        "colab_type": "code",
        "outputId": "1d929c83-b259-45f0-d57e-19a667226249",
        "colab": {
          "base_uri": "https://localhost:8080/",
          "height": 84
        }
      },
      "source": [
        "print(a)"
      ],
      "execution_count": 18,
      "outputs": [
        {
          "output_type": "stream",
          "text": [
            "[[ 2  1  2  3  4]\n",
            " [ 3  4  5  6  7]\n",
            " [11 12 13 14 15]\n",
            " [ 4  7  8  9 10]]\n"
          ],
          "name": "stdout"
        }
      ]
    },
    {
      "cell_type": "code",
      "metadata": {
        "id": "IEAj6uKF3ON9",
        "colab_type": "code",
        "colab": {}
      },
      "source": [
        "a[1,1] = -3"
      ],
      "execution_count": 0,
      "outputs": []
    },
    {
      "cell_type": "code",
      "metadata": {
        "id": "4UDNg7nD3Q0g",
        "colab_type": "code",
        "outputId": "777f8153-c551-4b9e-e6ff-1141d4d95f22",
        "colab": {
          "base_uri": "https://localhost:8080/",
          "height": 84
        }
      },
      "source": [
        "print(a)"
      ],
      "execution_count": 20,
      "outputs": [
        {
          "output_type": "stream",
          "text": [
            "[[ 2  1  2  3  4]\n",
            " [ 3 -3  5  6  7]\n",
            " [11 12 13 14 15]\n",
            " [ 4  7  8  9 10]]\n"
          ],
          "name": "stdout"
        }
      ]
    },
    {
      "cell_type": "markdown",
      "metadata": {
        "id": "zlfPHEAj3Y6M",
        "colab_type": "text"
      },
      "source": [
        "### Accessing elements of matrix using index\n"
      ]
    },
    {
      "cell_type": "code",
      "metadata": {
        "id": "9CB4PC5h3X8r",
        "colab_type": "code",
        "outputId": "3a0ef0b5-4909-4bee-b216-73b644643431",
        "colab": {
          "base_uri": "https://localhost:8080/",
          "height": 34
        }
      },
      "source": [
        "a[:1,:] #Extract elements from second row of matrix a"
      ],
      "execution_count": 21,
      "outputs": [
        {
          "output_type": "execute_result",
          "data": {
            "text/plain": [
              "matrix([[2, 1, 2, 3, 4]])"
            ]
          },
          "metadata": {
            "tags": []
          },
          "execution_count": 21
        }
      ]
    },
    {
      "cell_type": "code",
      "metadata": {
        "id": "uaO42elD3SG8",
        "colab_type": "code",
        "outputId": "585ab961-bee5-4c30-efb7-e066bd4b6979",
        "colab": {
          "base_uri": "https://localhost:8080/",
          "height": 50
        }
      },
      "source": [
        "a[1:3,1:3]"
      ],
      "execution_count": 22,
      "outputs": [
        {
          "output_type": "execute_result",
          "data": {
            "text/plain": [
              "matrix([[-3,  5],\n",
              "        [12, 13]])"
            ]
          },
          "metadata": {
            "tags": []
          },
          "execution_count": 22
        }
      ]
    },
    {
      "cell_type": "code",
      "metadata": {
        "id": "l_bsLqen3mGR",
        "colab_type": "code",
        "outputId": "c8d1f11f-f274-4290-9024-040b109441d9",
        "colab": {
          "base_uri": "https://localhost:8080/",
          "height": 84
        }
      },
      "source": [
        "a[:,4] #Extract elements from third column of matrix a"
      ],
      "execution_count": 23,
      "outputs": [
        {
          "output_type": "execute_result",
          "data": {
            "text/plain": [
              "matrix([[ 4],\n",
              "        [ 7],\n",
              "        [15],\n",
              "        [10]])"
            ]
          },
          "metadata": {
            "tags": []
          },
          "execution_count": 23
        }
      ]
    },
    {
      "cell_type": "code",
      "metadata": {
        "id": "es-y7nq03z57",
        "colab_type": "code",
        "outputId": "975a8873-e973-4a44-880e-eff54e8334c6",
        "colab": {
          "base_uri": "https://localhost:8080/",
          "height": 34
        }
      },
      "source": [
        "a[1,2] #Extract element with index ( 1 ,2) from a"
      ],
      "execution_count": 24,
      "outputs": [
        {
          "output_type": "execute_result",
          "data": {
            "text/plain": [
              "5"
            ]
          },
          "metadata": {
            "tags": []
          },
          "execution_count": 24
        }
      ]
    },
    {
      "cell_type": "markdown",
      "metadata": {
        "id": "BKyGzuR84Whf",
        "colab_type": "text"
      },
      "source": [
        "\n",
        "### Matrix addition\n",
        "* numpy.add()- performs elementwise addition between two matrices \n",
        "* Syntax: numpy.add(matrix 1,matrix 2) \n",
        "\n",
        "**Create two matrix A and B**\n",
        "\n"
      ]
    },
    {
      "cell_type": "code",
      "metadata": {
        "id": "kepfxPjy4DWN",
        "colab_type": "code",
        "colab": {}
      },
      "source": [
        "A = np.matrix(np.arange(0,20)).reshape(5,4)\n",
        "B = np.matrix(np.arange(20,40)).reshape(5,4) "
      ],
      "execution_count": 0,
      "outputs": []
    },
    {
      "cell_type": "code",
      "metadata": {
        "id": "YwlVTchh4x0t",
        "colab_type": "code",
        "outputId": "96af10e9-b550-4c30-8870-212264f13c4a",
        "colab": {
          "base_uri": "https://localhost:8080/",
          "height": 101
        }
      },
      "source": [
        "print(A)"
      ],
      "execution_count": 26,
      "outputs": [
        {
          "output_type": "stream",
          "text": [
            "[[ 0  1  2  3]\n",
            " [ 4  5  6  7]\n",
            " [ 8  9 10 11]\n",
            " [12 13 14 15]\n",
            " [16 17 18 19]]\n"
          ],
          "name": "stdout"
        }
      ]
    },
    {
      "cell_type": "code",
      "metadata": {
        "id": "cIlhn21Y4zXW",
        "colab_type": "code",
        "outputId": "43ede65f-5784-4cd1-ec24-0bf6509aa1a0",
        "colab": {
          "base_uri": "https://localhost:8080/",
          "height": 101
        }
      },
      "source": [
        "print(B)"
      ],
      "execution_count": 27,
      "outputs": [
        {
          "output_type": "stream",
          "text": [
            "[[20 21 22 23]\n",
            " [24 25 26 27]\n",
            " [28 29 30 31]\n",
            " [32 33 34 35]\n",
            " [36 37 38 39]]\n"
          ],
          "name": "stdout"
        }
      ]
    },
    {
      "cell_type": "code",
      "metadata": {
        "id": "9Oqe3t0a41Tb",
        "colab_type": "code",
        "outputId": "1afb0a21-56c8-4d38-9949-1a4fe93611c7",
        "colab": {
          "base_uri": "https://localhost:8080/",
          "height": 101
        }
      },
      "source": [
        "np.add(A,B)"
      ],
      "execution_count": 28,
      "outputs": [
        {
          "output_type": "execute_result",
          "data": {
            "text/plain": [
              "matrix([[20, 22, 24, 26],\n",
              "        [28, 30, 32, 34],\n",
              "        [36, 38, 40, 42],\n",
              "        [44, 46, 48, 50],\n",
              "        [52, 54, 56, 58]])"
            ]
          },
          "metadata": {
            "tags": []
          },
          "execution_count": 28
        }
      ]
    },
    {
      "cell_type": "markdown",
      "metadata": {
        "id": "M44y3ZIE5BVu",
        "colab_type": "text"
      },
      "source": [
        ""
      ]
    },
    {
      "cell_type": "markdown",
      "metadata": {
        "colab_type": "text",
        "id": "GmIQN2H75Bo0"
      },
      "source": [
        "\n",
        "### Matrix Subtraction\n",
        "* numpy.subtract()- performs elementwise subtraction between two matrices \n",
        "* Syntax: numpy.subtract(matrix_1,matrix_2) \n",
        "\n"
      ]
    },
    {
      "cell_type": "code",
      "metadata": {
        "id": "5Zk1uzsn46ak",
        "colab_type": "code",
        "outputId": "b82c8884-87ed-4413-dd85-3753c9192b5e",
        "colab": {
          "base_uri": "https://localhost:8080/",
          "height": 101
        }
      },
      "source": [
        "np.subtract(B,A)"
      ],
      "execution_count": 29,
      "outputs": [
        {
          "output_type": "execute_result",
          "data": {
            "text/plain": [
              "matrix([[20, 20, 20, 20],\n",
              "        [20, 20, 20, 20],\n",
              "        [20, 20, 20, 20],\n",
              "        [20, 20, 20, 20],\n",
              "        [20, 20, 20, 20]])"
            ]
          },
          "metadata": {
            "tags": []
          },
          "execution_count": 29
        }
      ]
    },
    {
      "cell_type": "markdown",
      "metadata": {
        "id": "JWBCACjS5Z0s",
        "colab_type": "text"
      },
      "source": [
        ""
      ]
    },
    {
      "cell_type": "markdown",
      "metadata": {
        "colab_type": "text",
        "id": "YUftu24L5Z-k"
      },
      "source": [
        "\n",
        "### Matrix multiplication\n",
        "* numpy.dot()- performs matrix multiplication between two matrices \n",
        "* Syntax: numpy.dot(matrix_1,matrix_2) \n",
        "\n",
        "\n",
        "\n"
      ]
    },
    {
      "cell_type": "code",
      "metadata": {
        "id": "mictnLtL5Pxt",
        "colab_type": "code",
        "outputId": "5de64e3d-33cb-4913-89e1-814ea9fe2280",
        "colab": {
          "base_uri": "https://localhost:8080/",
          "height": 34
        }
      },
      "source": [
        "#np.dot(A,B) \n",
        "'''\n",
        "For matrix multiplication,\n",
        "number of columns in\n",
        "matrix A should be equal to\n",
        "number of rows in matrix B\n",
        "'''"
      ],
      "execution_count": 30,
      "outputs": [
        {
          "output_type": "execute_result",
          "data": {
            "text/plain": [
              "'\\nFor matrix multiplication,\\nnumber of columns in\\nmatrix A should be equal to\\nnumber of rows in matrix B\\n'"
            ]
          },
          "metadata": {
            "tags": []
          },
          "execution_count": 30
        }
      ]
    },
    {
      "cell_type": "code",
      "metadata": {
        "id": "v4EvuIOq5wII",
        "colab_type": "code",
        "colab": {}
      },
      "source": [
        "C = np.transpose(B)\n",
        "#Transpose matrix B to make it 4 x 5 in dimension"
      ],
      "execution_count": 0,
      "outputs": []
    },
    {
      "cell_type": "code",
      "metadata": {
        "id": "dC6zQoxRMQbq",
        "colab_type": "code",
        "outputId": "5cf8aaa8-9641-4256-a15f-e431d9eab7ef",
        "colab": {
          "base_uri": "https://localhost:8080/",
          "height": 34
        }
      },
      "source": [
        "C.shape"
      ],
      "execution_count": 32,
      "outputs": [
        {
          "output_type": "execute_result",
          "data": {
            "text/plain": [
              "(4, 5)"
            ]
          },
          "metadata": {
            "tags": []
          },
          "execution_count": 32
        }
      ]
    },
    {
      "cell_type": "code",
      "metadata": {
        "id": "NC4IcX5L6NPu",
        "colab_type": "code",
        "outputId": "535fc70e-ceff-480b-b5bb-1602cdbcc2ab",
        "colab": {
          "base_uri": "https://localhost:8080/",
          "height": 101
        }
      },
      "source": [
        "np.dot(A,C)"
      ],
      "execution_count": 33,
      "outputs": [
        {
          "output_type": "execute_result",
          "data": {
            "text/plain": [
              "matrix([[ 134,  158,  182,  206,  230],\n",
              "        [ 478,  566,  654,  742,  830],\n",
              "        [ 822,  974, 1126, 1278, 1430],\n",
              "        [1166, 1382, 1598, 1814, 2030],\n",
              "        [1510, 1790, 2070, 2350, 2630]])"
            ]
          },
          "metadata": {
            "tags": []
          },
          "execution_count": 33
        }
      ]
    },
    {
      "cell_type": "markdown",
      "metadata": {
        "id": "pS9T6QJB6av_",
        "colab_type": "text"
      },
      "source": [
        "### Elementwise Multiplication\n",
        "* numpy.multiply() performs elementwise multiplication between two matrices\n",
        "* Syntax: numpy.multiply(matrix_1,matrix_2) \n",
        "\n",
        "\n",
        "\n",
        "\n",
        "\n",
        "\n",
        "\n",
        "\n"
      ]
    },
    {
      "cell_type": "code",
      "metadata": {
        "id": "q02s0B7VMev_",
        "colab_type": "code",
        "outputId": "17f9a295-8b37-4a0c-b857-defdb2b3f159",
        "colab": {
          "base_uri": "https://localhost:8080/",
          "height": 34
        }
      },
      "source": [
        "A.shape"
      ],
      "execution_count": 34,
      "outputs": [
        {
          "output_type": "execute_result",
          "data": {
            "text/plain": [
              "(5, 4)"
            ]
          },
          "metadata": {
            "tags": []
          },
          "execution_count": 34
        }
      ]
    },
    {
      "cell_type": "code",
      "metadata": {
        "id": "J1Z1KM9bMiBg",
        "colab_type": "code",
        "outputId": "a4b00aec-747e-4838-bf79-68901a232328",
        "colab": {
          "base_uri": "https://localhost:8080/",
          "height": 34
        }
      },
      "source": [
        "B.shape"
      ],
      "execution_count": 35,
      "outputs": [
        {
          "output_type": "execute_result",
          "data": {
            "text/plain": [
              "(5, 4)"
            ]
          },
          "metadata": {
            "tags": []
          },
          "execution_count": 35
        }
      ]
    },
    {
      "cell_type": "code",
      "metadata": {
        "id": "dEMexX-o6UPb",
        "colab_type": "code",
        "outputId": "0a8510f2-5dd5-4efd-b29d-00961c2e10e6",
        "colab": {
          "base_uri": "https://localhost:8080/",
          "height": 101
        }
      },
      "source": [
        "np.multiply(A,B)"
      ],
      "execution_count": 36,
      "outputs": [
        {
          "output_type": "execute_result",
          "data": {
            "text/plain": [
              "matrix([[  0,  21,  44,  69],\n",
              "        [ 96, 125, 156, 189],\n",
              "        [224, 261, 300, 341],\n",
              "        [384, 429, 476, 525],\n",
              "        [576, 629, 684, 741]])"
            ]
          },
          "metadata": {
            "tags": []
          },
          "execution_count": 36
        }
      ]
    },
    {
      "cell_type": "markdown",
      "metadata": {
        "id": "XQc6ECr37c9f",
        "colab_type": "text"
      },
      "source": [
        "### Matrix division\n",
        "* numpy.divide() performs elementwise division between two matrices\n",
        "* Syntax: numpy.divide(matrix_1,matrix_2) "
      ]
    },
    {
      "cell_type": "code",
      "metadata": {
        "id": "JxYo_ieW7Ez6",
        "colab_type": "code",
        "outputId": "54ec3e7f-a3df-4360-847b-4575aca6a048",
        "colab": {
          "base_uri": "https://localhost:8080/",
          "height": 101
        }
      },
      "source": [
        "np.divide(A,B)"
      ],
      "execution_count": 37,
      "outputs": [
        {
          "output_type": "execute_result",
          "data": {
            "text/plain": [
              "matrix([[0.        , 0.04761905, 0.09090909, 0.13043478],\n",
              "        [0.16666667, 0.2       , 0.23076923, 0.25925926],\n",
              "        [0.28571429, 0.31034483, 0.33333333, 0.35483871],\n",
              "        [0.375     , 0.39393939, 0.41176471, 0.42857143],\n",
              "        [0.44444444, 0.45945946, 0.47368421, 0.48717949]])"
            ]
          },
          "metadata": {
            "tags": []
          },
          "execution_count": 37
        }
      ]
    },
    {
      "cell_type": "markdown",
      "metadata": {
        "id": "opx1eaQU8DTL",
        "colab_type": "text"
      },
      "source": [
        "## Summary\n",
        "  * Create matrix\n",
        "  * Matrix properties\n",
        "  * Modifying matrix\n",
        "  * Accessing element of matrix\n",
        "  * Matrix operations"
      ]
    },
    {
      "cell_type": "markdown",
      "metadata": {
        "id": "Tycank0m84ig",
        "colab_type": "text"
      },
      "source": [
        "### Linear algebra operations in python\n",
        "  * Determinant of matrix\n",
        "  * Rank of matrix\n",
        "  * Inverse of matrix\n",
        "  * Solving system of equations\n",
        "\n",
        "### Determinant of matrix\n",
        "* numipy. linalg.det ( ) - returns determinant of the matrix\n",
        "* Syntax: numpy.linalg.det(matrix) \n"
      ]
    },
    {
      "cell_type": "code",
      "metadata": {
        "id": "O4DFsdDy84BT",
        "colab_type": "code",
        "colab": {}
      },
      "source": [
        "x=np.matrix(\"4,5,16,7;2,-3,2,3;3,4,5,6;4,7,8,9\") "
      ],
      "execution_count": 0,
      "outputs": []
    },
    {
      "cell_type": "code",
      "metadata": {
        "id": "Bq03rQma2va1",
        "colab_type": "code",
        "colab": {
          "base_uri": "https://localhost:8080/",
          "height": 34
        },
        "outputId": "0736637b-766f-480c-c559-c8603329a916"
      },
      "source": [
        "np.linalg.det(x)"
      ],
      "execution_count": 39,
      "outputs": [
        {
          "output_type": "execute_result",
          "data": {
            "text/plain": [
              "128.00000000000009"
            ]
          },
          "metadata": {
            "tags": []
          },
          "execution_count": 39
        }
      ]
    },
    {
      "cell_type": "markdown",
      "metadata": {
        "id": "T8Tgp8LO2_JR",
        "colab_type": "text"
      },
      "source": [
        "### Rank of matrix\n",
        "numpy.linalg.matrix_rank( ) - returns rank of the matrix \n",
        "* Syntax: numpy.linalg.matrix_rank (matrix) \n",
        "\n"
      ]
    },
    {
      "cell_type": "code",
      "metadata": {
        "id": "3Jp1oONT27g7",
        "colab_type": "code",
        "colab": {}
      },
      "source": [
        "x=np.matrix(\"4,5,16,7;2,-3,2,3;3,4,5,6;4,7,8,9\") "
      ],
      "execution_count": 0,
      "outputs": []
    },
    {
      "cell_type": "code",
      "metadata": {
        "id": "-pgY6Odx3wiv",
        "colab_type": "code",
        "colab": {
          "base_uri": "https://localhost:8080/",
          "height": 84
        },
        "outputId": "d2828794-1274-4e54-b751-d97963ff1b58"
      },
      "source": [
        "print(x)"
      ],
      "execution_count": 41,
      "outputs": [
        {
          "output_type": "stream",
          "text": [
            "[[ 4  5 16  7]\n",
            " [ 2 -3  2  3]\n",
            " [ 3  4  5  6]\n",
            " [ 4  7  8  9]]\n"
          ],
          "name": "stdout"
        }
      ]
    },
    {
      "cell_type": "code",
      "metadata": {
        "id": "tRRT10A43pMb",
        "colab_type": "code",
        "colab": {}
      },
      "source": [
        "rank_matrix=np.linalg.matrix_rank(x) "
      ],
      "execution_count": 0,
      "outputs": []
    },
    {
      "cell_type": "code",
      "metadata": {
        "id": "FFeeOzaw3r-q",
        "colab_type": "code",
        "colab": {
          "base_uri": "https://localhost:8080/",
          "height": 34
        },
        "outputId": "460bd17e-46e9-4699-9dbf-19667c500c03"
      },
      "source": [
        "rank_matrix"
      ],
      "execution_count": 43,
      "outputs": [
        {
          "output_type": "execute_result",
          "data": {
            "text/plain": [
              "4"
            ]
          },
          "metadata": {
            "tags": []
          },
          "execution_count": 43
        }
      ]
    },
    {
      "cell_type": "markdown",
      "metadata": {
        "id": "s2F5TQfM34ot",
        "colab_type": "text"
      },
      "source": [
        "### Inverse of a matrix\n",
        "* numpy.linalg.inv( ) - returns the multiplicative inverse of a matrix\n",
        "* Syntax: numpy.linalg. inv(matrix) \n"
      ]
    },
    {
      "cell_type": "code",
      "metadata": {
        "id": "WLT-bPsk3uIr",
        "colab_type": "code",
        "colab": {}
      },
      "source": [
        "A=np.matrix(\"3,1,2;3,2,5;6,7,8\") "
      ],
      "execution_count": 0,
      "outputs": []
    },
    {
      "cell_type": "code",
      "metadata": {
        "id": "6bp6z4Nj4dGI",
        "colab_type": "code",
        "colab": {
          "base_uri": "https://localhost:8080/",
          "height": 67
        },
        "outputId": "cef8a9d0-ed36-4002-f7cd-0e262f08f82a"
      },
      "source": [
        "np.linalg.inv(A)"
      ],
      "execution_count": 45,
      "outputs": [
        {
          "output_type": "execute_result",
          "data": {
            "text/plain": [
              "matrix([[ 0.57575758, -0.18181818, -0.03030303],\n",
              "        [-0.18181818, -0.36363636,  0.27272727],\n",
              "        [-0.27272727,  0.45454545, -0.09090909]])"
            ]
          },
          "metadata": {
            "tags": []
          },
          "execution_count": 45
        }
      ]
    },
    {
      "cell_type": "code",
      "metadata": {
        "id": "Ao0tfFOM4f8j",
        "colab_type": "code",
        "colab": {}
      },
      "source": [
        "B=np.matrix(\"2,1,2;1,0,1;3,1,3\") "
      ],
      "execution_count": 0,
      "outputs": []
    },
    {
      "cell_type": "code",
      "metadata": {
        "id": "R0kBsyb75KeR",
        "colab_type": "code",
        "colab": {
          "base_uri": "https://localhost:8080/",
          "height": 34
        },
        "outputId": "50210ec4-e8d4-4cbd-8043-1461f2cedebe"
      },
      "source": [
        "B.shape"
      ],
      "execution_count": 47,
      "outputs": [
        {
          "output_type": "execute_result",
          "data": {
            "text/plain": [
              "(3, 3)"
            ]
          },
          "metadata": {
            "tags": []
          },
          "execution_count": 47
        }
      ]
    },
    {
      "cell_type": "code",
      "metadata": {
        "id": "6tqL_B6Q4xd5",
        "colab_type": "code",
        "colab": {}
      },
      "source": [
        "np.linalg.inv(B)"
      ],
      "execution_count": 0,
      "outputs": []
    },
    {
      "cell_type": "code",
      "metadata": {
        "id": "eBI7HR9V44ke",
        "colab_type": "code",
        "colab": {}
      },
      "source": [
        "np.linalg.det(B)"
      ],
      "execution_count": 0,
      "outputs": []
    },
    {
      "cell_type": "markdown",
      "metadata": {
        "id": "UR1HnIHs5jyJ",
        "colab_type": "text"
      },
      "source": [
        "### System of linear equations\n",
        "* Consider a system of linear equations\n",
        "\n",
        "> 3𝑥+𝑦+2𝑧=2\n",
        "\n",
        "> 3𝑥+2𝑦+5𝑧=−1\n",
        "\n",
        "> 6𝑥+7𝑦+8𝑧=3\n",
        "\n",
        "* Now we can write the equations in the form of Ax=b\n"
      ]
    },
    {
      "cell_type": "code",
      "metadata": {
        "id": "Q3FlF8Dv5jBZ",
        "colab_type": "code",
        "colab": {}
      },
      "source": [
        "A = np.matrix(\"3,1,2;3,2,5;6,7,8\") "
      ],
      "execution_count": 0,
      "outputs": []
    },
    {
      "cell_type": "code",
      "metadata": {
        "id": "GyCR_X_g6E8g",
        "colab_type": "code",
        "colab": {}
      },
      "source": [
        "B = np.matrix(\"2,-1,3\").reshape(3,1)"
      ],
      "execution_count": 0,
      "outputs": []
    },
    {
      "cell_type": "code",
      "metadata": {
        "id": "o1_OHPp-5BL5",
        "colab_type": "code",
        "colab": {
          "base_uri": "https://localhost:8080/",
          "height": 67
        },
        "outputId": "ffad11a1-0d7d-4161-db3e-52f02d25696f"
      },
      "source": [
        "print(A)"
      ],
      "execution_count": 51,
      "outputs": [
        {
          "output_type": "stream",
          "text": [
            "[[3 1 2]\n",
            " [3 2 5]\n",
            " [6 7 8]]\n"
          ],
          "name": "stdout"
        }
      ]
    },
    {
      "cell_type": "code",
      "metadata": {
        "id": "oVXVe-H97jzP",
        "colab_type": "code",
        "colab": {
          "base_uri": "https://localhost:8080/",
          "height": 67
        },
        "outputId": "8842727c-9441-4b5e-d7c5-c3b8db495c56"
      },
      "source": [
        "print(B)"
      ],
      "execution_count": 52,
      "outputs": [
        {
          "output_type": "stream",
          "text": [
            "[[ 2]\n",
            " [-1]\n",
            " [ 3]]\n"
          ],
          "name": "stdout"
        }
      ]
    },
    {
      "cell_type": "code",
      "metadata": {
        "id": "6T4Ue4K17lyD",
        "colab_type": "code",
        "colab": {}
      },
      "source": [
        "sol_lin = np.linalg.solve(A,B)"
      ],
      "execution_count": 0,
      "outputs": []
    },
    {
      "cell_type": "code",
      "metadata": {
        "id": "C6NRWKSA7vBF",
        "colab_type": "code",
        "colab": {
          "base_uri": "https://localhost:8080/",
          "height": 67
        },
        "outputId": "b661db63-53e1-411f-835e-5f6d6c87c846"
      },
      "source": [
        "sol_lin"
      ],
      "execution_count": 54,
      "outputs": [
        {
          "output_type": "execute_result",
          "data": {
            "text/plain": [
              "matrix([[ 1.24242424],\n",
              "        [ 0.81818182],\n",
              "        [-1.27272727]])"
            ]
          },
          "metadata": {
            "tags": []
          },
          "execution_count": 54
        }
      ]
    },
    {
      "cell_type": "markdown",
      "metadata": {
        "id": "ojBOWEEH71ms",
        "colab_type": "text"
      },
      "source": [
        "### Summary\n",
        "* Determinant of matrix\n",
        "* Rank of matrix\n",
        "* Inverse of matrix\n",
        "* Solving system of equations"
      ]
    }
  ]
}